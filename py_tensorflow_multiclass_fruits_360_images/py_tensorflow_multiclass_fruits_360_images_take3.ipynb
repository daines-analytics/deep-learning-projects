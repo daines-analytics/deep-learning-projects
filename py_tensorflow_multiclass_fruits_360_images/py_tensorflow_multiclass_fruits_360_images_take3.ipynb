{
  "nbformat": 4,
  "nbformat_minor": 0,
  "metadata": {
    "kernelspec": {
      "display_name": "Python 3",
      "language": "python",
      "name": "python3"
    },
    "language_info": {
      "codemirror_mode": {
        "name": "ipython",
        "version": 3
      },
      "file_extension": ".py",
      "mimetype": "text/x-python",
      "name": "python",
      "nbconvert_exporter": "python",
      "pygments_lexer": "ipython3",
      "version": "3.7.9"
    },
    "colab": {
      "name": "py_tensorflow_multiclass_fruits_360_images_take3.ipynb",
      "provenance": [],
      "collapsed_sections": []
    },
    "accelerator": "GPU"
  },
  "cells": [
    {
      "cell_type": "markdown",
      "metadata": {
        "id": "wm7TgCNRzYpJ"
      },
      "source": [
        "# Multi-Class Image Classification Deep Learning Model for Fruits-360 Images Using TensorFlow Take 3\n",
        "### David Lowe\n",
        "### July 5, 2021\n",
        "\n",
        "Template Credit: Adapted from a template made available by Dr. Jason Brownlee of Machine Learning Mastery. [https://machinelearningmastery.com/]\n",
        "\n",
        "SUMMARY: This project aims to construct a predictive model using a TensorFlow convolutional neural network (CNN) and document the end-to-end steps using a template. The Fruits-360 Images dataset is a multi-class classification situation where we attempt to predict one of several (for this dataset 131) possible outcomes.\n",
        "\n",
        "INTRODUCTION: This dataset contains 131 fruits and vegetables with 67692 training images and 22688 test images. All images have a resolution of 100 X 100 X 3 colors in the JPEG format. Each dataset includes 131 subdirectories, one for each type of fruit or vegetable.\n",
        "\n",
        "From iteration Take1, we constructed a CNN model based on the InceptionV3 architecture to predict the fruit or vegetable name for the image.\n",
        "\n",
        "From iteration Take2, we constructed a CNN model based on the ResNet50 architecture to predict the fruit or vegetable name for the image.\n",
        "\n",
        "In this Take3 iteration, we will construct a CNN model based on the MobileNet architecture to predict the fruit or vegetable name for the image.\n",
        "\n",
        "ANALYSIS: From iteration Take1, the InceptionV3 model's performance achieved an accuracy score of 99.46% after five epochs using the validation dataset. The same model processed the test dataset with an accuracy score of 98.03%.\n",
        "\n",
        "From iteration Take2, the ResNet50 model's performance achieved an accuracy score of 99.91% after five epochs using the validation dataset. The same model processed the test dataset with an accuracy score of 99.48%.\n",
        "\n",
        "In this Take3 iteration, the MobileNet model's performance achieved an accuracy score of 99.93% after five epochs using the validation dataset. The same model processed the test dataset with an accuracy score of 98.99%.\n",
        "\n",
        "CONCLUSION: In this iteration, the MobileNet-based CNN model appeared to be suitable for modeling this dataset. We should consider experimenting with TensorFlow for further modeling.\n",
        "\n",
        "Dataset Used: Fruits-360: A dataset of images containing fruits and vegetables.\n",
        "\n",
        "Dataset ML Model: Multi-class image classification with numerical attributes\n",
        "\n",
        "Dataset Reference: https://github.com/Horea94/Fruit-Images-Dataset\n",
        "\n",
        "One potential source of performance benchmarks: https://www.researchgate.net/publication/321475443_Fruit_recognition_from_images_using_deep_learning\n",
        "\n",
        "A deep-learning image classification project generally can be broken down into five major tasks:\n",
        "\n",
        "1. Prepare Environment\n",
        "2. Load and Prepare Images\n",
        "3. Define and Train Models\n",
        "4. Evaluate and Optimize Models\n",
        "5. Finalize Model and Make Predictions"
      ]
    },
    {
      "cell_type": "markdown",
      "metadata": {
        "id": "yjz77tzczYpL"
      },
      "source": [
        "# Task 1 - Prepare Environment"
      ]
    },
    {
      "cell_type": "code",
      "metadata": {
        "id": "yymMW8D4zYpM"
      },
      "source": [
        "# Install the packages to support accessing environment variable and SQL databases\n",
        "# !pip install python-dotenv PyMySQL boto3"
      ],
      "execution_count": 1,
      "outputs": []
    },
    {
      "cell_type": "code",
      "metadata": {
        "id": "WTBLbPj6zYpP",
        "colab": {
          "base_uri": "https://localhost:8080/"
        },
        "outputId": "404723b2-935b-46af-f3a9-7df81def569f"
      },
      "source": [
        "# Retrieve GPU configuration information from Colab\n",
        "gpu_info = !nvidia-smi\n",
        "gpu_info = '\\n'.join(gpu_info)\n",
        "if gpu_info.find('failed') >= 0:\n",
        "    print('Select the Runtime → \"Change runtime type\" menu to enable a GPU accelerator, ')\n",
        "    print('and then re-execute this cell.')\n",
        "else:\n",
        "    print(gpu_info)"
      ],
      "execution_count": 2,
      "outputs": [
        {
          "output_type": "stream",
          "text": [
            "Tue Jun 29 13:54:02 2021       \n",
            "+-----------------------------------------------------------------------------+\n",
            "| NVIDIA-SMI 465.27       Driver Version: 460.32.03    CUDA Version: 11.2     |\n",
            "|-------------------------------+----------------------+----------------------+\n",
            "| GPU  Name        Persistence-M| Bus-Id        Disp.A | Volatile Uncorr. ECC |\n",
            "| Fan  Temp  Perf  Pwr:Usage/Cap|         Memory-Usage | GPU-Util  Compute M. |\n",
            "|                               |                      |               MIG M. |\n",
            "|===============================+======================+======================|\n",
            "|   0  Tesla P100-PCIE...  Off  | 00000000:00:04.0 Off |                    0 |\n",
            "| N/A   45C    P0    41W / 250W |      0MiB / 16280MiB |      0%      Default |\n",
            "|                               |                      |                  N/A |\n",
            "+-------------------------------+----------------------+----------------------+\n",
            "                                                                               \n",
            "+-----------------------------------------------------------------------------+\n",
            "| Processes:                                                                  |\n",
            "|  GPU   GI   CI        PID   Type   Process name                  GPU Memory |\n",
            "|        ID   ID                                                   Usage      |\n",
            "|=============================================================================|\n",
            "|  No running processes found                                                 |\n",
            "+-----------------------------------------------------------------------------+\n"
          ],
          "name": "stdout"
        }
      ]
    },
    {
      "cell_type": "code",
      "metadata": {
        "id": "NPBJM3QLzYpR",
        "colab": {
          "base_uri": "https://localhost:8080/"
        },
        "outputId": "65664476-9ce1-43c1-ad48-1ad00e008eb8"
      },
      "source": [
        "# Retrieve memory configuration information from Colab\n",
        "from psutil import virtual_memory\n",
        "ram_gb = virtual_memory().total / 1e9\n",
        "print('Your runtime has {:.1f} gigabytes of available RAM\\n'.format(ram_gb))\n",
        "\n",
        "if ram_gb < 20:\n",
        "    print('To enable a high-RAM runtime, select the Runtime → \"Change runtime type\"')\n",
        "    print('menu, and then select High-RAM in the Runtime shape dropdown. Then, ')\n",
        "    print('re-execute this cell.')\n",
        "else:\n",
        "    print('You are using a high-RAM runtime!')"
      ],
      "execution_count": 3,
      "outputs": [
        {
          "output_type": "stream",
          "text": [
            "Your runtime has 13.6 gigabytes of available RAM\n",
            "\n",
            "To enable a high-RAM runtime, select the Runtime → \"Change runtime type\"\n",
            "menu, and then select High-RAM in the Runtime shape dropdown. Then, \n",
            "re-execute this cell.\n"
          ],
          "name": "stdout"
        }
      ]
    },
    {
      "cell_type": "code",
      "metadata": {
        "id": "Rt62MLGBzYpV",
        "colab": {
          "base_uri": "https://localhost:8080/"
        },
        "outputId": "d9c49c68-dffb-4db4-ecf3-2f4b9b23a16d"
      },
      "source": [
        "# Retrieve CPU information from the system\n",
        "ncpu = !nproc\n",
        "print(\"The number of available CPUs is:\", ncpu[0])"
      ],
      "execution_count": 4,
      "outputs": [
        {
          "output_type": "stream",
          "text": [
            "The number of available CPUs is: 2\n"
          ],
          "name": "stdout"
        }
      ]
    },
    {
      "cell_type": "markdown",
      "metadata": {
        "id": "JU6CoUSHzYpX"
      },
      "source": [
        "## 1.a) Load libraries and modules"
      ]
    },
    {
      "cell_type": "code",
      "metadata": {
        "id": "5vLXzBGlzYpX"
      },
      "source": [
        "# Set the random seed number for reproducible results\n",
        "RNG_SEED = 888"
      ],
      "execution_count": 5,
      "outputs": []
    },
    {
      "cell_type": "code",
      "metadata": {
        "id": "7OPrZkvnzYpZ"
      },
      "source": [
        "# Load libraries and packages\n",
        "import random\n",
        "import numpy as np\n",
        "import pandas as pd\n",
        "import matplotlib.pyplot as plt\n",
        "import matplotlib.image as mpimg\n",
        "import os\n",
        "import sys\n",
        "from datetime import datetime\n",
        "import zipfile\n",
        "import h5py\n",
        "# import boto3\n",
        "# from dotenv import load_dotenv\n",
        "from sklearn import preprocessing\n",
        "from sklearn.model_selection import train_test_split\n",
        "from sklearn.metrics import accuracy_score\n",
        "from sklearn.metrics import confusion_matrix\n",
        "from sklearn.metrics import classification_report\n",
        "import tensorflow as tf\n",
        "from tensorflow import keras\n",
        "from tensorflow.keras.preprocessing.image import ImageDataGenerator\n",
        "from tensorflow.keras.callbacks import ReduceLROnPlateau"
      ],
      "execution_count": 6,
      "outputs": []
    },
    {
      "cell_type": "markdown",
      "metadata": {
        "id": "j_DlsgItzYpb"
      },
      "source": [
        "## 1.b) Set up the controlling parameters and functions"
      ]
    },
    {
      "cell_type": "code",
      "metadata": {
        "id": "YidrXfyszYpc",
        "colab": {
          "base_uri": "https://localhost:8080/"
        },
        "outputId": "a4742b87-005d-4335-a71f-89086333ebfa"
      },
      "source": [
        "# Begin the timer for the script processing\n",
        "start_time_script = datetime.now()\n",
        "\n",
        "# Set up the number of CPU cores available for multi-thread processing\n",
        "N_JOBS = 1\n",
        "\n",
        "# Set up the flag to stop sending progress emails (setting to True will send status emails!)\n",
        "NOTIFY_STATUS = False\n",
        "\n",
        "# Set the percentage sizes for splitting the dataset\n",
        "# VAL_SET_RATIO = 0.3\n",
        "# TEST_SET_RATIO = 0.5\n",
        "\n",
        "# Set various default modeling parameters\n",
        "DEFAULT_LOSS = 'categorical_crossentropy'\n",
        "DEFAULT_METRICS = ['accuracy']\n",
        "DEFAULT_OPTIMIZER = tf.keras.optimizers.Adam(learning_rate=0.0001)\n",
        "DEFAULT_INITIALIZER = tf.keras.initializers.RandomNormal(seed=RNG_SEED)\n",
        "CLASSIFIER_ACTIVATION = 'softmax'\n",
        "MAX_EPOCHS = 5\n",
        "BATCH_SIZE = 32\n",
        "RAW_IMAGE_SIZE = (100, 100)\n",
        "TARGET_IMAGE_SIZE = (128, 128)\n",
        "INPUT_IMAGE_SHAPE = (TARGET_IMAGE_SIZE[0], TARGET_IMAGE_SIZE[1], 3)\n",
        "\n",
        "NUM_CLASSES = 131\n",
        "# CLASS_LABELS = []\n",
        "# CLASS_NAMES = []\n",
        "\n",
        "# Define the labels to use for graphing the data\n",
        "train_metric = \"accuracy\"\n",
        "validation_metric = \"val_accuracy\"\n",
        "train_loss = \"loss\"\n",
        "validation_loss = \"val_loss\"\n",
        "\n",
        "# Define the directory locations and file names\n",
        "STAGING_DIR = 'staging/'\n",
        "TRAIN_DIR = 'staging/Fruit-Images-Dataset-master/Training/'\n",
        "# VALID_DIR = ''\n",
        "TEST_DIR = 'staging/Fruit-Images-Dataset-master/Test/'\n",
        "# TRAIN_DATASET = ''\n",
        "# VALID_DATASET = ''\n",
        "# TEST_DATASET = ''\n",
        "# TRAIN_LABELS = ''\n",
        "# VALID_LABELS = ''\n",
        "# TEST_LABELS = ''\n",
        "# OUTPUT_DIR = 'staging/'\n",
        "# SAMPLE_SUBMISSION_CSV = 'sample_submission.csv'\n",
        "# FINAL_SUBMISSION_CSV = 'submission.csv'\n",
        "\n",
        "# Check the number of GPUs accessible through TensorFlow\n",
        "print('Num GPUs Available:', len(tf.config.list_physical_devices('GPU')))\n",
        "\n",
        "# Print out the TensorFlow version for confirmation\n",
        "print('TensorFlow version:', tf.__version__)"
      ],
      "execution_count": 7,
      "outputs": [
        {
          "output_type": "stream",
          "text": [
            "Num GPUs Available: 1\n",
            "TensorFlow version: 2.5.0\n"
          ],
          "name": "stdout"
        }
      ]
    },
    {
      "cell_type": "code",
      "metadata": {
        "id": "W-a57IMqzYph"
      },
      "source": [
        "# Set up the email notification function\n",
        "def status_notify(msg_text):\n",
        "    access_key = os.environ.get('SNS_ACCESS_KEY')\n",
        "    secret_key = os.environ.get('SNS_SECRET_KEY')\n",
        "    aws_region = os.environ.get('SNS_AWS_REGION')\n",
        "    topic_arn = os.environ.get('SNS_TOPIC_ARN')\n",
        "    if (access_key is None) or (secret_key is None) or (aws_region is None):\n",
        "        sys.exit(\"Incomplete notification setup info. Script Processing Aborted!!!\")\n",
        "    sns = boto3.client('sns', aws_access_key_id=access_key, aws_secret_access_key=secret_key, region_name=aws_region)\n",
        "    response = sns.publish(TopicArn=topic_arn, Message=msg_text)\n",
        "    if response['ResponseMetadata']['HTTPStatusCode'] != 200 :\n",
        "        print('Status notification not OK with HTTP status code:', response['ResponseMetadata']['HTTPStatusCode'])"
      ],
      "execution_count": 8,
      "outputs": []
    },
    {
      "cell_type": "code",
      "metadata": {
        "id": "gCnz7I5wzYpi"
      },
      "source": [
        "if NOTIFY_STATUS: status_notify('(TensorFlow Multi-Class) Task 1 - Prepare Environment has begun on ' + datetime.now().strftime('%A %B %d, %Y %I:%M:%S %p'))"
      ],
      "execution_count": 9,
      "outputs": []
    },
    {
      "cell_type": "code",
      "metadata": {
        "id": "-b-SwoTszYpk"
      },
      "source": [
        "# Reset the random number generators\n",
        "def reset_random(x=RNG_SEED):\n",
        "    random.seed(x)\n",
        "    np.random.seed(x)\n",
        "    tf.random.set_seed(x)"
      ],
      "execution_count": 10,
      "outputs": []
    },
    {
      "cell_type": "code",
      "metadata": {
        "jupyter": {
          "outputs_hidden": false
        },
        "pycharm": {
          "name": "#%%\n"
        },
        "id": "TkZYm2ZmzYpl"
      },
      "source": [
        "if NOTIFY_STATUS: status_notify('(TensorFlow Multi-Class) Task 1 - Prepare Environment completed on ' + datetime.now().strftime('%A %B %d, %Y %I:%M:%S %p'))"
      ],
      "execution_count": 11,
      "outputs": []
    },
    {
      "cell_type": "markdown",
      "metadata": {
        "pycharm": {
          "name": "#%% md\n"
        },
        "id": "CMKAG-YIzYpn"
      },
      "source": [
        "# Task 2 - Load and Prepare Images"
      ]
    },
    {
      "cell_type": "code",
      "metadata": {
        "jupyter": {
          "outputs_hidden": false
        },
        "pycharm": {
          "name": "#%%\n"
        },
        "id": "xHtS66j4zYpo"
      },
      "source": [
        "if NOTIFY_STATUS: status_notify('(TensorFlow Multi-Class) Task 2 - Load and Prepare Images has begun on ' + datetime.now().strftime('%A %B %d, %Y %I:%M:%S %p'))"
      ],
      "execution_count": 12,
      "outputs": []
    },
    {
      "cell_type": "code",
      "metadata": {
        "id": "iI1RPsfzzYpr",
        "colab": {
          "base_uri": "https://localhost:8080/"
        },
        "outputId": "c5d9325d-9e95-46b0-8a21-72ce8c3abf34"
      },
      "source": [
        "!rm -rf staging/\n",
        "!mkdir staging/\n",
        "!rm Fruit-Images-Dataset-master.zip\n",
        "!wget https://dainesanalytics.com/datasets/kaggle-fruits-360-images/Fruit-Images-Dataset-master.zip"
      ],
      "execution_count": 13,
      "outputs": [
        {
          "output_type": "stream",
          "text": [
            "--2021-06-29 13:54:06--  https://dainesanalytics.com/datasets/kaggle-fruits-360-images/Fruit-Images-Dataset-master.zip\n",
            "Resolving dainesanalytics.com (dainesanalytics.com)... 13.227.211.48, 13.227.211.117, 13.227.211.6, ...\n",
            "Connecting to dainesanalytics.com (dainesanalytics.com)|13.227.211.48|:443... connected.\n",
            "HTTP request sent, awaiting response... 200 OK\n",
            "Length: 798281939 (761M) [application/zip]\n",
            "Saving to: ‘Fruit-Images-Dataset-master.zip’\n",
            "\n",
            "Fruit-Images-Datase 100%[===================>] 761.30M   186MB/s    in 4.2s    \n",
            "\n",
            "2021-06-29 13:54:10 (180 MB/s) - ‘Fruit-Images-Dataset-master.zip’ saved [798281939/798281939]\n",
            "\n"
          ],
          "name": "stdout"
        }
      ]
    },
    {
      "cell_type": "code",
      "metadata": {
        "id": "oFS8xhMSZn-m"
      },
      "source": [
        "dataset_zip = 'Fruit-Images-Dataset-master.zip'\n",
        "zip_ref = zipfile.ZipFile(dataset_zip, 'r')\n",
        "zip_ref.extractall(STAGING_DIR)\n",
        "zip_ref.close()"
      ],
      "execution_count": 14,
      "outputs": []
    },
    {
      "cell_type": "code",
      "metadata": {
        "colab": {
          "base_uri": "https://localhost:8080/"
        },
        "id": "oTDVdDpybkPn",
        "outputId": "c640e75a-e316-4247-ca9a-a3c5296a08a0"
      },
      "source": [
        "datagen_kwargs = dict(rescale=1./255)\n",
        "training_datagen = ImageDataGenerator(**datagen_kwargs)\n",
        "# validation_datagen = ImageDataGenerator(**datagen_kwargs)\n",
        "dataflow_kwargs = dict(class_mode=\"categorical\")\n",
        "\n",
        "do_data_augmentation = False\n",
        "if do_data_augmentation:\n",
        "    training_datagen = ImageDataGenerator(rotation_range=90,\n",
        "                                          horizontal_flip=True,\n",
        "                                          vertical_flip=True,\n",
        "                                          **datagen_kwargs)\n",
        "\n",
        "print('Loading and pre-processing the training images...')\n",
        "training_generator = training_datagen.flow_from_directory(directory=TRAIN_DIR,\n",
        "                                                          target_size=TARGET_IMAGE_SIZE,\n",
        "                                                          shuffle=True,\n",
        "                                                          seed=RNG_SEED,\n",
        "                                                          **dataflow_kwargs)\n",
        "print('Number of image batches per epoch of modeling:', len(training_generator))\n",
        "\n",
        "# print('Loading and pre-processing the validation images...')\n",
        "# validation_generator = validation_datagen.flow_from_directory(directory=VALID_DIR,\n",
        "#                                                               target_size=TARGET_IMAGE_SIZE,\n",
        "#                                                               shuffle=False,\n",
        "#                                                               **dataflow_kwargs)\n",
        "# print('Number of image batches per epoch of modeling:', len(validation_generator))"
      ],
      "execution_count": 15,
      "outputs": [
        {
          "output_type": "stream",
          "text": [
            "Loading and pre-processing the training images...\n",
            "Found 67692 images belonging to 131 classes.\n",
            "Number of image batches per epoch of modeling: 2116\n"
          ],
          "name": "stdout"
        }
      ]
    },
    {
      "cell_type": "code",
      "metadata": {
        "id": "_C7U2LGuzYp7"
      },
      "source": [
        "if NOTIFY_STATUS: status_notify('(TensorFlow Multi-Class) Task 2 - Load and Prepare Images completed on ' + datetime.now().strftime('%A %B %d, %Y %I:%M:%S %p'))"
      ],
      "execution_count": 16,
      "outputs": []
    },
    {
      "cell_type": "markdown",
      "metadata": {
        "id": "Q1zN_4yTzYp8"
      },
      "source": [
        "# Task 3 - Define and Train Models"
      ]
    },
    {
      "cell_type": "code",
      "metadata": {
        "id": "Do8vW0SIzYp9"
      },
      "source": [
        "if NOTIFY_STATUS: status_notify('(TensorFlow Multi-Class) Task 3 - Define and Train Models has begun on ' + datetime.now().strftime('%A %B %d, %Y %I:%M:%S %p'))"
      ],
      "execution_count": 17,
      "outputs": []
    },
    {
      "cell_type": "code",
      "metadata": {
        "id": "TxzTYyrwzYp-"
      },
      "source": [
        "# Define the function for plotting training results for comparison\n",
        "def plot_metrics(history):\n",
        "    fig, axs = plt.subplots(1, 2, figsize=(24, 15))\n",
        "    metrics =  [train_loss, train_metric]\n",
        "    for n, metric in enumerate(metrics):\n",
        "        name = metric.replace(\"_\",\" \").capitalize()\n",
        "        plt.subplot(2,2,n+1)\n",
        "        plt.plot(history.epoch, history.history[metric], color='blue', label='Train')\n",
        "        # plt.plot(history.epoch, history.history['val_'+metric], color='red', linestyle=\"--\", label='Val')\n",
        "        plt.xlabel('Epoch')\n",
        "        plt.ylabel(name)\n",
        "        if metric == train_loss:\n",
        "            plt.ylim([0, plt.ylim()[1]])\n",
        "        else:\n",
        "            plt.ylim([0.5, 1.1])\n",
        "        plt.legend()"
      ],
      "execution_count": 18,
      "outputs": []
    },
    {
      "cell_type": "code",
      "metadata": {
        "id": "M2nXRu9mzYqA"
      },
      "source": [
        "# Define the baseline model for benchmarking\n",
        "def create_nn_model(input_param=INPUT_IMAGE_SHAPE, output_param=NUM_CLASSES, classifier_activation=CLASSIFIER_ACTIVATION,\n",
        "                    loss_param=DEFAULT_LOSS, opt_param=DEFAULT_OPTIMIZER, metrics_param=DEFAULT_METRICS):\n",
        "    base_model = keras.applications.mobilenet.MobileNet(include_top=False, weights='imagenet', input_shape=input_param, pooling='avg')\n",
        "    nn_model = keras.models.Sequential()\n",
        "    nn_model.add(base_model)\n",
        "    nn_model.add(keras.layers.Flatten())\n",
        "    nn_model.add(keras.layers.Dense(output_param, activation=classifier_activation))\n",
        "    nn_model.compile(loss=loss_param, optimizer=opt_param, metrics=metrics_param)\n",
        "    return nn_model"
      ],
      "execution_count": 19,
      "outputs": []
    },
    {
      "cell_type": "code",
      "metadata": {
        "id": "OcVElo2TzYqC",
        "colab": {
          "base_uri": "https://localhost:8080/"
        },
        "outputId": "fd710ba6-94b4-4e5a-a125-2caae8ebe0a6"
      },
      "source": [
        "# Initialize the neural network model and get the training results for plotting graph\n",
        "start_time_module = datetime.now()\n",
        "# learning_rate_reduction = ReduceLROnPlateau(monitor='val_accuracy', patience = 3, verbose=1, factor=0.5, min_lr=0.000001)\n",
        "reset_random()\n",
        "nn_model_0 = create_nn_model()\n",
        "nn_model_history = nn_model_0.fit(training_generator,\n",
        "                                  epochs=MAX_EPOCHS,\n",
        "                                #   validation_data=validation_generator,\n",
        "                                #   callbacks=[learning_rate_reduction],\n",
        "                                  verbose=1)\n",
        "print('Total time for model fitting:', (datetime.now() - start_time_module))"
      ],
      "execution_count": 20,
      "outputs": [
        {
          "output_type": "stream",
          "text": [
            "Epoch 1/5\n",
            "2116/2116 [==============================] - 117s 53ms/step - loss: 0.1763 - accuracy: 0.9715\n",
            "Epoch 2/5\n",
            "2116/2116 [==============================] - 113s 53ms/step - loss: 0.0015 - accuracy: 1.0000\n",
            "Epoch 3/5\n",
            "2116/2116 [==============================] - 113s 53ms/step - loss: 8.2367e-04 - accuracy: 1.0000\n",
            "Epoch 4/5\n",
            "2116/2116 [==============================] - 112s 53ms/step - loss: 0.0056 - accuracy: 0.9988\n",
            "Epoch 5/5\n",
            "2116/2116 [==============================] - 112s 53ms/step - loss: 0.0038 - accuracy: 0.9993\n",
            "Total time for model fitting: 0:09:28.103231\n"
          ],
          "name": "stdout"
        }
      ]
    },
    {
      "cell_type": "code",
      "metadata": {
        "id": "B3TrVKk4zYqE",
        "colab": {
          "base_uri": "https://localhost:8080/"
        },
        "outputId": "dddf8e95-6725-4e57-97bc-57ef4683502c"
      },
      "source": [
        "nn_model_0.summary()"
      ],
      "execution_count": 21,
      "outputs": [
        {
          "output_type": "stream",
          "text": [
            "Model: \"sequential\"\n",
            "_________________________________________________________________\n",
            "Layer (type)                 Output Shape              Param #   \n",
            "=================================================================\n",
            "mobilenet_1.00_128 (Function (None, 1024)              3228864   \n",
            "_________________________________________________________________\n",
            "flatten (Flatten)            (None, 1024)              0         \n",
            "_________________________________________________________________\n",
            "dense (Dense)                (None, 131)               134275    \n",
            "=================================================================\n",
            "Total params: 3,363,139\n",
            "Trainable params: 3,341,251\n",
            "Non-trainable params: 21,888\n",
            "_________________________________________________________________\n"
          ],
          "name": "stdout"
        }
      ]
    },
    {
      "cell_type": "code",
      "metadata": {
        "id": "xPh-jQdtzYqF",
        "colab": {
          "base_uri": "https://localhost:8080/",
          "height": 437
        },
        "outputId": "61958c8a-ab91-435e-88bd-7b18eb453ac1"
      },
      "source": [
        "plot_metrics(nn_model_history)"
      ],
      "execution_count": 22,
      "outputs": [
        {
          "output_type": "display_data",
          "data": {
            "image/png": "[encoded data removed]",
            "text/plain": [
              "<Figure size 1728x1080 with 2 Axes>"
            ]
          },
          "metadata": {
            "tags": [],
            "needs_background": "light"
          }
        }
      ]
    },
    {
      "cell_type": "code",
      "metadata": {
        "jupyter": {
          "outputs_hidden": false
        },
        "pycharm": {
          "name": "#%%\n"
        },
        "id": "QGtVTxNYzYqG"
      },
      "source": [
        "if NOTIFY_STATUS: status_notify('(TensorFlow Multi-Class) Task 3 - Define and Train Models completed on ' + datetime.now().strftime('%A %B %d, %Y %I:%M:%S %p'))"
      ],
      "execution_count": 23,
      "outputs": []
    },
    {
      "cell_type": "markdown",
      "metadata": {
        "id": "bWEbAyjvzYqI"
      },
      "source": [
        "# Task 4 - Evaluate and Optimize Models"
      ]
    },
    {
      "cell_type": "code",
      "metadata": {
        "jupyter": {
          "outputs_hidden": false
        },
        "pycharm": {
          "name": "#%%\n"
        },
        "id": "_8DuSNAtzYqI"
      },
      "source": [
        "if NOTIFY_STATUS: status_notify('(TensorFlow Multi-Class) Task 4 - Evaluate and Optimize Models has begun on ' + datetime.now().strftime('%A %B %d, %Y %I:%M:%S %p'))"
      ],
      "execution_count": 24,
      "outputs": []
    },
    {
      "cell_type": "code",
      "metadata": {
        "id": "79R9HvH-zYqK"
      },
      "source": [
        "# Not applicable for this iteration of modeling"
      ],
      "execution_count": 25,
      "outputs": []
    },
    {
      "cell_type": "code",
      "metadata": {
        "id": "fF1O3KjHzYqO"
      },
      "source": [
        "if NOTIFY_STATUS: status_notify('(TensorFlow Multi-Class) Task 4 - Evaluate and Optimize Models completed on ' + datetime.now().strftime('%A %B %d, %Y %I:%M:%S %p'))"
      ],
      "execution_count": 26,
      "outputs": []
    },
    {
      "cell_type": "markdown",
      "metadata": {
        "id": "MJJTdK-hzYqP"
      },
      "source": [
        "# Task 5 - Finalize Model and Make Predictions"
      ]
    },
    {
      "cell_type": "code",
      "metadata": {
        "id": "PzeqrJJTzYqP"
      },
      "source": [
        "if NOTIFY_STATUS: status_notify('(TensorFlow Multi-Class) Task 5 - Finalize Model and Make Predictions has begun on ' + datetime.now().strftime('%A %B %d, %Y %I:%M:%S %p'))"
      ],
      "execution_count": 27,
      "outputs": []
    },
    {
      "cell_type": "code",
      "metadata": {
        "id": "PZqto6MSfQf0",
        "colab": {
          "base_uri": "https://localhost:8080/"
        },
        "outputId": "0093e20d-3fb3-49d6-a925-37f14640ac25"
      },
      "source": [
        "final_model = nn_model_0\n",
        "final_model.summary()"
      ],
      "execution_count": 28,
      "outputs": [
        {
          "output_type": "stream",
          "text": [
            "Model: \"sequential\"\n",
            "_________________________________________________________________\n",
            "Layer (type)                 Output Shape              Param #   \n",
            "=================================================================\n",
            "mobilenet_1.00_128 (Function (None, 1024)              3228864   \n",
            "_________________________________________________________________\n",
            "flatten (Flatten)            (None, 1024)              0         \n",
            "_________________________________________________________________\n",
            "dense (Dense)                (None, 131)               134275    \n",
            "=================================================================\n",
            "Total params: 3,363,139\n",
            "Trainable params: 3,341,251\n",
            "Non-trainable params: 21,888\n",
            "_________________________________________________________________\n"
          ],
          "name": "stdout"
        }
      ]
    },
    {
      "cell_type": "code",
      "metadata": {
        "id": "SEHPWfiAzYqR",
        "colab": {
          "base_uri": "https://localhost:8080/"
        },
        "outputId": "06703fa2-2511-4bfa-9e0c-85980499634c"
      },
      "source": [
        "print('Loading and pre-processing the testing images...')\n",
        "testing_datagen = ImageDataGenerator(**datagen_kwargs)\n",
        "testing_generator = testing_datagen.flow_from_directory(directory=TEST_DIR,\n",
        "                                                        target_size=TARGET_IMAGE_SIZE,\n",
        "                                                        shuffle=False,\n",
        "                                                        **dataflow_kwargs)\n",
        "print('Number of image batches per epoch of modeling:', len(testing_generator))"
      ],
      "execution_count": 29,
      "outputs": [
        {
          "output_type": "stream",
          "text": [
            "Loading and pre-processing the testing images...\n",
            "Found 22688 images belonging to 131 classes.\n",
            "Number of image batches per epoch of modeling: 709\n"
          ],
          "name": "stdout"
        }
      ]
    },
    {
      "cell_type": "code",
      "metadata": {
        "colab": {
          "base_uri": "https://localhost:8080/"
        },
        "id": "NwIwtk3sP6r-",
        "outputId": "4cd89de1-c286-4cc7-a7c7-8a9f5bdc04ce"
      },
      "source": [
        "final_model.evaluate(testing_generator, verbose=1)"
      ],
      "execution_count": 30,
      "outputs": [
        {
          "output_type": "stream",
          "text": [
            "709/709 [==============================] - 17s 23ms/step - loss: 0.0375 - accuracy: 0.9899\n"
          ],
          "name": "stdout"
        },
        {
          "output_type": "execute_result",
          "data": {
            "text/plain": [
              "[0.03748138248920441, 0.9898625016212463]"
            ]
          },
          "metadata": {
            "tags": []
          },
          "execution_count": 30
        }
      ]
    },
    {
      "cell_type": "code",
      "metadata": {
        "id": "COGCI66wzYqX"
      },
      "source": [
        "if NOTIFY_STATUS: status_notify('(TensorFlow Multi-Class) Task 5 - Finalize Model and Make Predictions completed on ' + datetime.now().strftime('%A %B %d, %Y %I:%M:%S %p'))"
      ],
      "execution_count": 31,
      "outputs": []
    },
    {
      "cell_type": "code",
      "metadata": {
        "id": "OeNtc6N2zYqZ",
        "colab": {
          "base_uri": "https://localhost:8080/"
        },
        "outputId": "fdcb1f86-235c-47a7-d741-b531b761b9c0"
      },
      "source": [
        "print ('Total time for the script:',(datetime.now() - start_time_script))"
      ],
      "execution_count": 32,
      "outputs": [
        {
          "output_type": "stream",
          "text": [
            "Total time for the script: 0:10:11.539454\n"
          ],
          "name": "stdout"
        }
      ]
    }
  ]
}