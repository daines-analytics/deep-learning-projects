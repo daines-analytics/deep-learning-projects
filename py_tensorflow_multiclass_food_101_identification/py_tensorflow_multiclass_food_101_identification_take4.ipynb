{
  "cells": [
    {
      "cell_type": "markdown",
      "metadata": {
        "id": "wm7TgCNRzYpJ"
      },
      "source": [
        "# Multi-Class Image Classification Model for Food 101 Identification Using TensorFlow Take 4\n",
        "### David Lowe\n",
        "### July 14, 2022\n",
        "\n",
        "SUMMARY: This project aims to construct a predictive model using a TensorFlow convolutional neural network (CNN) and document the end-to-end steps using a template. The Belgium Traffic Sign dataset is a multi-class classification situation where we attempt to predict one of several (more than two) possible outcomes.\n",
        "\n",
        "INTRODUCTION: This dataset includes 101 food categories, totaling 101,000 images. The research team provided 250 manually reviewed test images and 750 training images for each food type. All images were rescaled to have a maximum side length of 512 pixels.\n",
        "\n",
        "ANALYSIS: The VGG19 model's performance achieved an accuracy score of 76.07% after ten epochs using the training dataset. When we applied the model to the validation dataset, the model achieved an accuracy score of 67.78%.\n",
        "\n",
        "CONCLUSION: In this iteration, the TensorFlow VGG19 CNN model appeared suitable for modeling this dataset.\n",
        "\n",
        "Dataset ML Model: Multi-Class classification with numerical features\n",
        "\n",
        "Dataset Used: Food-101 – Mining Discriminative Components with Random Forests\n",
        "\n",
        "Dataset Reference: https://data.vision.ee.ethz.ch/cvl/datasets_extra/food-101/\n",
        "\n",
        "One source of potential performance benchmarks: https://data.vision.ee.ethz.ch/cvl/datasets_extra/food-101/"
      ]
    },
    {
      "cell_type": "markdown",
      "metadata": {
        "id": "yjz77tzczYpL"
      },
      "source": [
        "# Task 1 - Prepare Environment"
      ]
    },
    {
      "cell_type": "code",
      "execution_count": 1,
      "metadata": {
        "colab": {
          "base_uri": "https://localhost:8080/"
        },
        "id": "Rt62MLGBzYpV",
        "outputId": "c336ca09-70a9-4768-80a3-5663e770f6aa"
      },
      "outputs": [
        {
          "output_type": "stream",
          "name": "stdout",
          "text": [
            "The number of available CPUs is: 2\n"
          ]
        }
      ],
      "source": [
        "# Retrieve CPU information from the system\n",
        "ncpu = !nproc\n",
        "print(\"The number of available CPUs is:\", ncpu[0])"
      ]
    },
    {
      "cell_type": "code",
      "execution_count": 2,
      "metadata": {
        "colab": {
          "base_uri": "https://localhost:8080/"
        },
        "id": "NPBJM3QLzYpR",
        "outputId": "6546e2c8-086a-4360-9047-8dc830c85963"
      },
      "outputs": [
        {
          "output_type": "stream",
          "name": "stdout",
          "text": [
            "Your runtime has 13.6 gigabytes of available RAM\n",
            "\n"
          ]
        }
      ],
      "source": [
        "# Retrieve memory configuration information\n",
        "from psutil import virtual_memory\n",
        "ram_gb = virtual_memory().total / 1e9\n",
        "print('Your runtime has {:.1f} gigabytes of available RAM\\n'.format(ram_gb))"
      ]
    },
    {
      "cell_type": "code",
      "execution_count": 3,
      "metadata": {
        "colab": {
          "base_uri": "https://localhost:8080/"
        },
        "id": "WTBLbPj6zYpP",
        "outputId": "628c76e6-e6a1-4025-f1dc-22b03da9cd95"
      },
      "outputs": [
        {
          "output_type": "stream",
          "name": "stdout",
          "text": [
            "Mon Jul 11 22:35:03 2022       \n",
            "+-----------------------------------------------------------------------------+\n",
            "| NVIDIA-SMI 460.32.03    Driver Version: 460.32.03    CUDA Version: 11.2     |\n",
            "|-------------------------------+----------------------+----------------------+\n",
            "| GPU  Name        Persistence-M| Bus-Id        Disp.A | Volatile Uncorr. ECC |\n",
            "| Fan  Temp  Perf  Pwr:Usage/Cap|         Memory-Usage | GPU-Util  Compute M. |\n",
            "|                               |                      |               MIG M. |\n",
            "|===============================+======================+======================|\n",
            "|   0  Tesla V100-SXM2...  Off  | 00000000:00:04.0 Off |                    0 |\n",
            "| N/A   41C    P0    47W / 300W |      0MiB / 16160MiB |      0%      Default |\n",
            "|                               |                      |                  N/A |\n",
            "+-------------------------------+----------------------+----------------------+\n",
            "                                                                               \n",
            "+-----------------------------------------------------------------------------+\n",
            "| Processes:                                                                  |\n",
            "|  GPU   GI   CI        PID   Type   Process name                  GPU Memory |\n",
            "|        ID   ID                                                   Usage      |\n",
            "|=============================================================================|\n",
            "|  No running processes found                                                 |\n",
            "+-----------------------------------------------------------------------------+\n"
          ]
        }
      ],
      "source": [
        "# Retrieve GPU configuration information\n",
        "gpu_info = !nvidia-smi\n",
        "gpu_info = '\\n'.join(gpu_info)\n",
        "print(gpu_info)"
      ]
    },
    {
      "cell_type": "markdown",
      "metadata": {
        "id": "JU6CoUSHzYpX"
      },
      "source": [
        "## 1.a) Load libraries and modules"
      ]
    },
    {
      "cell_type": "code",
      "execution_count": 4,
      "metadata": {
        "id": "5vLXzBGlzYpX"
      },
      "outputs": [],
      "source": [
        "# Set the random seed number for reproducible results\n",
        "RNG_SEED = 888"
      ]
    },
    {
      "cell_type": "code",
      "execution_count": 5,
      "metadata": {
        "id": "7OPrZkvnzYpZ"
      },
      "outputs": [],
      "source": [
        "import random\n",
        "random.seed(RNG_SEED)\n",
        "import numpy as np\n",
        "np.random.seed(RNG_SEED)\n",
        "import pandas as pd\n",
        "import matplotlib.pyplot as plt\n",
        "import matplotlib.image as mpimg\n",
        "import os\n",
        "import sys\n",
        "import math\n",
        "# import boto3\n",
        "import zipfile\n",
        "from datetime import datetime\n",
        "from sklearn.metrics import classification_report\n",
        "from sklearn.metrics import confusion_matrix\n",
        "from sklearn.metrics import accuracy_score\n",
        "\n",
        "import tensorflow as tf\n",
        "tf.random.set_seed(RNG_SEED)\n",
        "from tensorflow import keras\n",
        "from tensorflow.keras.callbacks import ReduceLROnPlateau\n",
        "from tensorflow.keras.preprocessing.image import ImageDataGenerator"
      ]
    },
    {
      "cell_type": "markdown",
      "metadata": {
        "id": "j_DlsgItzYpb"
      },
      "source": [
        "## 1.b) Set up the controlling parameters and functions"
      ]
    },
    {
      "cell_type": "code",
      "execution_count": 6,
      "metadata": {
        "id": "pbVFvxl-y0gm"
      },
      "outputs": [],
      "source": [
        "# Begin the timer for the script processing\n",
        "START_TIME_SCRIPT = datetime.now()"
      ]
    },
    {
      "cell_type": "code",
      "execution_count": 7,
      "metadata": {
        "colab": {
          "base_uri": "https://localhost:8080/"
        },
        "id": "YidrXfyszYpc",
        "outputId": "62769c5b-9ae0-4d30-cf42-ee1f877fc9d7"
      },
      "outputs": [
        {
          "output_type": "stream",
          "name": "stdout",
          "text": [
            "Num GPUs Available: 1\n",
            "TensorFlow version: 2.8.2\n"
          ]
        }
      ],
      "source": [
        "# Set up the number of CPU cores available for multi-thread processing\n",
        "N_JOBS = 1\n",
        "\n",
        "# Set up the flag to stop sending progress emails (setting to True will send status emails!)\n",
        "NOTIFY_STATUS = False\n",
        "\n",
        "# Set the percentage sizes for splitting the dataset\n",
        "TEST_SET_RATIO = 0.1\n",
        "VAL_SET_RATIO = 0.1\n",
        "\n",
        "# Set the number of folds for cross validation\n",
        "N_FOLDS = 5\n",
        "N_ITERATIONS = 1\n",
        "\n",
        "# Set various default modeling parameters\n",
        "DEFAULT_LOSS = 'categorical_crossentropy'\n",
        "DEFAULT_METRICS = ['accuracy']\n",
        "DEFAULT_OPTIMIZER = tf.keras.optimizers.Adam(learning_rate=0.00001)\n",
        "CLASSIFIER_ACTIVATION = 'softmax'\n",
        "MAX_EPOCHS = 10\n",
        "BATCH_SIZE = 32\n",
        "NUM_CLASSES = 101\n",
        "# CLASS_LABELS = []\n",
        "# CLASS_NAMES = []\n",
        "# RAW_IMAGE_SIZE = (250, 250)\n",
        "TARGET_IMAGE_SIZE = (224, 224)\n",
        "INPUT_IMAGE_SHAPE = (TARGET_IMAGE_SIZE[0], TARGET_IMAGE_SIZE[1], 3)\n",
        "\n",
        "# Define the labels to use for graphing the data\n",
        "TRAIN_METRIC = \"accuracy\"\n",
        "VALIDATION_METRIC = \"val_accuracy\"\n",
        "TRAIN_LOSS = \"loss\"\n",
        "VALIDATION_LOSS = \"val_loss\"\n",
        "\n",
        "# Define the directory locations and file names\n",
        "STAGING_DIR = 'staging/'\n",
        "TRAIN_DIR = 'food-101/images/'\n",
        "# VALID_DIR = ''\n",
        "# TEST_DIR = ''\n",
        "TRAIN_DATASET = 'food-101.tar.gz'\n",
        "# VALID_DATASET = ''\n",
        "# TEST_DATASET = ''\n",
        "TRAIN_LABELS = 'food-101/meta/train.txt'\n",
        "# VALID_LABELS = ''\n",
        "TEST_LABELS = 'food-101/meta/test.txt'\n",
        "# OUTPUT_DIR = 'staging/'\n",
        "# SAMPLE_SUBMISSION_CSV = 'sample_submission.csv'\n",
        "# FINAL_SUBMISSION_CSV = 'submission.csv'\n",
        "\n",
        "# Check the number of GPUs accessible through TensorFlow\n",
        "print('Num GPUs Available:', len(tf.config.list_physical_devices('GPU')))\n",
        "\n",
        "# Print out the TensorFlow version for confirmation\n",
        "print('TensorFlow version:', tf.__version__)"
      ]
    },
    {
      "cell_type": "code",
      "execution_count": 8,
      "metadata": {
        "id": "W-a57IMqzYph"
      },
      "outputs": [],
      "source": [
        "# Set up the email notification function\n",
        "def status_notify(msg_text):\n",
        "    access_key = os.environ.get('SNS_ACCESS_KEY')\n",
        "    secret_key = os.environ.get('SNS_SECRET_KEY')\n",
        "    aws_region = os.environ.get('SNS_AWS_REGION')\n",
        "    topic_arn = os.environ.get('SNS_TOPIC_ARN')\n",
        "    if (access_key is None) or (secret_key is None) or (aws_region is None):\n",
        "        sys.exit(\"Incomplete notification setup info. Script Processing Aborted!!!\")\n",
        "    sns = boto3.client('sns', aws_access_key_id=access_key, aws_secret_access_key=secret_key, region_name=aws_region)\n",
        "    response = sns.publish(TopicArn=topic_arn, Message=msg_text)\n",
        "    if response['ResponseMetadata']['HTTPStatusCode'] != 200 :\n",
        "        print('Status notification not OK with HTTP status code:', response['ResponseMetadata']['HTTPStatusCode'])"
      ]
    },
    {
      "cell_type": "code",
      "execution_count": 9,
      "metadata": {
        "id": "TkZYm2ZmzYpl"
      },
      "outputs": [],
      "source": [
        "if NOTIFY_STATUS: status_notify('(TensorFlow Multi-Class) Task 1 - Prepare Environment completed on ' + datetime.now().strftime('%A %B %d, %Y %I:%M:%S %p'))"
      ]
    },
    {
      "cell_type": "markdown",
      "metadata": {
        "id": "CMKAG-YIzYpn"
      },
      "source": [
        "# Task 2 - Load and Prepare Images"
      ]
    },
    {
      "cell_type": "code",
      "execution_count": 10,
      "metadata": {
        "id": "xHtS66j4zYpo"
      },
      "outputs": [],
      "source": [
        "if NOTIFY_STATUS: status_notify('(TensorFlow Multi-Class) Task 2 - Load and Prepare Images has begun on ' + datetime.now().strftime('%A %B %d, %Y %I:%M:%S %p'))"
      ]
    },
    {
      "cell_type": "code",
      "execution_count": 11,
      "metadata": {
        "colab": {
          "base_uri": "https://localhost:8080/"
        },
        "id": "YShbFu_D2YpD",
        "outputId": "7c8997d3-3773-4ebf-9e6d-1af477bdb08c"
      },
      "outputs": [
        {
          "output_type": "stream",
          "name": "stdout",
          "text": [
            "60K\t./.config/logs/2022.07.06\n",
            "64K\t./.config/logs\n",
            "8.0K\t./.config/configurations\n",
            "96K\t./.config\n",
            "58M\t./food-101/images/pizza\n",
            "48M\t./food-101/images/macaroni_and_cheese\n",
            "51M\t./food-101/images/chicken_quesadilla\n",
            "56M\t./food-101/images/seaweed_salad\n",
            "53M\t./food-101/images/beignets\n",
            "52M\t./food-101/images/huevos_rancheros\n",
            "56M\t./food-101/images/baby_back_ribs\n",
            "49M\t./food-101/images/hot_dog\n",
            "47M\t./food-101/images/dumplings\n",
            "42M\t./food-101/images/lobster_bisque\n",
            "54M\t./food-101/images/nachos\n",
            "54M\t./food-101/images/guacamole\n",
            "47M\t./food-101/images/tuna_tartare\n",
            "47M\t./food-101/images/bread_pudding\n",
            "48M\t./food-101/images/deviled_eggs\n",
            "50M\t./food-101/images/gnocchi\n",
            "51M\t./food-101/images/spaghetti_carbonara\n",
            "49M\t./food-101/images/hummus\n",
            "49M\t./food-101/images/carrot_cake\n",
            "44M\t./food-101/images/cheesecake\n",
            "53M\t./food-101/images/steak\n",
            "48M\t./food-101/images/scallops\n",
            "52M\t./food-101/images/falafel\n",
            "52M\t./food-101/images/grilled_cheese_sandwich\n",
            "56M\t./food-101/images/greek_salad\n",
            "56M\t./food-101/images/french_toast\n",
            "54M\t./food-101/images/mussels\n",
            "49M\t./food-101/images/baklava\n",
            "53M\t./food-101/images/bruschetta\n",
            "48M\t./food-101/images/hot_and_sour_soup\n",
            "47M\t./food-101/images/samosa\n",
            "52M\t./food-101/images/peking_duck\n",
            "50M\t./food-101/images/edamame\n",
            "49M\t./food-101/images/french_onion_soup\n",
            "56M\t./food-101/images/bibimbap\n",
            "43M\t./food-101/images/clam_chowder\n",
            "51M\t./food-101/images/cannoli\n",
            "46M\t./food-101/images/eggs_benedict\n",
            "55M\t./food-101/images/oysters\n",
            "52M\t./food-101/images/pork_chop\n",
            "48M\t./food-101/images/creme_brulee\n",
            "50M\t./food-101/images/red_velvet_cake\n",
            "52M\t./food-101/images/grilled_salmon\n",
            "48M\t./food-101/images/filet_mignon\n",
            "56M\t./food-101/images/pad_thai\n",
            "50M\t./food-101/images/french_fries\n",
            "56M\t./food-101/images/beef_carpaccio\n",
            "49M\t./food-101/images/croque_madame\n",
            "43M\t./food-101/images/panna_cotta\n",
            "53M\t./food-101/images/pulled_pork_sandwich\n",
            "50M\t./food-101/images/shrimp_and_grits\n",
            "49M\t./food-101/images/cup_cakes\n",
            "52M\t./food-101/images/waffles\n",
            "42M\t./food-101/images/frozen_yogurt\n",
            "55M\t./food-101/images/tacos\n",
            "48M\t./food-101/images/risotto\n",
            "53M\t./food-101/images/poutine\n",
            "54M\t./food-101/images/lobster_roll_sandwich\n",
            "48M\t./food-101/images/ravioli\n",
            "50M\t./food-101/images/churros\n",
            "51M\t./food-101/images/hamburger\n",
            "50M\t./food-101/images/tiramisu\n",
            "52M\t./food-101/images/garlic_bread\n",
            "47M\t./food-101/images/cheese_plate\n",
            "50M\t./food-101/images/chocolate_cake\n",
            "53M\t./food-101/images/donuts\n",
            "50M\t./food-101/images/gyoza\n",
            "42M\t./food-101/images/miso_soup\n",
            "54M\t./food-101/images/escargots\n",
            "49M\t./food-101/images/breakfast_burrito\n",
            "50M\t./food-101/images/beef_tartare\n",
            "51M\t./food-101/images/ceviche\n",
            "52M\t./food-101/images/chicken_curry\n",
            "53M\t./food-101/images/club_sandwich\n",
            "51M\t./food-101/images/caprese_salad\n",
            "53M\t./food-101/images/chicken_wings\n",
            "46M\t./food-101/images/strawberry_shortcake\n",
            "48M\t./food-101/images/foie_gras\n",
            "55M\t./food-101/images/caesar_salad\n",
            "53M\t./food-101/images/omelette\n",
            "55M\t./food-101/images/fried_rice\n",
            "46M\t./food-101/images/chocolate_mousse\n",
            "49M\t./food-101/images/macarons\n",
            "55M\t./food-101/images/spaghetti_bolognese\n",
            "49M\t./food-101/images/apple_pie\n",
            "48M\t./food-101/images/ice_cream\n",
            "53M\t./food-101/images/ramen\n",
            "52M\t./food-101/images/fish_and_chips\n",
            "57M\t./food-101/images/takoyaki\n",
            "53M\t./food-101/images/prime_rib\n",
            "52M\t./food-101/images/pho\n",
            "50M\t./food-101/images/sashimi\n",
            "50M\t./food-101/images/onion_rings\n",
            "52M\t./food-101/images/fried_calamari\n",
            "53M\t./food-101/images/beet_salad\n",
            "45M\t./food-101/images/spring_rolls\n",
            "52M\t./food-101/images/lasagna\n",
            "50M\t./food-101/images/crab_cakes\n",
            "50M\t./food-101/images/sushi\n",
            "52M\t./food-101/images/pancakes\n",
            "59M\t./food-101/images/paella\n",
            "5.0G\t./food-101/images\n",
            "4.1M\t./food-101/meta\n",
            "5.0G\t./food-101\n",
            "55M\t./sample_data\n",
            "9.7G\t.\n"
          ]
        }
      ],
      "source": [
        "# Clean up the old files and download directories before receiving new ones\n",
        "!rm -rf food-101/\n",
        "\n",
        "if not os.path.exists(TRAIN_DATASET):\n",
        "    !wget https://dainesanalytics.com/datasets/tensorflow-food-101/food-101.tar.gz\n",
        "!tar -xzf food-101.tar.gz\n",
        "!du -h"
      ]
    },
    {
      "cell_type": "code",
      "execution_count": 12,
      "metadata": {
        "colab": {
          "base_uri": "https://localhost:8080/"
        },
        "id": "rUpgZUgzy0go",
        "outputId": "67849f35-d5e5-4d22-bc81-bedacfb86c2f"
      },
      "outputs": [
        {
          "output_type": "stream",
          "name": "stdout",
          "text": [
            "['pizza', 'macaroni_and_cheese', 'chicken_quesadilla', 'seaweed_salad', 'beignets', 'huevos_rancheros', 'baby_back_ribs', 'hot_dog', 'dumplings', 'lobster_bisque', 'nachos', 'guacamole', 'tuna_tartare', 'bread_pudding', 'deviled_eggs', 'gnocchi', 'spaghetti_carbonara', 'hummus', 'carrot_cake', 'cheesecake', 'steak', 'scallops', 'falafel', 'grilled_cheese_sandwich', 'greek_salad', 'french_toast', 'mussels', 'baklava', 'bruschetta', 'hot_and_sour_soup', 'samosa', 'peking_duck', 'edamame', 'french_onion_soup', 'bibimbap', 'clam_chowder', 'cannoli', 'eggs_benedict', 'oysters', 'pork_chop', 'creme_brulee', 'red_velvet_cake', 'grilled_salmon', 'filet_mignon', 'pad_thai', 'french_fries', 'beef_carpaccio', 'croque_madame', 'panna_cotta', 'pulled_pork_sandwich', 'shrimp_and_grits', 'cup_cakes', 'waffles', 'frozen_yogurt', 'tacos', 'risotto', 'poutine', 'lobster_roll_sandwich', 'ravioli', 'churros', 'hamburger', 'tiramisu', 'garlic_bread', 'cheese_plate', 'chocolate_cake', 'donuts', 'gyoza', 'miso_soup', 'escargots', 'breakfast_burrito', 'beef_tartare', 'ceviche', 'chicken_curry', 'club_sandwich', 'caprese_salad', 'chicken_wings', 'strawberry_shortcake', 'foie_gras', 'caesar_salad', 'omelette', 'fried_rice', 'chocolate_mousse', 'macarons', 'spaghetti_bolognese', 'apple_pie', 'ice_cream', 'ramen', 'fish_and_chips', 'takoyaki', 'prime_rib', 'pho', 'sashimi', 'onion_rings', 'fried_calamari', 'beet_salad', 'spring_rolls', 'lasagna', 'crab_cakes', 'sushi', 'pancakes', 'paella']\n"
          ]
        }
      ],
      "source": [
        "CLASS_LABELS = os.listdir(TRAIN_DIR)\n",
        "print(CLASS_LABELS)"
      ]
    },
    {
      "cell_type": "code",
      "execution_count": 13,
      "metadata": {
        "colab": {
          "base_uri": "https://localhost:8080/"
        },
        "id": "rr3kRedTzYpx",
        "outputId": "86212863-5623-4d60-f2fb-6ff72953f905"
      },
      "outputs": [
        {
          "output_type": "stream",
          "name": "stdout",
          "text": [
            "Number of training images for pizza : 1000\n",
            "Training samples for pizza : ['2155735.jpg', '1836888.jpg', '376625.jpg', '2639094.jpg', '1705773.jpg'] \n",
            "\n",
            "Number of training images for macaroni_and_cheese : 1000\n",
            "Training samples for macaroni_and_cheese : ['3284998.jpg', '596154.jpg', '3114981.jpg', '1041383.jpg', '1938583.jpg'] \n",
            "\n",
            "Number of training images for chicken_quesadilla : 1000\n",
            "Training samples for chicken_quesadilla : ['3343572.jpg', '850695.jpg', '140290.jpg', '3512949.jpg', '1497643.jpg'] \n",
            "\n",
            "Number of training images for seaweed_salad : 1000\n",
            "Training samples for seaweed_salad : ['488339.jpg', '829671.jpg', '2417030.jpg', '803239.jpg', '1019344.jpg'] \n",
            "\n",
            "Number of training images for beignets : 1000\n",
            "Training samples for beignets : ['297486.jpg', '283136.jpg', '1904654.jpg', '3256090.jpg', '3453845.jpg'] \n",
            "\n",
            "Number of training images for huevos_rancheros : 1000\n",
            "Training samples for huevos_rancheros : ['3050063.jpg', '2131614.jpg', '507445.jpg', '3837886.jpg', '1379900.jpg'] \n",
            "\n",
            "Number of training images for baby_back_ribs : 1000\n",
            "Training samples for baby_back_ribs : ['762118.jpg', '1005293.jpg', '3698768.jpg', '546242.jpg', '502561.jpg'] \n",
            "\n",
            "Number of training images for hot_dog : 1000\n",
            "Training samples for hot_dog : ['551784.jpg', '268919.jpg', '2699758.jpg', '550512.jpg', '704107.jpg'] \n",
            "\n",
            "Number of training images for dumplings : 1000\n",
            "Training samples for dumplings : ['1417368.jpg', '1086100.jpg', '3513741.jpg', '1794239.jpg', '3431579.jpg'] \n",
            "\n",
            "Number of training images for lobster_bisque : 1000\n",
            "Training samples for lobster_bisque : ['3457213.jpg', '2446173.jpg', '2502475.jpg', '2007600.jpg', '2869547.jpg'] \n",
            "\n",
            "Number of training images for nachos : 1000\n",
            "Training samples for nachos : ['197034.jpg', '3444518.jpg', '512386.jpg', '2144448.jpg', '3072932.jpg'] \n",
            "\n",
            "Number of training images for guacamole : 1000\n",
            "Training samples for guacamole : ['1544744.jpg', '715426.jpg', '3081073.jpg', '3458149.jpg', '1300421.jpg'] \n",
            "\n",
            "Number of training images for tuna_tartare : 1000\n",
            "Training samples for tuna_tartare : ['417718.jpg', '2617887.jpg', '1539544.jpg', '217005.jpg', '3255564.jpg'] \n",
            "\n",
            "Number of training images for bread_pudding : 1000\n",
            "Training samples for bread_pudding : ['1341217.jpg', '915410.jpg', '3634612.jpg', '2020333.jpg', '301537.jpg'] \n",
            "\n",
            "Number of training images for deviled_eggs : 1000\n",
            "Training samples for deviled_eggs : ['2087889.jpg', '3107678.jpg', '333935.jpg', '1832971.jpg', '3597714.jpg'] \n",
            "\n",
            "Number of training images for gnocchi : 1000\n",
            "Training samples for gnocchi : ['355085.jpg', '517992.jpg', '3628819.jpg', '406979.jpg', '3124234.jpg'] \n",
            "\n",
            "Number of training images for spaghetti_carbonara : 1000\n",
            "Training samples for spaghetti_carbonara : ['243814.jpg', '2317635.jpg', '3111921.jpg', '3571179.jpg', '1012528.jpg'] \n",
            "\n",
            "Number of training images for hummus : 1000\n",
            "Training samples for hummus : ['2309479.jpg', '1098501.jpg', '716266.jpg', '1862801.jpg', '3846894.jpg'] \n",
            "\n",
            "Number of training images for carrot_cake : 1000\n",
            "Training samples for carrot_cake : ['3241399.jpg', '1705458.jpg', '2586541.jpg', '1731288.jpg', '263995.jpg'] \n",
            "\n",
            "Number of training images for cheesecake : 1000\n",
            "Training samples for cheesecake : ['3834149.jpg', '840504.jpg', '1583520.jpg', '2005548.jpg', '3301137.jpg'] \n",
            "\n",
            "Number of training images for steak : 1000\n",
            "Training samples for steak : ['1951003.jpg', '1925230.jpg', '270687.jpg', '413325.jpg', '670345.jpg'] \n",
            "\n",
            "Number of training images for scallops : 1000\n",
            "Training samples for scallops : ['725282.jpg', '3920036.jpg', '2188750.jpg', '2644278.jpg', '1423742.jpg'] \n",
            "\n",
            "Number of training images for falafel : 1000\n",
            "Training samples for falafel : ['1783395.jpg', '1498938.jpg', '1500164.jpg', '63071.jpg', '781945.jpg'] \n",
            "\n",
            "Number of training images for grilled_cheese_sandwich : 1000\n",
            "Training samples for grilled_cheese_sandwich : ['2618399.jpg', '2027262.jpg', '1226705.jpg', '1201172.jpg', '3486901.jpg'] \n",
            "\n",
            "Number of training images for greek_salad : 1000\n",
            "Training samples for greek_salad : ['967352.jpg', '1672109.jpg', '3646757.jpg', '3483340.jpg', '1068150.jpg'] \n",
            "\n",
            "Number of training images for french_toast : 1000\n",
            "Training samples for french_toast : ['794254.jpg', '1831695.jpg', '1729703.jpg', '767856.jpg', '107493.jpg'] \n",
            "\n",
            "Number of training images for mussels : 1000\n",
            "Training samples for mussels : ['2899736.jpg', '3922444.jpg', '2464799.jpg', '3025702.jpg', '770788.jpg'] \n",
            "\n",
            "Number of training images for baklava : 1000\n",
            "Training samples for baklava : ['1817007.jpg', '1132486.jpg', '1458537.jpg', '2667777.jpg', '1458610.jpg'] \n",
            "\n",
            "Number of training images for bruschetta : 1000\n",
            "Training samples for bruschetta : ['1580320.jpg', '340594.jpg', '3761712.jpg', '1905725.jpg', '480866.jpg'] \n",
            "\n",
            "Number of training images for hot_and_sour_soup : 1000\n",
            "Training samples for hot_and_sour_soup : ['601089.jpg', '1592129.jpg', '602809.jpg', '1736510.jpg', '1936292.jpg'] \n",
            "\n",
            "Number of training images for samosa : 1000\n",
            "Training samples for samosa : ['1957135.jpg', '1191467.jpg', '3294569.jpg', '754115.jpg', '1956721.jpg'] \n",
            "\n",
            "Number of training images for peking_duck : 1000\n",
            "Training samples for peking_duck : ['1248927.jpg', '1731217.jpg', '1648010.jpg', '995961.jpg', '229164.jpg'] \n",
            "\n",
            "Number of training images for edamame : 1000\n",
            "Training samples for edamame : ['3086904.jpg', '676461.jpg', '1338105.jpg', '1534142.jpg', '3818295.jpg'] \n",
            "\n",
            "Number of training images for french_onion_soup : 1000\n",
            "Training samples for french_onion_soup : ['2575313.jpg', '1702797.jpg', '975401.jpg', '2137171.jpg', '386167.jpg'] \n",
            "\n",
            "Number of training images for bibimbap : 1000\n",
            "Training samples for bibimbap : ['2334824.jpg', '2402615.jpg', '2499871.jpg', '3816579.jpg', '522225.jpg'] \n",
            "\n",
            "Number of training images for clam_chowder : 1000\n",
            "Training samples for clam_chowder : ['3195879.jpg', '1494488.jpg', '942659.jpg', '2801042.jpg', '2061099.jpg'] \n",
            "\n",
            "Number of training images for cannoli : 1000\n",
            "Training samples for cannoli : ['3633925.jpg', '3741621.jpg', '3448061.jpg', '3313501.jpg', '1168154.jpg'] \n",
            "\n",
            "Number of training images for eggs_benedict : 1000\n",
            "Training samples for eggs_benedict : ['2647567.jpg', '857941.jpg', '2256980.jpg', '1201832.jpg', '1216343.jpg'] \n",
            "\n",
            "Number of training images for oysters : 1000\n",
            "Training samples for oysters : ['1038150.jpg', '1246540.jpg', '3668425.jpg', '2937219.jpg', '3137415.jpg'] \n",
            "\n",
            "Number of training images for pork_chop : 1000\n",
            "Training samples for pork_chop : ['3373416.jpg', '547498.jpg', '3455239.jpg', '578636.jpg', '2069363.jpg'] \n",
            "\n",
            "Number of training images for creme_brulee : 1000\n",
            "Training samples for creme_brulee : ['2018170.jpg', '2403921.jpg', '2141036.jpg', '748938.jpg', '709526.jpg'] \n",
            "\n",
            "Number of training images for red_velvet_cake : 1000\n",
            "Training samples for red_velvet_cake : ['148640.jpg', '19363.jpg', '457634.jpg', '344691.jpg', '2634031.jpg'] \n",
            "\n",
            "Number of training images for grilled_salmon : 1000\n",
            "Training samples for grilled_salmon : ['3320596.jpg', '1977343.jpg', '2450924.jpg', '686493.jpg', '3468639.jpg'] \n",
            "\n",
            "Number of training images for filet_mignon : 1000\n",
            "Training samples for filet_mignon : ['2845555.jpg', '2801922.jpg', '1559892.jpg', '2602410.jpg', '3644459.jpg'] \n",
            "\n",
            "Number of training images for pad_thai : 1000\n",
            "Training samples for pad_thai : ['1888462.jpg', '229383.jpg', '2309854.jpg', '2049020.jpg', '600929.jpg'] \n",
            "\n",
            "Number of training images for french_fries : 1000\n",
            "Training samples for french_fries : ['3252577.jpg', '1580419.jpg', '3719546.jpg', '541592.jpg', '403790.jpg'] \n",
            "\n",
            "Number of training images for beef_carpaccio : 1000\n",
            "Training samples for beef_carpaccio : ['3184691.jpg', '1728686.jpg', '3769247.jpg', '2587814.jpg', '659130.jpg'] \n",
            "\n",
            "Number of training images for croque_madame : 1000\n",
            "Training samples for croque_madame : ['210441.jpg', '623260.jpg', '1330535.jpg', '2899345.jpg', '195158.jpg'] \n",
            "\n",
            "Number of training images for panna_cotta : 1000\n",
            "Training samples for panna_cotta : ['909133.jpg', '3517381.jpg', '237764.jpg', '298991.jpg', '457693.jpg'] \n",
            "\n",
            "Number of training images for pulled_pork_sandwich : 1000\n",
            "Training samples for pulled_pork_sandwich : ['3511876.jpg', '1171447.jpg', '3822263.jpg', '2974348.jpg', '330422.jpg'] \n",
            "\n",
            "Number of training images for shrimp_and_grits : 1000\n",
            "Training samples for shrimp_and_grits : ['640006.jpg', '1556701.jpg', '724725.jpg', '3707845.jpg', '1063218.jpg'] \n",
            "\n",
            "Number of training images for cup_cakes : 1000\n",
            "Training samples for cup_cakes : ['375352.jpg', '3096095.jpg', '801744.jpg', '973633.jpg', '1936183.jpg'] \n",
            "\n",
            "Number of training images for waffles : 1000\n",
            "Training samples for waffles : ['1729046.jpg', '1547700.jpg', '2851929.jpg', '182725.jpg', '3416346.jpg'] \n",
            "\n",
            "Number of training images for frozen_yogurt : 1000\n",
            "Training samples for frozen_yogurt : ['3736864.jpg', '1982259.jpg', '2865222.jpg', '206284.jpg', '2559632.jpg'] \n",
            "\n",
            "Number of training images for tacos : 1000\n",
            "Training samples for tacos : ['179997.jpg', '1755322.jpg', '3177140.jpg', '1497247.jpg', '2685162.jpg'] \n",
            "\n",
            "Number of training images for risotto : 1000\n",
            "Training samples for risotto : ['2075465.jpg', '8586.jpg', '266121.jpg', '3412864.jpg', '2252288.jpg'] \n",
            "\n",
            "Number of training images for poutine : 1000\n",
            "Training samples for poutine : ['864430.jpg', '2417097.jpg', '2388638.jpg', '3266489.jpg', '2635001.jpg'] \n",
            "\n",
            "Number of training images for lobster_roll_sandwich : 1000\n",
            "Training samples for lobster_roll_sandwich : ['2869121.jpg', '464564.jpg', '1975230.jpg', '2735291.jpg', '2835000.jpg'] \n",
            "\n",
            "Number of training images for ravioli : 1000\n",
            "Training samples for ravioli : ['1973643.jpg', '395191.jpg', '3827000.jpg', '3177625.jpg', '2579287.jpg'] \n",
            "\n",
            "Number of training images for churros : 1000\n",
            "Training samples for churros : ['3289362.jpg', '709134.jpg', '663566.jpg', '835912.jpg', '3344684.jpg'] \n",
            "\n",
            "Number of training images for hamburger : 1000\n",
            "Training samples for hamburger : ['699176.jpg', '1636096.jpg', '3549095.jpg', '100719.jpg', '1309089.jpg'] \n",
            "\n",
            "Number of training images for tiramisu : 1000\n",
            "Training samples for tiramisu : ['1656308.jpg', '2662861.jpg', '123563.jpg', '1800350.jpg', '3059396.jpg'] \n",
            "\n",
            "Number of training images for garlic_bread : 1000\n",
            "Training samples for garlic_bread : ['1166279.jpg', '281649.jpg', '2641659.jpg', '560094.jpg', '938262.jpg'] \n",
            "\n",
            "Number of training images for cheese_plate : 1000\n",
            "Training samples for cheese_plate : ['646016.jpg', '3803340.jpg', '1596054.jpg', '637763.jpg', '1075611.jpg'] \n",
            "\n",
            "Number of training images for chocolate_cake : 1000\n",
            "Training samples for chocolate_cake : ['2574939.jpg', '189987.jpg', '485111.jpg', '1990929.jpg', '1970179.jpg'] \n",
            "\n",
            "Number of training images for donuts : 1000\n",
            "Training samples for donuts : ['1649297.jpg', '640730.jpg', '169390.jpg', '2585707.jpg', '1313900.jpg'] \n",
            "\n",
            "Number of training images for gyoza : 1000\n",
            "Training samples for gyoza : ['653799.jpg', '1999956.jpg', '432409.jpg', '2739523.jpg', '1288813.jpg'] \n",
            "\n",
            "Number of training images for miso_soup : 1000\n",
            "Training samples for miso_soup : ['878953.jpg', '2919692.jpg', '3098468.jpg', '3830815.jpg', '1345402.jpg'] \n",
            "\n",
            "Number of training images for escargots : 1000\n",
            "Training samples for escargots : ['2882326.jpg', '2521522.jpg', '3550345.jpg', '247977.jpg', '3660583.jpg'] \n",
            "\n",
            "Number of training images for breakfast_burrito : 1000\n",
            "Training samples for breakfast_burrito : ['3684920.jpg', '92748.jpg', '935998.jpg', '2952743.jpg', '1852378.jpg'] \n",
            "\n",
            "Number of training images for beef_tartare : 1000\n",
            "Training samples for beef_tartare : ['2551820.jpg', '3161766.jpg', '1306469.jpg', '2282659.jpg', '3162478.jpg'] \n",
            "\n",
            "Number of training images for ceviche : 1000\n",
            "Training samples for ceviche : ['2985429.jpg', '3127165.jpg', '3921242.jpg', '583780.jpg', '1863783.jpg'] \n",
            "\n",
            "Number of training images for chicken_curry : 1000\n",
            "Training samples for chicken_curry : ['737216.jpg', '105113.jpg', '43038.jpg', '1213873.jpg', '3432263.jpg'] \n",
            "\n",
            "Number of training images for club_sandwich : 1000\n",
            "Training samples for club_sandwich : ['789781.jpg', '1660178.jpg', '1645332.jpg', '1856721.jpg', '3106065.jpg'] \n",
            "\n",
            "Number of training images for caprese_salad : 1000\n",
            "Training samples for caprese_salad : ['106830.jpg', '1272924.jpg', '803999.jpg', '1263144.jpg', '3415864.jpg'] \n",
            "\n",
            "Number of training images for chicken_wings : 1000\n",
            "Training samples for chicken_wings : ['844695.jpg', '980117.jpg', '1316112.jpg', '2054823.jpg', '879968.jpg'] \n",
            "\n",
            "Number of training images for strawberry_shortcake : 1000\n",
            "Training samples for strawberry_shortcake : ['839897.jpg', '2169557.jpg', '3819927.jpg', '2221123.jpg', '1195849.jpg'] \n",
            "\n",
            "Number of training images for foie_gras : 1000\n",
            "Training samples for foie_gras : ['1573617.jpg', '3094560.jpg', '1729368.jpg', '842314.jpg', '743030.jpg'] \n",
            "\n",
            "Number of training images for caesar_salad : 1000\n",
            "Training samples for caesar_salad : ['621878.jpg', '302309.jpg', '1907330.jpg', '3259171.jpg', '617103.jpg'] \n",
            "\n",
            "Number of training images for omelette : 1000\n",
            "Training samples for omelette : ['1894449.jpg', '1451925.jpg', '2020772.jpg', '677373.jpg', '2779038.jpg'] \n",
            "\n",
            "Number of training images for fried_rice : 1000\n",
            "Training samples for fried_rice : ['2294835.jpg', '963145.jpg', '1680339.jpg', '424836.jpg', '2659722.jpg'] \n",
            "\n",
            "Number of training images for chocolate_mousse : 1000\n",
            "Training samples for chocolate_mousse : ['116095.jpg', '66303.jpg', '2893178.jpg', '2244349.jpg', '2063832.jpg'] \n",
            "\n",
            "Number of training images for macarons : 1000\n",
            "Training samples for macarons : ['2616376.jpg', '875016.jpg', '105189.jpg', '3443712.jpg', '386005.jpg'] \n",
            "\n",
            "Number of training images for spaghetti_bolognese : 1000\n",
            "Training samples for spaghetti_bolognese : ['3569358.jpg', '3282534.jpg', '1645165.jpg', '3619911.jpg', '2508819.jpg'] \n",
            "\n",
            "Number of training images for apple_pie : 1000\n",
            "Training samples for apple_pie : ['647043.jpg', '1847621.jpg', '879842.jpg', '646264.jpg', '1646808.jpg'] \n",
            "\n",
            "Number of training images for ice_cream : 1000\n",
            "Training samples for ice_cream : ['478615.jpg', '3813912.jpg', '1780536.jpg', '1609293.jpg', '2249869.jpg'] \n",
            "\n",
            "Number of training images for ramen : 1000\n",
            "Training samples for ramen : ['2783434.jpg', '2290185.jpg', '1924565.jpg', '85641.jpg', '2277980.jpg'] \n",
            "\n",
            "Number of training images for fish_and_chips : 1000\n",
            "Training samples for fish_and_chips : ['1705939.jpg', '1782710.jpg', '1853290.jpg', '2349576.jpg', '3589353.jpg'] \n",
            "\n",
            "Number of training images for takoyaki : 1000\n",
            "Training samples for takoyaki : ['1228529.jpg', '2946790.jpg', '248260.jpg', '2900174.jpg', '1012802.jpg'] \n",
            "\n",
            "Number of training images for prime_rib : 1000\n",
            "Training samples for prime_rib : ['69328.jpg', '3260842.jpg', '1916207.jpg', '2007611.jpg', '2062507.jpg'] \n",
            "\n",
            "Number of training images for pho : 1000\n",
            "Training samples for pho : ['330841.jpg', '424766.jpg', '1316711.jpg', '1388381.jpg', '2794642.jpg'] \n",
            "\n",
            "Number of training images for sashimi : 1000\n",
            "Training samples for sashimi : ['1855789.jpg', '3535789.jpg', '1780503.jpg', '3411137.jpg', '519310.jpg'] \n",
            "\n",
            "Number of training images for onion_rings : 1000\n",
            "Training samples for onion_rings : ['3031103.jpg', '3384406.jpg', '3375760.jpg', '1112289.jpg', '2857672.jpg'] \n",
            "\n",
            "Number of training images for fried_calamari : 1000\n",
            "Training samples for fried_calamari : ['2257717.jpg', '1022268.jpg', '602559.jpg', '1782115.jpg', '497958.jpg'] \n",
            "\n",
            "Number of training images for beet_salad : 1000\n",
            "Training samples for beet_salad : ['1303126.jpg', '2778205.jpg', '410085.jpg', '3398820.jpg', '544284.jpg'] \n",
            "\n",
            "Number of training images for spring_rolls : 1000\n",
            "Training samples for spring_rolls : ['2534005.jpg', '846522.jpg', '2233298.jpg', '1031074.jpg', '3822654.jpg'] \n",
            "\n",
            "Number of training images for lasagna : 1000\n",
            "Training samples for lasagna : ['380702.jpg', '1821896.jpg', '1737120.jpg', '1713927.jpg', '3762579.jpg'] \n",
            "\n",
            "Number of training images for crab_cakes : 1000\n",
            "Training samples for crab_cakes : ['2390536.jpg', '2469840.jpg', '163674.jpg', '465326.jpg', '1429185.jpg'] \n",
            "\n",
            "Number of training images for sushi : 1000\n",
            "Training samples for sushi : ['1510496.jpg', '1623357.jpg', '669862.jpg', '894318.jpg', '3600867.jpg'] \n",
            "\n",
            "Number of training images for pancakes : 1000\n",
            "Training samples for pancakes : ['771043.jpg', '3373227.jpg', '101450.jpg', '2761676.jpg', '413585.jpg'] \n",
            "\n",
            "Number of training images for paella : 1000\n",
            "Training samples for paella : ['3119219.jpg', '1499914.jpg', '3046102.jpg', '1263476.jpg', '3388044.jpg'] \n",
            "\n"
          ]
        }
      ],
      "source": [
        "# Brief listing of training image files for each class\n",
        "for c_label in CLASS_LABELS:\n",
        "    training_class_dir = os.path.join(TRAIN_DIR, c_label)\n",
        "    training_class_files = os.listdir(training_class_dir)\n",
        "    print('Number of training images for', c_label, ':', len(os.listdir(training_class_dir)))\n",
        "    print('Training samples for', c_label, ':', training_class_files[:5],'\\n')"
      ]
    },
    {
      "cell_type": "code",
      "execution_count": 14,
      "metadata": {
        "id": "yC6YCx7Wy0gp"
      },
      "outputs": [],
      "source": [
        "# Plot some training images from the dataset\n",
        "nrows = len(CLASS_LABELS)\n",
        "ncols = 4\n",
        "training_examples = []\n",
        "example_labels = []\n",
        "\n",
        "fig = plt.gcf()\n",
        "fig.set_size_inches(ncols * 4, nrows * 3)\n",
        "\n",
        "for c_label in CLASS_LABELS:\n",
        "    training_class_dir = os.path.join(TRAIN_DIR, c_label)\n",
        "    training_class_files = os.listdir(training_class_dir)\n",
        "    for j in range(ncols):\n",
        "        training_examples.append(training_class_dir + '/' + training_class_files[j])\n",
        "        example_labels.append(c_label)\n",
        "    # print(training_examples)\n",
        "    # print(example_labels)\n",
        "\n",
        "for i, img_path in enumerate(training_examples):\n",
        "    # Set up subplot; subplot indices start at 1\n",
        "    sp = plt.subplot(nrows, ncols, i+1)\n",
        "    sp.text(0, 0, example_labels[i])\n",
        "    # sp.axis('Off')\n",
        "    img = mpimg.imread(img_path)\n",
        "    plt.imshow(img)\n",
        "plt.show()"
      ]
    },
    {
      "cell_type": "code",
      "execution_count": 15,
      "metadata": {
        "id": "7mwEGMSKKxud"
      },
      "outputs": [],
      "source": [
        "df_train_images = pd.read_csv(TRAIN_LABELS, names=['image'])\n",
        "df_train_images['image'] = df_train_images['image'] + '.jpg'\n",
        "df_train_images['class'] = df_train_images['image'].apply(lambda x: x[0:x.find('/')])\n",
        "print(df_train_images.head())"
      ]
    },
    {
      "cell_type": "code",
      "execution_count": 16,
      "metadata": {
        "id": "yxbk-R9jMryz"
      },
      "outputs": [],
      "source": [
        "df_test_images = pd.read_csv(TEST_LABELS, names=['image'])\n",
        "df_test_images['image'] = df_test_images['image'] + '.jpg'\n",
        "df_test_images['class'] = df_test_images['image'].apply(lambda x: x[0:x.find('/')])\n",
        "print(df_test_images.head())"
      ]
    },
    {
      "cell_type": "code",
      "execution_count": 17,
      "metadata": {
        "id": "KyV0PjwLy0gp"
      },
      "outputs": [],
      "source": [
        "datagen_kwargs = dict(rescale=1./255)\n",
        "training_datagen = ImageDataGenerator(**datagen_kwargs)\n",
        "validation_datagen = ImageDataGenerator(**datagen_kwargs)\n",
        "dataflow_kwargs = dict(class_mode=\"categorical\")\n",
        "\n",
        "do_data_augmentation = True\n",
        "if do_data_augmentation:\n",
        "    training_datagen = ImageDataGenerator(rotation_range=45,\n",
        "                                          horizontal_flip=True,\n",
        "                                          vertical_flip=True,\n",
        "                                          **datagen_kwargs)\n",
        "\n",
        "print('Loading and pre-processing the training images...')\n",
        "training_generator = training_datagen.flow_from_dataframe(dataframe=df_train_images,\n",
        "                                                          directory='food-101/images/',\n",
        "                                                          x_col='image',\n",
        "                                                          y_col='class',\n",
        "                                                          target_size=TARGET_IMAGE_SIZE,\n",
        "                                                          batch_size=BATCH_SIZE,\n",
        "                                                          shuffle=True,\n",
        "                                                          seed=RNG_SEED,\n",
        "                                                          **dataflow_kwargs)\n",
        "print('Number of training image batches per epoch of modeling:', len(training_generator))\n",
        "\n",
        "print('Loading and pre-processing the validation images...')\n",
        "validation_generator = validation_datagen.flow_from_dataframe(dataframe=df_test_images,\n",
        "                                                              directory='food-101/images/',\n",
        "                                                              x_col='image',\n",
        "                                                              y_col='class',\n",
        "                                                              target_size=TARGET_IMAGE_SIZE,\n",
        "                                                              batch_size=BATCH_SIZE,\n",
        "                                                              shuffle=False,\n",
        "                                                              **dataflow_kwargs)\n",
        "print('Number of validation image batches per epoch of modeling:', len(validation_generator))"
      ]
    },
    {
      "cell_type": "code",
      "execution_count": 18,
      "metadata": {
        "id": "_C7U2LGuzYp7"
      },
      "outputs": [],
      "source": [
        "if NOTIFY_STATUS: status_notify('(TensorFlow Multi-Class) Task 2 - Load and Prepare Images completed on ' + datetime.now().strftime('%A %B %d, %Y %I:%M:%S %p'))"
      ]
    },
    {
      "cell_type": "markdown",
      "metadata": {
        "id": "Q1zN_4yTzYp8"
      },
      "source": [
        "# Task 3 - Define and Train Models"
      ]
    },
    {
      "cell_type": "code",
      "execution_count": 19,
      "metadata": {
        "id": "Do8vW0SIzYp9"
      },
      "outputs": [],
      "source": [
        "if NOTIFY_STATUS: status_notify('(TensorFlow Multi-Class) Task 3 - Define and Train Models has begun on ' + datetime.now().strftime('%A %B %d, %Y %I:%M:%S %p'))"
      ]
    },
    {
      "cell_type": "code",
      "execution_count": 20,
      "metadata": {
        "id": "TxzTYyrwzYp-"
      },
      "outputs": [],
      "source": [
        "# Define the function for plotting training results for comparison\n",
        "def plot_metrics(history):\n",
        "    fig, axs = plt.subplots(1, 2, figsize=(24, 15))\n",
        "    metrics =  [TRAIN_LOSS, TRAIN_METRIC]\n",
        "    for n, metric in enumerate(metrics):\n",
        "        name = metric.replace(\"_\",\" \").capitalize()\n",
        "        plt.subplot(2,2,n+1)\n",
        "        plt.plot(history.epoch, history.history[metric], color='blue', label='Train')\n",
        "        plt.plot(history.epoch, history.history['val_'+metric], color='red', linestyle=\"--\", label='Val')\n",
        "        plt.xlabel('Epoch')\n",
        "        plt.ylabel(name)\n",
        "        if metric == TRAIN_LOSS:\n",
        "            plt.ylim([0, plt.ylim()[1]])\n",
        "        else:\n",
        "            plt.ylim([0, 1])\n",
        "        plt.legend()"
      ]
    },
    {
      "cell_type": "code",
      "execution_count": 21,
      "metadata": {
        "id": "LWs8YwZOy0gq"
      },
      "outputs": [],
      "source": [
        "# Define the baseline model for benchmarking\n",
        "def create_nn_model(input_param=INPUT_IMAGE_SHAPE, output_param=NUM_CLASSES, dense_nodes=2048,\n",
        "                    classifier_activation=CLASSIFIER_ACTIVATION, loss_param=DEFAULT_LOSS,\n",
        "                    opt_param=DEFAULT_OPTIMIZER, metrics_param=DEFAULT_METRICS):\n",
        "    base_model = keras.applications.vgg19.VGG19(include_top=False, weights='imagenet', input_shape=input_param)\n",
        "    nn_model = keras.models.Sequential()\n",
        "    nn_model.add(base_model)\n",
        "    nn_model.add(keras.layers.Flatten())\n",
        "    nn_model.add(keras.layers.Dense(dense_nodes, activation='relu')),\n",
        "    nn_model.add(keras.layers.Dense(output_param, activation=classifier_activation))\n",
        "    nn_model.compile(loss=loss_param, optimizer=opt_param, metrics=metrics_param)\n",
        "    return nn_model"
      ]
    },
    {
      "cell_type": "code",
      "execution_count": 22,
      "metadata": {
        "colab": {
          "base_uri": "https://localhost:8080/"
        },
        "id": "vHR_zbawy0gq",
        "outputId": "3ce3804c-5889-4f0e-f0b0-94b75c478919"
      },
      "outputs": [
        {
          "output_type": "stream",
          "name": "stdout",
          "text": [
            "Epoch 1/10\n",
            "2368/2368 [==============================] - 1374s 574ms/step - loss: 2.9504 - accuracy: 0.3007 - val_loss: 2.0432 - val_accuracy: 0.4781\n",
            "Epoch 2/10\n",
            "2368/2368 [==============================] - 1320s 557ms/step - loss: 1.9484 - accuracy: 0.5065 - val_loss: 1.6447 - val_accuracy: 0.5648\n",
            "Epoch 3/10\n",
            "2368/2368 [==============================] - 1283s 542ms/step - loss: 1.6434 - accuracy: 0.5760 - val_loss: 1.4647 - val_accuracy: 0.6121\n",
            "Epoch 4/10\n",
            "2368/2368 [==============================] - 1265s 534ms/step - loss: 1.4545 - accuracy: 0.6221 - val_loss: 1.3519 - val_accuracy: 0.6347\n",
            "Epoch 5/10\n",
            "2368/2368 [==============================] - 1254s 529ms/step - loss: 1.3168 - accuracy: 0.6519 - val_loss: 1.2651 - val_accuracy: 0.6565\n",
            "Epoch 6/10\n",
            "2368/2368 [==============================] - 1254s 530ms/step - loss: 1.1989 - accuracy: 0.6821 - val_loss: 1.1735 - val_accuracy: 0.6828\n",
            "Epoch 7/10\n",
            "2368/2368 [==============================] - 1248s 527ms/step - loss: 1.1045 - accuracy: 0.7036 - val_loss: 1.1962 - val_accuracy: 0.6771\n",
            "Epoch 8/10\n",
            "2368/2368 [==============================] - 1279s 540ms/step - loss: 1.0243 - accuracy: 0.7226 - val_loss: 1.1452 - val_accuracy: 0.6929\n",
            "Epoch 9/10\n",
            "2368/2368 [==============================] - 1286s 543ms/step - loss: 0.9434 - accuracy: 0.7424 - val_loss: 1.2318 - val_accuracy: 0.6747\n",
            "Epoch 10/10\n",
            "2368/2368 [==============================] - 1277s 539ms/step - loss: 0.8701 - accuracy: 0.7607 - val_loss: 1.2293 - val_accuracy: 0.6778\n",
            "Total time for model fitting: 3:34:09.935509\n"
          ]
        }
      ],
      "source": [
        "# Initialize the neural network model and get the training results for plotting graph\n",
        "start_time_module = datetime.now()\n",
        "tf.keras.utils.set_random_seed(RNG_SEED)\n",
        "baseline_model = create_nn_model()\n",
        "baseline_model_history = baseline_model.fit(training_generator,\n",
        "                                            epochs=MAX_EPOCHS,\n",
        "                                            validation_data=validation_generator,\n",
        "                                            verbose=1)\n",
        "print('Total time for model fitting:', (datetime.now() - start_time_module))"
      ]
    },
    {
      "cell_type": "code",
      "execution_count": null,
      "metadata": {
        "id": "B3TrVKk4zYqE",
        "colab": {
          "base_uri": "https://localhost:8080/"
        },
        "outputId": "6b789975-3703-4ecf-f9dd-8675b083a616"
      },
      "outputs": [
        {
          "output_type": "stream",
          "name": "stdout",
          "text": [
            "Model: \"sequential\"\n",
            "_________________________________________________________________\n",
            " Layer (type)                Output Shape              Param #   \n",
            "=================================================================\n",
            " inception_v3 (Functional)   (None, 8, 8, 2048)        21802784  \n",
            "                                                                 \n",
            " flatten (Flatten)           (None, 131072)            0         \n",
            "                                                                 \n",
            " dense (Dense)               (None, 2048)              268437504 \n",
            "                                                                 \n",
            " dense_1 (Dense)             (None, 101)               206949    \n",
            "                                                                 \n",
            "=================================================================\n",
            "Total params: 290,447,237\n",
            "Trainable params: 290,412,805\n",
            "Non-trainable params: 34,432\n",
            "_________________________________________________________________\n"
          ]
        }
      ],
      "source": [
        "baseline_model.summary()"
      ]
    },
    {
      "cell_type": "code",
      "execution_count": null,
      "metadata": {
        "id": "xPh-jQdtzYqF",
        "colab": {
          "base_uri": "https://localhost:8080/",
          "height": 437
        },
        "outputId": "63433b0c-6775-4ba4-bc98-9d8ee188e9c8"
      },
      "outputs": [
        {
          "output_type": "display_data",
          "data": {
            "text/plain": [
              "<Figure size 1728x1080 with 2 Axes>"
            ],
            "image/png": "[encoded data removed]"
          },
          "metadata": {
            "needs_background": "light"
          }
        }
      ],
      "source": [
        "plot_metrics(baseline_model_history)"
      ]
    },
    {
      "cell_type": "code",
      "execution_count": null,
      "metadata": {
        "id": "QGtVTxNYzYqG"
      },
      "outputs": [],
      "source": [
        "if NOTIFY_STATUS: status_notify('(TensorFlow Multi-Class) Task 3 - Define and Train Models completed on ' + datetime.now().strftime('%A %B %d, %Y %I:%M:%S %p'))"
      ]
    },
    {
      "cell_type": "markdown",
      "metadata": {
        "id": "bWEbAyjvzYqI"
      },
      "source": [
        "# Task 4 - Tune and Optimize Models"
      ]
    },
    {
      "cell_type": "code",
      "execution_count": null,
      "metadata": {
        "id": "_8DuSNAtzYqI"
      },
      "outputs": [],
      "source": [
        "if NOTIFY_STATUS: status_notify('(TensorFlow Multi-Class) Task 4 - Tune and Optimize Models has begun on ' + datetime.now().strftime('%A %B %d, %Y %I:%M:%S %p'))"
      ]
    },
    {
      "cell_type": "code",
      "execution_count": null,
      "metadata": {
        "id": "79R9HvH-zYqK"
      },
      "outputs": [],
      "source": [
        "# Not applicable for this iteration of modeling"
      ]
    },
    {
      "cell_type": "code",
      "execution_count": null,
      "metadata": {
        "id": "fF1O3KjHzYqO"
      },
      "outputs": [],
      "source": [
        "if NOTIFY_STATUS: status_notify('(TensorFlow Multi-Class) Task 4 - Tune and Optimize Models completed on ' + datetime.now().strftime('%A %B %d, %Y %I:%M:%S %p'))"
      ]
    },
    {
      "cell_type": "markdown",
      "metadata": {
        "id": "MJJTdK-hzYqP"
      },
      "source": [
        "# Task 5 - Finalize Model and Make Predictions"
      ]
    },
    {
      "cell_type": "code",
      "execution_count": null,
      "metadata": {
        "id": "PzeqrJJTzYqP"
      },
      "outputs": [],
      "source": [
        "if NOTIFY_STATUS: status_notify('(TensorFlow Multi-Class) Task 5 - Finalize Model and Make Predictions has begun on ' + datetime.now().strftime('%A %B %d, %Y %I:%M:%S %p'))"
      ]
    },
    {
      "cell_type": "code",
      "execution_count": null,
      "metadata": {
        "id": "1nV96fQFPH9m"
      },
      "outputs": [],
      "source": [
        "# Not applicable for this iteration of modeling"
      ]
    },
    {
      "cell_type": "code",
      "execution_count": null,
      "metadata": {
        "id": "COGCI66wzYqX"
      },
      "outputs": [],
      "source": [
        "if NOTIFY_STATUS: status_notify('(TensorFlow Multi-Class) Task 5 - Finalize Model and Make Predictions completed on ' + datetime.now().strftime('%A %B %d, %Y %I:%M:%S %p'))"
      ]
    },
    {
      "cell_type": "code",
      "execution_count": null,
      "metadata": {
        "colab": {
          "base_uri": "https://localhost:8080/"
        },
        "id": "OeNtc6N2zYqZ",
        "outputId": "17ce35dd-406e-4802-f614-6eba220ecb08"
      },
      "outputs": [
        {
          "output_type": "stream",
          "name": "stdout",
          "text": [
            "Total time for the script: 4:47:56.815786\n"
          ]
        }
      ],
      "source": [
        "print ('Total time for the script:',(datetime.now() - START_TIME_SCRIPT))"
      ]
    }
  ],
  "metadata": {
    "accelerator": "GPU",
    "colab": {
      "background_execution": "on",
      "collapsed_sections": [],
      "name": "py_tensorflow_multiclass_food_101_identification_take4.ipynb",
      "provenance": []
    },
    "kernelspec": {
      "display_name": "Python 3 (ipykernel)",
      "language": "python",
      "name": "python3"
    },
    "language_info": {
      "codemirror_mode": {
        "name": "ipython",
        "version": 3
      },
      "file_extension": ".py",
      "mimetype": "text/x-python",
      "name": "python",
      "nbconvert_exporter": "python",
      "pygments_lexer": "ipython3",
      "version": "3.8.10"
    }
  },
  "nbformat": 4,
  "nbformat_minor": 0
}