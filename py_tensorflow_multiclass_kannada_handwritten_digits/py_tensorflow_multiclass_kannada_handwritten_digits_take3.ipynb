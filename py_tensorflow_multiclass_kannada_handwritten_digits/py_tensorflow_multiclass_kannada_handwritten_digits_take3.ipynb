{
  "nbformat": 4,
  "nbformat_minor": 0,
  "metadata": {
    "kernelspec": {
      "display_name": "Python 3",
      "language": "python",
      "name": "python3"
    },
    "language_info": {
      "codemirror_mode": {
        "name": "ipython",
        "version": 3
      },
      "file_extension": ".py",
      "mimetype": "text/x-python",
      "name": "python",
      "nbconvert_exporter": "python",
      "pygments_lexer": "ipython3",
      "version": "3.8.6"
    },
    "colab": {
      "name": "py_tensorflow_multiclass_kannada_handwritten_digits_take3.ipynb",
      "provenance": [],
      "collapsed_sections": [],
      "toc_visible": true
    },
    "accelerator": "GPU"
  },
  "cells": [
    {
      "cell_type": "markdown",
      "metadata": {
        "id": "8fCEd9FaVpqF"
      },
      "source": [
        "# Multi-Class Image Classification Model for Kannada Handwritten Digits Using TensorFlow Take 3\n",
        "### David Lowe\n",
        "### December 31, 2020\n",
        "\n",
        "Template Credit: Adapted from a template made available by Dr. Jason Brownlee of Machine Learning Mastery. [https://machinelearningmastery.com/]\n",
        "\n",
        "SUMMARY: This project aims to construct a predictive model using a TensorFlow convolutional neural network (CNN) and document the end-to-end steps using a template. The Kannada Handwritten Digits dataset is a multi-class classification situation where we attempt to predict one of several (more than two) possible outcomes.\n",
        "\n",
        "INTRODUCTION: Kannada is a language spoken predominantly by the people of Karnataka in southwestern India. The language has roughly 45 million native speakers and is written using the Kannada script. This modeling project uses the same format as the MNIST dataset regarding how the data is structured. All details of the dataset curation have been captured in the paper titled: Prabhu, Vinay Uday. \"Kannada-MNIST: A new handwritten digits dataset for the Kannada language.\" arXiv preprint arXiv:1908.01242 (2019) https://arxiv.org/abs/1908.01242\n",
        "\n",
        "From iteration Take1, we constructed a simple three-layer CNN neural network to use as the baseline model for analyzing this dataset.\n",
        "\n",
        "From iteration Take2, we constructed a four-layer CNN neural network to use as the baseline model for analyzing this dataset.\n",
        "\n",
        "In this Take3 iteration, we will construct a five-layer CNN neural network to use as the baseline model for analyzing this dataset.\n",
        "\n",
        "ANALYSIS: From iteration Take1, the baseline model's performance achieved an average accuracy score of 99.48% after ten epochs using the training dataset. After trying out different hyperparameters sets, the best model processed Kaggle's public test dataset with an accuracy score of 97.90%. Furthermore, the final model processed Kaggle's unseen test dataset with an accuracy measurement of 97.74%.\n",
        "\n",
        "From iteration Take2, the four-layer model's performance achieved an average accuracy score of 99.49% after ten epochs using the training dataset. After trying out different hyperparameters sets, the best model processed Kaggle's public test dataset with an accuracy score of 98.24%. Furthermore, the final model processed Kaggle's unseen test dataset with an accuracy measurement of 97.80%.\n",
        "\n",
        "In this Take3 iteration, the five-layer model's performance achieved an average accuracy score of 99.52% after ten epochs using the training dataset. After trying out different hyperparameters sets, the best model processed Kaggle's public test dataset with an accuracy score of 98.08%. Furthermore, the final model processed Kaggle's unseen test dataset with an accuracy measurement of 97.74%.\n",
        "\n",
        "CONCLUSION: In this iteration, the TensorFlow CNN model appeared to be suitable for modeling this dataset. We should consider experimenting with TensorFlow for further modeling.\n",
        "\n",
        "Dataset Used: Kannada Handwritten Digits Dataset\n",
        "\n",
        "Dataset ML Model: Multi-class image classification with numerical attributes\n",
        "\n",
        "Dataset Reference: https://www.kaggle.com/c/Kannada-MNIST/overview\n",
        "\n",
        "One potential source of performance benchmarks: https://www.kaggle.com/c/Kannada-MNIST/leaderboard\n",
        "\n",
        "A deep-learning modeling project generally can be broken down into five major tasks:\n",
        "\n",
        "1. Prepare Environment\n",
        "2. Load and Prepare Images \n",
        "3. Define and Train Models\n",
        "4. Evaluate and Optimize Models\n",
        "5. Finalize Model and Make Predictions"
      ]
    },
    {
      "cell_type": "markdown",
      "metadata": {
        "id": "WzXQb5qlVpqO"
      },
      "source": [
        "# Task 1 - Prepare Environment"
      ]
    },
    {
      "cell_type": "code",
      "metadata": {
        "id": "xHd7i3t4VpqO",
        "colab": {
          "base_uri": "https://localhost:8080/"
        },
        "outputId": "5eb28201-94e9-4d28-9139-2ccd5a0ba2af"
      },
      "source": [
        "# Install the packages to support accessing environment variable and SQL databases\n",
        "!pip install python-dotenv PyMySQL boto3"
      ],
      "execution_count": 51,
      "outputs": [
        {
          "output_type": "stream",
          "text": [
            "Requirement already satisfied: python-dotenv in /usr/local/lib/python3.6/dist-packages (0.15.0)\n",
            "Requirement already satisfied: PyMySQL in /usr/local/lib/python3.6/dist-packages (0.10.1)\n",
            "Requirement already satisfied: boto3 in /usr/local/lib/python3.6/dist-packages (1.16.37)\n",
            "Requirement already satisfied: s3transfer<0.4.0,>=0.3.0 in /usr/local/lib/python3.6/dist-packages (from boto3) (0.3.3)\n",
            "Requirement already satisfied: botocore<1.20.0,>=1.19.37 in /usr/local/lib/python3.6/dist-packages (from boto3) (1.19.37)\n",
            "Requirement already satisfied: jmespath<1.0.0,>=0.7.1 in /usr/local/lib/python3.6/dist-packages (from boto3) (0.10.0)\n",
            "Requirement already satisfied: python-dateutil<3.0.0,>=2.1 in /usr/local/lib/python3.6/dist-packages (from botocore<1.20.0,>=1.19.37->boto3) (2.8.1)\n",
            "Requirement already satisfied: urllib3<1.27,>=1.25.4; python_version != \"3.4\" in /usr/local/lib/python3.6/dist-packages (from botocore<1.20.0,>=1.19.37->boto3) (1.26.2)\n",
            "Requirement already satisfied: six>=1.5 in /usr/local/lib/python3.6/dist-packages (from python-dateutil<3.0.0,>=2.1->botocore<1.20.0,>=1.19.37->boto3) (1.15.0)\n"
          ],
          "name": "stdout"
        }
      ]
    },
    {
      "cell_type": "code",
      "metadata": {
        "id": "Wwv3LkoZVpqP",
        "colab": {
          "base_uri": "https://localhost:8080/"
        },
        "outputId": "43d4263e-3553-4d80-d6d2-b0a743d19e31"
      },
      "source": [
        "# Retrieve GPU configuration information from Colab\n",
        "gpu_info = !nvidia-smi\n",
        "gpu_info = '\\n'.join(gpu_info)\n",
        "if gpu_info.find('failed') >= 0:\n",
        "    print('Select the Runtime → \"Change runtime type\" menu to enable a GPU accelerator, ')\n",
        "    print('and then re-execute this cell.')\n",
        "else:\n",
        "    print(gpu_info)"
      ],
      "execution_count": 52,
      "outputs": [
        {
          "output_type": "stream",
          "text": [
            "Wed Dec 16 19:31:28 2020       \n",
            "+-----------------------------------------------------------------------------+\n",
            "| NVIDIA-SMI 455.45.01    Driver Version: 418.67       CUDA Version: 10.1     |\n",
            "|-------------------------------+----------------------+----------------------+\n",
            "| GPU  Name        Persistence-M| Bus-Id        Disp.A | Volatile Uncorr. ECC |\n",
            "| Fan  Temp  Perf  Pwr:Usage/Cap|         Memory-Usage | GPU-Util  Compute M. |\n",
            "|                               |                      |               MIG M. |\n",
            "|===============================+======================+======================|\n",
            "|   0  Tesla V100-SXM2...  Off  | 00000000:00:04.0 Off |                    0 |\n",
            "| N/A   38C    P0    37W / 300W |   2911MiB / 16130MiB |      0%      Default |\n",
            "|                               |                      |                 ERR! |\n",
            "+-------------------------------+----------------------+----------------------+\n",
            "                                                                               \n",
            "+-----------------------------------------------------------------------------+\n",
            "| Processes:                                                                  |\n",
            "|  GPU   GI   CI        PID   Type   Process name                  GPU Memory |\n",
            "|        ID   ID                                                   Usage      |\n",
            "|=============================================================================|\n",
            "|  No running processes found                                                 |\n",
            "+-----------------------------------------------------------------------------+\n"
          ],
          "name": "stdout"
        }
      ]
    },
    {
      "cell_type": "code",
      "metadata": {
        "id": "V43NtgZyVpqQ",
        "colab": {
          "base_uri": "https://localhost:8080/"
        },
        "outputId": "b874c985-1993-454f-cbd9-2dff6e06d11f"
      },
      "source": [
        "# Retrieve memory configuration information from Colab\n",
        "from psutil import virtual_memory\n",
        "ram_gb = virtual_memory().total / 1e9\n",
        "print('Your runtime has {:.1f} gigabytes of available RAM\\n'.format(ram_gb))\n",
        "\n",
        "if ram_gb < 20:\n",
        "    print('To enable a high-RAM runtime, select the Runtime → \"Change runtime type\"')\n",
        "    print('menu, and then select High-RAM in the Runtime shape dropdown. Then, ')\n",
        "    print('re-execute this cell.')\n",
        "else:\n",
        "    print('You are using a high-RAM runtime!')"
      ],
      "execution_count": 53,
      "outputs": [
        {
          "output_type": "stream",
          "text": [
            "Your runtime has 13.7 gigabytes of available RAM\n",
            "\n",
            "To enable a high-RAM runtime, select the Runtime → \"Change runtime type\"\n",
            "menu, and then select High-RAM in the Runtime shape dropdown. Then, \n",
            "re-execute this cell.\n"
          ],
          "name": "stdout"
        }
      ]
    },
    {
      "cell_type": "code",
      "metadata": {
        "id": "4BQ7ZWFDVpqR",
        "colab": {
          "base_uri": "https://localhost:8080/"
        },
        "outputId": "15aa31b1-4c40-4c66-fa86-c9c64142b7ff"
      },
      "source": [
        "# Retrieve CPU information from the system\n",
        "ncpu = !nproc\n",
        "print(\"The number of available CPUs is:\", ncpu[0])"
      ],
      "execution_count": 54,
      "outputs": [
        {
          "output_type": "stream",
          "text": [
            "The number of available CPUs is: 2\n"
          ],
          "name": "stdout"
        }
      ]
    },
    {
      "cell_type": "markdown",
      "metadata": {
        "id": "4Fc1DW1YVpqS"
      },
      "source": [
        "## 1.a) Load libraries and modules"
      ]
    },
    {
      "cell_type": "code",
      "metadata": {
        "id": "j70RpApHVpqS"
      },
      "source": [
        "# Set the random seed number for reproducible results\n",
        "RNG_SEED = 888"
      ],
      "execution_count": 55,
      "outputs": []
    },
    {
      "cell_type": "code",
      "metadata": {
        "id": "8XbP_5-rVpqS"
      },
      "source": [
        "# Load libraries and packages\n",
        "import random\n",
        "random.seed(RNG_SEED)\n",
        "import numpy as np\n",
        "np.random.seed(RNG_SEED)\n",
        "import pandas as pd\n",
        "import matplotlib.pyplot as plt\n",
        "import matplotlib.image as mpimg\n",
        "import os\n",
        "import sys\n",
        "# import boto3\n",
        "# import zipfile\n",
        "from datetime import datetime\n",
        "# from dotenv import load_dotenv\n",
        "from sklearn import preprocessing\n",
        "from sklearn.model_selection import train_test_split\n",
        "from sklearn.model_selection import RepeatedKFold\n",
        "from sklearn.metrics import accuracy_score\n",
        "from sklearn.metrics import confusion_matrix\n",
        "from sklearn.metrics import classification_report\n",
        "import tensorflow as tf\n",
        "tf.random.set_seed(RNG_SEED)\n",
        "from tensorflow import keras\n",
        "from tensorflow.keras.preprocessing.image import ImageDataGenerator\n",
        "from tensorflow.keras.callbacks import ReduceLROnPlateau"
      ],
      "execution_count": 56,
      "outputs": []
    },
    {
      "cell_type": "markdown",
      "metadata": {
        "id": "Y1LZAAPrVpqT"
      },
      "source": [
        "## 1.b) Set up the controlling parameters and functions"
      ]
    },
    {
      "cell_type": "code",
      "metadata": {
        "id": "1L58bp0eVpqT",
        "colab": {
          "base_uri": "https://localhost:8080/"
        },
        "outputId": "6295c1f4-70ac-4212-e832-bb3948930db7"
      },
      "source": [
        "# Begin the timer for the script processing\n",
        "startTimeScript = datetime.now()\n",
        "\n",
        "# Set up the number of CPU cores available for multi-thread processing\n",
        "n_jobs = 1\n",
        "\n",
        "# Set up the flag to stop sending progress emails (setting to True will send status emails!)\n",
        "notifyStatus = False\n",
        "\n",
        "# Set Pandas options\n",
        "pd.set_option(\"display.max_rows\", None)\n",
        "pd.set_option(\"display.max_columns\", 20)\n",
        "pd.set_option(\"display.width\", 140)\n",
        "\n",
        "# Set the percentage sizes for splitting the dataset\n",
        "TEST_SET_SIZE = 0.2\n",
        "VAL_SET_SIZE = 0.2\n",
        "\n",
        "# Set the number of folds and iterations for cross validation\n",
        "N_FOLDS = 5\n",
        "N_ITERATIONS = 1\n",
        "\n",
        "# Set various default modeling parameters\n",
        "DEFAULT_LOSS = 'categorical_crossentropy'\n",
        "DEFAULT_METRICS = ['accuracy']\n",
        "DEFAULT_OPTIMIZER = tf.keras.optimizers.Adam(learning_rate=0.001)\n",
        "DEFAULT_INITIALIZER = tf.keras.initializers.GlorotUniform(seed=RNG_SEED)\n",
        "DEFAULT_EPOCH = 20\n",
        "DEFAULT_BATCH = 32\n",
        "IMAGE_SHAPE = (28, 28, 1)\n",
        "NUM_CLASSES = 10\n",
        "\n",
        "# Define the labels to use for graphing the data\n",
        "train_metric = \"accuracy\"\n",
        "validation_metric = \"val_accuracy\"\n",
        "train_loss = \"loss\"\n",
        "validation_loss = \"val_loss\"\n",
        "\n",
        "# Check the number of GPUs accessible through TensorFlow\n",
        "print('Num GPUs Available:', len(tf.config.list_physical_devices('GPU')))\n",
        "\n",
        "# Print out the TensorFlow version for confirmation\n",
        "print('TensorFlow version:', tf.__version__)"
      ],
      "execution_count": 57,
      "outputs": [
        {
          "output_type": "stream",
          "text": [
            "Num GPUs Available: 1\n",
            "TensorFlow version: 2.3.0\n"
          ],
          "name": "stdout"
        }
      ]
    },
    {
      "cell_type": "code",
      "metadata": {
        "id": "KJWmQGepVpqU"
      },
      "source": [
        "# Set up the parent directory location for loading the dotenv files\n",
        "# # Mount Google Drive locally for storing files\n",
        "# from google.colab import drive\n",
        "# drive.mount('/content/gdrive')\n",
        "# gdrivePrefix = '/content/gdrive/My Drive/Colab_Downloads/'\n",
        "# env_path = '/content/gdrive/My Drive/Colab Notebooks/'\n",
        "# dotenv_path = env_path + \"python_script.env\"\n",
        "# load_dotenv(dotenv_path=dotenv_path)\n",
        "\n",
        "# Set up the dotenv file for retrieving environment variables\n",
        "# env_path = \"/Users/david/PycharmProjects/\"\n",
        "# dotenv_path = env_path + \"python_script.env\"\n",
        "# load_dotenv(dotenv_path=dotenv_path)"
      ],
      "execution_count": 58,
      "outputs": []
    },
    {
      "cell_type": "code",
      "metadata": {
        "id": "_ScGMI7uVpqU"
      },
      "source": [
        "# Set up the email notification function\n",
        "def status_notify(msg_text):\n",
        "    access_key = os.environ.get('SNS_ACCESS_KEY')\n",
        "    secret_key = os.environ.get('SNS_SECRET_KEY')\n",
        "    aws_region = os.environ.get('SNS_AWS_REGION')\n",
        "    topic_arn = os.environ.get('SNS_TOPIC_ARN')\n",
        "    if (access_key is None) or (secret_key is None) or (aws_region is None):\n",
        "        sys.exit(\"Incomplete notification setup info. Script Processing Aborted!!!\")\n",
        "    sns = boto3.client('sns', aws_access_key_id=access_key, aws_secret_access_key=secret_key, region_name=aws_region)\n",
        "    response = sns.publish(TopicArn=topic_arn, Message=msg_text)\n",
        "    if response['ResponseMetadata']['HTTPStatusCode'] != 200 :\n",
        "        print('Status notification not OK with HTTP status code:', response['ResponseMetadata']['HTTPStatusCode'])"
      ],
      "execution_count": 59,
      "outputs": []
    },
    {
      "cell_type": "code",
      "metadata": {
        "id": "KE6gBn1NVpqV"
      },
      "source": [
        "if notifyStatus: status_notify('(TensorFlow Multi-Class) Task 1 - Prepare Environment has begun on ' + datetime.now().strftime('%A %B %d, %Y %I:%M:%S %p'))"
      ],
      "execution_count": 60,
      "outputs": []
    },
    {
      "cell_type": "code",
      "metadata": {
        "id": "0e6mSCSGVpqW"
      },
      "source": [
        "# Reset the random number generators\n",
        "def reset_random(x=RNG_SEED):\n",
        "    random.seed(x)\n",
        "    np.random.seed(x)\n",
        "    tf.random.set_seed(x)"
      ],
      "execution_count": 61,
      "outputs": []
    },
    {
      "cell_type": "code",
      "metadata": {
        "jupyter": {
          "outputs_hidden": false
        },
        "pycharm": {
          "name": "#%%\n"
        },
        "id": "kUENHteIVpqW"
      },
      "source": [
        "if notifyStatus: status_notify('(TensorFlow Multi-Class) Task 1 - Prepare Environment completed on ' + datetime.now().strftime('%A %B %d, %Y %I:%M:%S %p'))"
      ],
      "execution_count": 62,
      "outputs": []
    },
    {
      "cell_type": "markdown",
      "metadata": {
        "pycharm": {
          "name": "#%% md\n"
        },
        "id": "kfkNwpx8VpqX"
      },
      "source": [
        "# Task 2 - Load and Prepare Images"
      ]
    },
    {
      "cell_type": "code",
      "metadata": {
        "jupyter": {
          "outputs_hidden": false
        },
        "pycharm": {
          "name": "#%%\n"
        },
        "id": "mewm0WAMVpqX"
      },
      "source": [
        "if notifyStatus: status_notify('(TensorFlow Multi-Class) Task 2 - Load and Prepare Images has begun on ' + datetime.now().strftime('%A %B %d, %Y %I:%M:%S %p'))"
      ],
      "execution_count": 63,
      "outputs": []
    },
    {
      "cell_type": "markdown",
      "metadata": {
        "id": "VVmTRFMyVpqX"
      },
      "source": [
        "## 2.a) Load Dataset"
      ]
    },
    {
      "cell_type": "code",
      "metadata": {
        "id": "KSshPmiPVpqX",
        "colab": {
          "base_uri": "https://localhost:8080/"
        },
        "outputId": "557b02f7-6aef-4e30-92b9-22d8c521d449"
      },
      "source": [
        "dataset_path = 'https://dainesanalytics.com/datasets/kaggle-kannada-handwritten-digits/train.csv'\n",
        "Xy_original = pd.read_csv(dataset_path, sep=',')\n",
        "print('Number of records loaded into the dataframe:', len(Xy_original))"
      ],
      "execution_count": 64,
      "outputs": [
        {
          "output_type": "stream",
          "text": [
            "Number of records loaded into the dataframe: 60000\n"
          ],
          "name": "stdout"
        }
      ]
    },
    {
      "cell_type": "code",
      "metadata": {
        "id": "xkJEjx9-VpqY",
        "colab": {
          "base_uri": "https://localhost:8080/"
        },
        "outputId": "abbd0a5d-8276-4465-d397-a323b1a890de"
      },
      "source": [
        "# Take a peek at the dataframe after the import\n",
        "print(Xy_original.head())"
      ],
      "execution_count": 65,
      "outputs": [
        {
          "output_type": "stream",
          "text": [
            "   label  pixel0  pixel1  pixel2  pixel3  pixel4  pixel5  pixel6  pixel7  pixel8  ...  pixel774  pixel775  pixel776  pixel777  pixel778  \\\n",
            "0      0       0       0       0       0       0       0       0       0       0  ...         0         0         0         0         0   \n",
            "1      1       0       0       0       0       0       0       0       0       0  ...         0         0         0         0         0   \n",
            "2      2       0       0       0       0       0       0       0       0       0  ...         0         0         0         0         0   \n",
            "3      3       0       0       0       0       0       0       0       0       0  ...         0         0         0         0         0   \n",
            "4      4       0       0       0       0       0       0       0       0       0  ...         0         0         0         0         0   \n",
            "\n",
            "   pixel779  pixel780  pixel781  pixel782  pixel783  \n",
            "0         0         0         0         0         0  \n",
            "1         0         0         0         0         0  \n",
            "2         0         0         0         0         0  \n",
            "3         0         0         0         0         0  \n",
            "4         0         0         0         0         0  \n",
            "\n",
            "[5 rows x 785 columns]\n"
          ],
          "name": "stdout"
        }
      ]
    },
    {
      "cell_type": "code",
      "metadata": {
        "id": "NAIGpNcZVpqY",
        "colab": {
          "base_uri": "https://localhost:8080/"
        },
        "outputId": "b598a06b-b06b-4658-85e0-6a45e2e62514"
      },
      "source": [
        "Xy_original.info()"
      ],
      "execution_count": 66,
      "outputs": [
        {
          "output_type": "stream",
          "text": [
            "<class 'pandas.core.frame.DataFrame'>\n",
            "RangeIndex: 60000 entries, 0 to 59999\n",
            "Columns: 785 entries, label to pixel783\n",
            "dtypes: int64(785)\n",
            "memory usage: 359.3 MB\n"
          ],
          "name": "stdout"
        }
      ]
    },
    {
      "cell_type": "code",
      "metadata": {
        "id": "OKNtx17UVpqY",
        "colab": {
          "base_uri": "https://localhost:8080/"
        },
        "outputId": "5b5a58fd-54e6-434c-e844-9d4452ee2f21"
      },
      "source": [
        "print(Xy_original.describe())"
      ],
      "execution_count": 67,
      "outputs": [
        {
          "output_type": "stream",
          "text": [
            "              label   pixel0   pixel1   pixel2   pixel3   pixel4        pixel5        pixel6        pixel7        pixel8  ...  \\\n",
            "count  60000.000000  60000.0  60000.0  60000.0  60000.0  60000.0  60000.000000  60000.000000  60000.000000  60000.000000  ...   \n",
            "mean       4.500000      0.0      0.0      0.0      0.0      0.0      0.008817      0.029467      0.037767      0.075933  ...   \n",
            "std        2.872305      0.0      0.0      0.0      0.0      0.0      1.474271      2.700491      2.726371      3.993023  ...   \n",
            "min        0.000000      0.0      0.0      0.0      0.0      0.0      0.000000      0.000000      0.000000      0.000000  ...   \n",
            "25%        2.000000      0.0      0.0      0.0      0.0      0.0      0.000000      0.000000      0.000000      0.000000  ...   \n",
            "50%        4.500000      0.0      0.0      0.0      0.0      0.0      0.000000      0.000000      0.000000      0.000000  ...   \n",
            "75%        7.000000      0.0      0.0      0.0      0.0      0.0      0.000000      0.000000      0.000000      0.000000  ...   \n",
            "max        9.000000      0.0      0.0      0.0      0.0      0.0    255.000000    255.000000    255.000000    255.000000  ...   \n",
            "\n",
            "           pixel774      pixel775      pixel776      pixel777      pixel778      pixel779      pixel780  pixel781      pixel782  pixel783  \n",
            "count  60000.000000  60000.000000  60000.000000  60000.000000  60000.000000  60000.000000  60000.000000   60000.0  60000.000000   60000.0  \n",
            "mean       0.015583      0.016450      0.013417      0.022300      0.012217      0.001383      0.003783       0.0      0.002717       0.0  \n",
            "std        1.443852      1.958914      1.342572      2.051846      1.730959      0.338846      0.926724       0.0      0.665445       0.0  \n",
            "min        0.000000      0.000000      0.000000      0.000000      0.000000      0.000000      0.000000       0.0      0.000000       0.0  \n",
            "25%        0.000000      0.000000      0.000000      0.000000      0.000000      0.000000      0.000000       0.0      0.000000       0.0  \n",
            "50%        0.000000      0.000000      0.000000      0.000000      0.000000      0.000000      0.000000       0.0      0.000000       0.0  \n",
            "75%        0.000000      0.000000      0.000000      0.000000      0.000000      0.000000      0.000000       0.0      0.000000       0.0  \n",
            "max      255.000000    255.000000    157.000000    255.000000    255.000000     83.000000    227.000000       0.0    163.000000       0.0  \n",
            "\n",
            "[8 rows x 785 columns]\n"
          ],
          "name": "stdout"
        }
      ]
    },
    {
      "cell_type": "code",
      "metadata": {
        "id": "kSA-Y_KIVpqa",
        "colab": {
          "base_uri": "https://localhost:8080/"
        },
        "outputId": "7e031381-6aa8-442a-e8f6-38fad6604001"
      },
      "source": [
        "# Surface the features that have NaNs\n",
        "null_counts = Xy_original.isnull().sum()\n",
        "if null_counts.sum() > 0 :\n",
        "    print(null_counts[null_counts > 0])\n",
        "print('Total number of NaN in the dataframe:', null_counts.sum())"
      ],
      "execution_count": 68,
      "outputs": [
        {
          "output_type": "stream",
          "text": [
            "Total number of NaN in the dataframe: 0\n"
          ],
          "name": "stdout"
        }
      ]
    },
    {
      "cell_type": "markdown",
      "metadata": {
        "id": "3mHZORj1Vpqa"
      },
      "source": [
        "## 2.b) Splitting Data into Sets"
      ]
    },
    {
      "cell_type": "code",
      "metadata": {
        "id": "4R157_sSVpqb"
      },
      "source": [
        "# Use variable totCol to hold the number of columns in the dataframe\n",
        "totCol = len(Xy_original.columns)\n",
        "\n",
        "# Set up variable totAttr for the total number of attribute columns\n",
        "totAttr = totCol-1\n",
        "\n",
        "# targetCol variable indicates the column location of the target/class variable\n",
        "# If the first column, set targetCol to 1. If the last column, set targetCol to totCol\n",
        "# If (targetCol <> 1) and (targetCol <> totCol), be aware when slicing up the dataframes for visualization\n",
        "targetCol = 1"
      ],
      "execution_count": 69,
      "outputs": []
    },
    {
      "cell_type": "code",
      "metadata": {
        "id": "hBAuht7QVpqb",
        "colab": {
          "base_uri": "https://localhost:8080/"
        },
        "outputId": "3bf4125a-8712-4889-fdab-cb45dfc517d4"
      },
      "source": [
        "# We create attribute-only and target-only datasets\n",
        "if targetCol == totCol:\n",
        "    X_train_df = Xy_original.iloc[:,0:totAttr]\n",
        "    y_train_df = Xy_original.iloc[:,totAttr]\n",
        "else:\n",
        "    X_train_df = Xy_original.iloc[:,1:totCol]\n",
        "    y_train_df = Xy_original.iloc[:,0]\n",
        "\n",
        "print(\"Xy_original.shape: {} X_train_df.shape: {} y_train_df.shape: {}\".format(Xy_original.shape, X_train_df.shape, y_train_df.shape))"
      ],
      "execution_count": 70,
      "outputs": [
        {
          "output_type": "stream",
          "text": [
            "Xy_original.shape: (60000, 785) X_train_df.shape: (60000, 784) y_train_df.shape: (60000,)\n"
          ],
          "name": "stdout"
        }
      ]
    },
    {
      "cell_type": "markdown",
      "metadata": {
        "id": "ZYmZaumEVpqc"
      },
      "source": [
        "### 2.c) Feature Scaling and Image Preview"
      ]
    },
    {
      "cell_type": "code",
      "metadata": {
        "jupyter": {
          "outputs_hidden": false
        },
        "pycharm": {
          "name": "#%%\n"
        },
        "id": "zxICFVrCVpqc",
        "colab": {
          "base_uri": "https://localhost:8080/"
        },
        "outputId": "9972845b-f3a3-4e67-e61f-647dcbaf3ac7"
      },
      "source": [
        "# Normalize the data to reduce the effect of illumination's differences and help the CNN converges faster\n",
        "X_train = X_train_df.to_numpy()\n",
        "X_train = X_train / 255\n",
        "print('X_train.shape:', X_train.shape)"
      ],
      "execution_count": 71,
      "outputs": [
        {
          "output_type": "stream",
          "text": [
            "X_train.shape: (60000, 784)\n"
          ],
          "name": "stdout"
        }
      ]
    },
    {
      "cell_type": "code",
      "metadata": {
        "jupyter": {
          "outputs_hidden": false
        },
        "pycharm": {
          "name": "#%%\n"
        },
        "id": "APSJQamyVpqd",
        "colab": {
          "base_uri": "https://localhost:8080/"
        },
        "outputId": "41a6d076-f925-44a4-f303-1793d8be18ce"
      },
      "source": [
        "# Reshaping the data from 1-D to 3-D as required through input by CNN's\n",
        "X_train = X_train.reshape(-1, 28, 28, 1)\n",
        "print('X_train.shape:', X_train.shape)"
      ],
      "execution_count": 72,
      "outputs": [
        {
          "output_type": "stream",
          "text": [
            "X_train.shape: (60000, 28, 28, 1)\n"
          ],
          "name": "stdout"
        }
      ]
    },
    {
      "cell_type": "code",
      "metadata": {
        "jupyter": {
          "outputs_hidden": false
        },
        "pycharm": {
          "name": "#%%\n"
        },
        "id": "lRqNuqcWVpqd",
        "colab": {
          "base_uri": "https://localhost:8080/",
          "height": 450
        },
        "outputId": "fbf06971-796a-450f-e882-e2ffa43ed314"
      },
      "source": [
        "# Spot-checking the first 10 training images\n",
        "f, ax = plt.subplots(2, 5)\n",
        "f.set_size_inches(10, 10)\n",
        "k = 0\n",
        "for i in range(2):\n",
        "    for j in range(5):\n",
        "        ax[i, j].imshow(X_train[k].reshape(28, 28) , cmap=\"gray\")\n",
        "        k += 1\n",
        "plt.tight_layout()\n",
        "plt.show()"
      ],
      "execution_count": 73,
      "outputs": [
        {
          "output_type": "display_data",
          "data": {
            "image/png": "[encoded data removed]",
            "text/plain": [
              "<Figure size 720x720 with 10 Axes>"
            ]
          },
          "metadata": {
            "tags": [],
            "needs_background": "light"
          }
        }
      ]
    },
    {
      "cell_type": "code",
      "metadata": {
        "id": "2_yNEmVFVpqe",
        "colab": {
          "base_uri": "https://localhost:8080/"
        },
        "outputId": "0a670551-fcdc-491a-db79-825ff9410258"
      },
      "source": [
        "print(y_train_df[:10])"
      ],
      "execution_count": 74,
      "outputs": [
        {
          "output_type": "stream",
          "text": [
            "0    0\n",
            "1    1\n",
            "2    2\n",
            "3    3\n",
            "4    4\n",
            "5    5\n",
            "6    6\n",
            "7    7\n",
            "8    8\n",
            "9    9\n",
            "Name: label, dtype: int64\n"
          ],
          "name": "stdout"
        }
      ]
    },
    {
      "cell_type": "markdown",
      "metadata": {
        "id": "JXbE5It-Vpqe"
      },
      "source": [
        "### 2.d) Display the Final Datasets for Model-Building"
      ]
    },
    {
      "cell_type": "code",
      "metadata": {
        "jupyter": {
          "outputs_hidden": false
        },
        "pycharm": {
          "name": "#%%\n"
        },
        "id": "gFIXHgPQVpqe",
        "colab": {
          "base_uri": "https://localhost:8080/"
        },
        "outputId": "86e79e5e-191b-40b9-c633-7ea29cefef83"
      },
      "source": [
        "# Finalize the training dataset for the modeling activities\n",
        "class_encoder = preprocessing.LabelBinarizer()\n",
        "y_train = class_encoder.fit_transform(y_train_df)\n",
        "print('X_train.shape: {} y_train.shape: {}'.format(X_train.shape, y_train.shape))"
      ],
      "execution_count": 75,
      "outputs": [
        {
          "output_type": "stream",
          "text": [
            "X_train.shape: (60000, 28, 28, 1) y_train.shape: (60000, 10)\n"
          ],
          "name": "stdout"
        }
      ]
    },
    {
      "cell_type": "code",
      "metadata": {
        "id": "dMeKTI1mVpqe"
      },
      "source": [
        "if notifyStatus: status_notify('(TensorFlow Multi-Class) Task 2 - Load and Prepare Images completed on ' + datetime.now().strftime('%A %B %d, %Y %I:%M:%S %p'))"
      ],
      "execution_count": 76,
      "outputs": []
    },
    {
      "cell_type": "markdown",
      "metadata": {
        "id": "D4PKNPqhVpqf"
      },
      "source": [
        "# Task 3 - Define and Train Models"
      ]
    },
    {
      "cell_type": "code",
      "metadata": {
        "id": "SrWnOMqfVpqf"
      },
      "source": [
        "if notifyStatus: status_notify('(TensorFlow Multi-Class) Task 3 - Define and Train Models has begun on ' + datetime.now().strftime('%A %B %d, %Y %I:%M:%S %p'))"
      ],
      "execution_count": 77,
      "outputs": []
    },
    {
      "cell_type": "code",
      "metadata": {
        "id": "p2uB9zjqVpqf"
      },
      "source": [
        "# Define the baseline model for benchmarking\n",
        "def create_nn_model(input_param=IMAGE_SHAPE, output_param=NUM_CLASSES, conv1_filters=512, conv2_filters=384, conv3_filters=256, conv4_filters=128, conv5_filters=64,\n",
        "                    conv1_dropout=0, conv2_dropout=0, conv3_dropout=0, conv4_dropout=0, conv5_dropout=0, dense_nodes=2048, dense_dropout=0, \n",
        "                    init_param=DEFAULT_INITIALIZER, loss_param=DEFAULT_LOSS, opt_param=DEFAULT_OPTIMIZER, metric_param=DEFAULT_METRICS):\n",
        "    nn_model = keras.Sequential([\n",
        "        # This is the first convolution\n",
        "        keras.layers.Conv2D(conv1_filters, (3,3), strides=1, padding='same', activation='relu', kernel_initializer=init_param, input_shape=input_param),\n",
        "        keras.layers.Dropout(conv1_dropout),\n",
        "        keras.layers.BatchNormalization(),\n",
        "        keras.layers.MaxPooling2D((2,2), strides=2, padding='same'),\n",
        "        # This is the second convolution\n",
        "        keras.layers.Conv2D(conv2_filters, (3,3), strides=1, padding='same', activation='relu', kernel_initializer=init_param),\n",
        "        keras.layers.Dropout(conv2_dropout),\n",
        "        keras.layers.BatchNormalization(),\n",
        "        keras.layers.MaxPooling2D((2,2), strides=2, padding='same'),\n",
        "        # This is the third convolution\n",
        "        keras.layers.Conv2D(conv3_filters, (3,3), strides=1, padding='same', activation='relu', kernel_initializer=init_param),\n",
        "        keras.layers.Dropout(conv3_dropout),\n",
        "        keras.layers.BatchNormalization(),\n",
        "        keras.layers.MaxPooling2D((2,2), strides=2, padding='same'),\n",
        "        # This is the fourth convolution\n",
        "        keras.layers.Conv2D(conv4_filters, (3,3), strides=1, padding='same', activation='relu', kernel_initializer=init_param),\n",
        "        keras.layers.Dropout(conv4_dropout),\n",
        "        keras.layers.BatchNormalization(),\n",
        "        keras.layers.MaxPooling2D((2,2), strides=2, padding='same'),\n",
        "        # This is the fifth convolution\n",
        "        keras.layers.Conv2D(conv5_filters, (3,3), strides=1, padding='same', activation='relu', kernel_initializer=init_param),\n",
        "        keras.layers.Dropout(conv5_dropout),\n",
        "        keras.layers.BatchNormalization(),\n",
        "        keras.layers.MaxPooling2D((2,2), strides=2, padding='same'),\n",
        "        # Flatten the results to feed into a DNN\n",
        "        keras.layers.Flatten(),\n",
        "        keras.layers.Dense(dense_nodes, activation='relu', kernel_initializer=init_param),\n",
        "        keras.layers.Dropout(dense_dropout),\n",
        "        keras.layers.Dense(output_param, activation='softmax', kernel_initializer=init_param)\n",
        "    ])\n",
        "    nn_model.compile(loss=loss_param, optimizer=opt_param, metrics=metric_param)\n",
        "    return nn_model"
      ],
      "execution_count": 78,
      "outputs": []
    },
    {
      "cell_type": "code",
      "metadata": {
        "jupyter": {
          "outputs_hidden": false
        },
        "pycharm": {
          "name": "#%%\n"
        },
        "id": "WRGn_OPRVpqf",
        "colab": {
          "base_uri": "https://localhost:8080/"
        },
        "outputId": "95ca7f5e-0ef3-44af-a384-25ea51458e27"
      },
      "source": [
        "# Initialize the default model and get a baseline result\n",
        "startTimeModule = datetime.now()\n",
        "results = list()\n",
        "iteration = 0\n",
        "cv = RepeatedKFold(n_splits=N_FOLDS, n_repeats=N_ITERATIONS, random_state=RNG_SEED)\n",
        "for train_ix, val_ix in cv.split(X_train):\n",
        "    feature_train, feature_validation = X_train[train_ix], X_train[val_ix]\n",
        "    target_train, target_validation = y_train[train_ix], y_train[val_ix]\n",
        "    reset_random()\n",
        "    baseline_model = create_nn_model()\n",
        "    baseline_model.fit(feature_train, target_train, epochs=DEFAULT_EPOCH, batch_size=DEFAULT_BATCH, verbose=1)\n",
        "    model_metric = baseline_model.evaluate(feature_validation, target_validation, verbose=0)[1]\n",
        "    iteration = iteration + 1\n",
        "    print('Accuracy measurement from iteration %d >>> %.2f%%\\n' % (iteration, model_metric*100))\n",
        "    results.append(model_metric)\n",
        "validation_score = np.mean(results)\n",
        "validation_variance = np.std(results)\n",
        "print('Average model accuracy from all iterations: %.2f%% (%.2f%%)' % (validation_score*100, validation_variance*100))\n",
        "print('Total time for model fitting and cross validating:', (datetime.now() - startTimeModule))"
      ],
      "execution_count": 79,
      "outputs": [
        {
          "output_type": "stream",
          "text": [
            "Epoch 1/20\n",
            "1500/1500 [==============================] - 13s 8ms/step - loss: 0.0778 - accuracy: 0.9772\n",
            "Epoch 2/20\n",
            "1500/1500 [==============================] - 13s 8ms/step - loss: 0.0353 - accuracy: 0.9898\n",
            "Epoch 3/20\n",
            "1500/1500 [==============================] - 13s 8ms/step - loss: 0.0263 - accuracy: 0.9927\n",
            "Epoch 4/20\n",
            "1500/1500 [==============================] - 13s 8ms/step - loss: 0.0230 - accuracy: 0.9933\n",
            "Epoch 5/20\n",
            "1500/1500 [==============================] - 13s 8ms/step - loss: 0.0186 - accuracy: 0.9949\n",
            "Epoch 6/20\n",
            "1500/1500 [==============================] - 12s 8ms/step - loss: 0.0139 - accuracy: 0.9957\n",
            "Epoch 7/20\n",
            "1500/1500 [==============================] - 13s 8ms/step - loss: 0.0154 - accuracy: 0.9958\n",
            "Epoch 8/20\n",
            "1500/1500 [==============================] - 13s 8ms/step - loss: 0.0089 - accuracy: 0.9977\n",
            "Epoch 9/20\n",
            "1500/1500 [==============================] - 13s 8ms/step - loss: 0.0115 - accuracy: 0.9969\n",
            "Epoch 10/20\n",
            "1500/1500 [==============================] - 12s 8ms/step - loss: 0.0070 - accuracy: 0.9981\n",
            "Epoch 11/20\n",
            "1500/1500 [==============================] - 13s 8ms/step - loss: 0.0070 - accuracy: 0.9981\n",
            "Epoch 12/20\n",
            "1500/1500 [==============================] - 13s 8ms/step - loss: 0.0084 - accuracy: 0.9978\n",
            "Epoch 13/20\n",
            "1500/1500 [==============================] - 13s 8ms/step - loss: 0.0073 - accuracy: 0.9979\n",
            "Epoch 14/20\n",
            "1500/1500 [==============================] - 13s 8ms/step - loss: 0.0056 - accuracy: 0.9985\n",
            "Epoch 15/20\n",
            "1500/1500 [==============================] - 13s 8ms/step - loss: 0.0059 - accuracy: 0.9983\n",
            "Epoch 16/20\n",
            "1500/1500 [==============================] - 13s 8ms/step - loss: 0.0046 - accuracy: 0.9987\n",
            "Epoch 17/20\n",
            "1500/1500 [==============================] - 13s 8ms/step - loss: 0.0054 - accuracy: 0.9986\n",
            "Epoch 18/20\n",
            "1500/1500 [==============================] - 13s 8ms/step - loss: 0.0050 - accuracy: 0.9990\n",
            "Epoch 19/20\n",
            "1500/1500 [==============================] - 12s 8ms/step - loss: 0.0036 - accuracy: 0.9990\n",
            "Epoch 20/20\n",
            "1500/1500 [==============================] - 12s 8ms/step - loss: 0.0053 - accuracy: 0.9987\n",
            "Accuracy measurement from iteration 1 >>> 99.51%\n",
            "\n",
            "Epoch 1/20\n",
            "1500/1500 [==============================] - 12s 8ms/step - loss: 0.0900 - accuracy: 0.9730\n",
            "Epoch 2/20\n",
            "1500/1500 [==============================] - 13s 8ms/step - loss: 0.0298 - accuracy: 0.9916\n",
            "Epoch 3/20\n",
            "1500/1500 [==============================] - 12s 8ms/step - loss: 0.0256 - accuracy: 0.9930\n",
            "Epoch 4/20\n",
            "1500/1500 [==============================] - 12s 8ms/step - loss: 0.0198 - accuracy: 0.9940\n",
            "Epoch 5/20\n",
            "1500/1500 [==============================] - 12s 8ms/step - loss: 0.0164 - accuracy: 0.9950\n",
            "Epoch 6/20\n",
            "1500/1500 [==============================] - 12s 8ms/step - loss: 0.0136 - accuracy: 0.9960\n",
            "Epoch 7/20\n",
            "1500/1500 [==============================] - 12s 8ms/step - loss: 0.0117 - accuracy: 0.9969\n",
            "Epoch 8/20\n",
            "1500/1500 [==============================] - 12s 8ms/step - loss: 0.0117 - accuracy: 0.9967\n",
            "Epoch 9/20\n",
            "1500/1500 [==============================] - 12s 8ms/step - loss: 0.0103 - accuracy: 0.9969\n",
            "Epoch 10/20\n",
            "1500/1500 [==============================] - 12s 8ms/step - loss: 0.0070 - accuracy: 0.9979\n",
            "Epoch 11/20\n",
            "1500/1500 [==============================] - 12s 8ms/step - loss: 0.0075 - accuracy: 0.9981\n",
            "Epoch 12/20\n",
            "1500/1500 [==============================] - 12s 8ms/step - loss: 0.0059 - accuracy: 0.9983\n",
            "Epoch 13/20\n",
            "1500/1500 [==============================] - 12s 8ms/step - loss: 0.0070 - accuracy: 0.9980\n",
            "Epoch 14/20\n",
            "1500/1500 [==============================] - 12s 8ms/step - loss: 0.0057 - accuracy: 0.9984\n",
            "Epoch 15/20\n",
            "1500/1500 [==============================] - 12s 8ms/step - loss: 0.0049 - accuracy: 0.9984\n",
            "Epoch 16/20\n",
            "1500/1500 [==============================] - 12s 8ms/step - loss: 0.0052 - accuracy: 0.9986\n",
            "Epoch 17/20\n",
            "1500/1500 [==============================] - 12s 8ms/step - loss: 0.0037 - accuracy: 0.9988\n",
            "Epoch 18/20\n",
            "1500/1500 [==============================] - 12s 8ms/step - loss: 0.0052 - accuracy: 0.9986\n",
            "Epoch 19/20\n",
            "1500/1500 [==============================] - 12s 8ms/step - loss: 0.0051 - accuracy: 0.9988\n",
            "Epoch 20/20\n",
            "1500/1500 [==============================] - 12s 8ms/step - loss: 0.0042 - accuracy: 0.9990\n",
            "Accuracy measurement from iteration 2 >>> 99.62%\n",
            "\n",
            "Epoch 1/20\n",
            "1500/1500 [==============================] - 12s 8ms/step - loss: 0.0818 - accuracy: 0.9759\n",
            "Epoch 2/20\n",
            "1500/1500 [==============================] - 13s 8ms/step - loss: 0.0315 - accuracy: 0.9909\n",
            "Epoch 3/20\n",
            "1500/1500 [==============================] - 13s 8ms/step - loss: 0.0237 - accuracy: 0.9934\n",
            "Epoch 4/20\n",
            "1500/1500 [==============================] - 12s 8ms/step - loss: 0.0205 - accuracy: 0.9943\n",
            "Epoch 5/20\n",
            "1500/1500 [==============================] - 12s 8ms/step - loss: 0.0168 - accuracy: 0.9952\n",
            "Epoch 6/20\n",
            "1500/1500 [==============================] - 13s 8ms/step - loss: 0.0143 - accuracy: 0.9957\n",
            "Epoch 7/20\n",
            "1500/1500 [==============================] - 13s 9ms/step - loss: 0.0124 - accuracy: 0.9966\n",
            "Epoch 8/20\n",
            "1500/1500 [==============================] - 12s 8ms/step - loss: 0.0098 - accuracy: 0.9974\n",
            "Epoch 9/20\n",
            "1500/1500 [==============================] - 12s 8ms/step - loss: 0.0089 - accuracy: 0.9976\n",
            "Epoch 10/20\n",
            "1500/1500 [==============================] - 13s 8ms/step - loss: 0.0092 - accuracy: 0.9976\n",
            "Epoch 11/20\n",
            "1500/1500 [==============================] - 13s 8ms/step - loss: 0.0065 - accuracy: 0.9980\n",
            "Epoch 12/20\n",
            "1500/1500 [==============================] - 12s 8ms/step - loss: 0.0064 - accuracy: 0.9982\n",
            "Epoch 13/20\n",
            "1500/1500 [==============================] - 12s 8ms/step - loss: 0.0057 - accuracy: 0.9982\n",
            "Epoch 14/20\n",
            "1500/1500 [==============================] - 12s 8ms/step - loss: 0.0056 - accuracy: 0.9985\n",
            "Epoch 15/20\n",
            "1500/1500 [==============================] - 12s 8ms/step - loss: 0.0056 - accuracy: 0.9987\n",
            "Epoch 16/20\n",
            "1500/1500 [==============================] - 12s 8ms/step - loss: 0.0045 - accuracy: 0.9988\n",
            "Epoch 17/20\n",
            "1500/1500 [==============================] - 12s 8ms/step - loss: 0.0029 - accuracy: 0.9993\n",
            "Epoch 18/20\n",
            "1500/1500 [==============================] - 12s 8ms/step - loss: 0.0064 - accuracy: 0.9984\n",
            "Epoch 19/20\n",
            "1500/1500 [==============================] - 12s 8ms/step - loss: 0.0038 - accuracy: 0.9991\n",
            "Epoch 20/20\n",
            "1500/1500 [==============================] - 12s 8ms/step - loss: 0.0036 - accuracy: 0.9991\n",
            "Accuracy measurement from iteration 3 >>> 99.47%\n",
            "\n",
            "Epoch 1/20\n",
            "1500/1500 [==============================] - 12s 8ms/step - loss: 0.0875 - accuracy: 0.9736\n",
            "Epoch 2/20\n",
            "1500/1500 [==============================] - 13s 8ms/step - loss: 0.0313 - accuracy: 0.9905\n",
            "Epoch 3/20\n",
            "1500/1500 [==============================] - 12s 8ms/step - loss: 0.0244 - accuracy: 0.9933\n",
            "Epoch 4/20\n",
            "1500/1500 [==============================] - 12s 8ms/step - loss: 0.0211 - accuracy: 0.9938\n",
            "Epoch 5/20\n",
            "1500/1500 [==============================] - 12s 8ms/step - loss: 0.0184 - accuracy: 0.9945\n",
            "Epoch 6/20\n",
            "1500/1500 [==============================] - 12s 8ms/step - loss: 0.0145 - accuracy: 0.9962\n",
            "Epoch 7/20\n",
            "1500/1500 [==============================] - 12s 8ms/step - loss: 0.0121 - accuracy: 0.9965\n",
            "Epoch 8/20\n",
            "1500/1500 [==============================] - 12s 8ms/step - loss: 0.0113 - accuracy: 0.9967\n",
            "Epoch 9/20\n",
            "1500/1500 [==============================] - 13s 8ms/step - loss: 0.0104 - accuracy: 0.9974\n",
            "Epoch 10/20\n",
            "1500/1500 [==============================] - 14s 9ms/step - loss: 0.0078 - accuracy: 0.9977\n",
            "Epoch 11/20\n",
            "1500/1500 [==============================] - 13s 8ms/step - loss: 0.0081 - accuracy: 0.9979\n",
            "Epoch 12/20\n",
            "1500/1500 [==============================] - 13s 9ms/step - loss: 0.0070 - accuracy: 0.9978\n",
            "Epoch 13/20\n",
            "1500/1500 [==============================] - 13s 8ms/step - loss: 0.0055 - accuracy: 0.9985\n",
            "Epoch 14/20\n",
            "1500/1500 [==============================] - 13s 8ms/step - loss: 0.0065 - accuracy: 0.9980\n",
            "Epoch 15/20\n",
            "1500/1500 [==============================] - 13s 8ms/step - loss: 0.0064 - accuracy: 0.9984\n",
            "Epoch 16/20\n",
            "1500/1500 [==============================] - 13s 8ms/step - loss: 0.0049 - accuracy: 0.9987\n",
            "Epoch 17/20\n",
            "1500/1500 [==============================] - 14s 9ms/step - loss: 0.0072 - accuracy: 0.9980\n",
            "Epoch 18/20\n",
            "1500/1500 [==============================] - 13s 8ms/step - loss: 0.0025 - accuracy: 0.9992\n",
            "Epoch 19/20\n",
            "1500/1500 [==============================] - 13s 8ms/step - loss: 0.0042 - accuracy: 0.9990\n",
            "Epoch 20/20\n",
            "1500/1500 [==============================] - 13s 8ms/step - loss: 0.0041 - accuracy: 0.9989\n",
            "Accuracy measurement from iteration 4 >>> 99.52%\n",
            "\n",
            "Epoch 1/20\n",
            "1500/1500 [==============================] - 13s 8ms/step - loss: 0.0916 - accuracy: 0.9718\n",
            "Epoch 2/20\n",
            "1500/1500 [==============================] - 13s 8ms/step - loss: 0.0324 - accuracy: 0.9905\n",
            "Epoch 3/20\n",
            "1500/1500 [==============================] - 14s 9ms/step - loss: 0.0257 - accuracy: 0.9927\n",
            "Epoch 4/20\n",
            "1500/1500 [==============================] - 12s 8ms/step - loss: 0.0202 - accuracy: 0.9944\n",
            "Epoch 5/20\n",
            "1500/1500 [==============================] - 13s 8ms/step - loss: 0.0168 - accuracy: 0.9952\n",
            "Epoch 6/20\n",
            "1500/1500 [==============================] - 13s 8ms/step - loss: 0.0161 - accuracy: 0.9952\n",
            "Epoch 7/20\n",
            "1500/1500 [==============================] - 13s 8ms/step - loss: 0.0129 - accuracy: 0.9963\n",
            "Epoch 8/20\n",
            "1500/1500 [==============================] - 13s 8ms/step - loss: 0.0120 - accuracy: 0.9966\n",
            "Epoch 9/20\n",
            "1500/1500 [==============================] - 13s 8ms/step - loss: 0.0093 - accuracy: 0.9972\n",
            "Epoch 10/20\n",
            "1500/1500 [==============================] - 14s 9ms/step - loss: 0.0098 - accuracy: 0.9971\n",
            "Epoch 11/20\n",
            "1500/1500 [==============================] - 13s 8ms/step - loss: 0.0066 - accuracy: 0.9980\n",
            "Epoch 12/20\n",
            "1500/1500 [==============================] - 13s 8ms/step - loss: 0.0075 - accuracy: 0.9980\n",
            "Epoch 13/20\n",
            "1500/1500 [==============================] - 13s 8ms/step - loss: 0.0076 - accuracy: 0.9979\n",
            "Epoch 14/20\n",
            "1500/1500 [==============================] - 13s 8ms/step - loss: 0.0057 - accuracy: 0.9981\n",
            "Epoch 15/20\n",
            "1500/1500 [==============================] - 13s 8ms/step - loss: 0.0063 - accuracy: 0.9984\n",
            "Epoch 16/20\n",
            "1500/1500 [==============================] - 13s 9ms/step - loss: 0.0055 - accuracy: 0.9985\n",
            "Epoch 17/20\n",
            "1500/1500 [==============================] - 12s 8ms/step - loss: 0.0047 - accuracy: 0.9990\n",
            "Epoch 18/20\n",
            "1500/1500 [==============================] - 13s 8ms/step - loss: 0.0046 - accuracy: 0.9989\n",
            "Epoch 19/20\n",
            "1500/1500 [==============================] - 13s 8ms/step - loss: 0.0042 - accuracy: 0.9989\n",
            "Epoch 20/20\n",
            "1500/1500 [==============================] - 13s 8ms/step - loss: 0.0059 - accuracy: 0.9985\n",
            "Accuracy measurement from iteration 5 >>> 99.52%\n",
            "\n",
            "Average model accuracy from all iterations: 99.52% (0.05%)\n",
            "Total time for model fitting and cross validating: 0:21:11.334437\n"
          ],
          "name": "stdout"
        }
      ]
    },
    {
      "cell_type": "code",
      "metadata": {
        "colab": {
          "base_uri": "https://localhost:8080/"
        },
        "id": "VTAVHMgDhlc6",
        "outputId": "05b489d2-63d2-44d5-a4f1-0da2cadff5d2"
      },
      "source": [
        "baseline_model.summary()"
      ],
      "execution_count": 80,
      "outputs": [
        {
          "output_type": "stream",
          "text": [
            "Model: \"sequential_15\"\n",
            "_________________________________________________________________\n",
            "Layer (type)                 Output Shape              Param #   \n",
            "=================================================================\n",
            "conv2d_75 (Conv2D)           (None, 28, 28, 512)       5120      \n",
            "_________________________________________________________________\n",
            "dropout_90 (Dropout)         (None, 28, 28, 512)       0         \n",
            "_________________________________________________________________\n",
            "batch_normalization_75 (Batc (None, 28, 28, 512)       2048      \n",
            "_________________________________________________________________\n",
            "max_pooling2d_75 (MaxPooling (None, 14, 14, 512)       0         \n",
            "_________________________________________________________________\n",
            "conv2d_76 (Conv2D)           (None, 14, 14, 384)       1769856   \n",
            "_________________________________________________________________\n",
            "dropout_91 (Dropout)         (None, 14, 14, 384)       0         \n",
            "_________________________________________________________________\n",
            "batch_normalization_76 (Batc (None, 14, 14, 384)       1536      \n",
            "_________________________________________________________________\n",
            "max_pooling2d_76 (MaxPooling (None, 7, 7, 384)         0         \n",
            "_________________________________________________________________\n",
            "conv2d_77 (Conv2D)           (None, 7, 7, 256)         884992    \n",
            "_________________________________________________________________\n",
            "dropout_92 (Dropout)         (None, 7, 7, 256)         0         \n",
            "_________________________________________________________________\n",
            "batch_normalization_77 (Batc (None, 7, 7, 256)         1024      \n",
            "_________________________________________________________________\n",
            "max_pooling2d_77 (MaxPooling (None, 4, 4, 256)         0         \n",
            "_________________________________________________________________\n",
            "conv2d_78 (Conv2D)           (None, 4, 4, 128)         295040    \n",
            "_________________________________________________________________\n",
            "dropout_93 (Dropout)         (None, 4, 4, 128)         0         \n",
            "_________________________________________________________________\n",
            "batch_normalization_78 (Batc (None, 4, 4, 128)         512       \n",
            "_________________________________________________________________\n",
            "max_pooling2d_78 (MaxPooling (None, 2, 2, 128)         0         \n",
            "_________________________________________________________________\n",
            "conv2d_79 (Conv2D)           (None, 2, 2, 64)          73792     \n",
            "_________________________________________________________________\n",
            "dropout_94 (Dropout)         (None, 2, 2, 64)          0         \n",
            "_________________________________________________________________\n",
            "batch_normalization_79 (Batc (None, 2, 2, 64)          256       \n",
            "_________________________________________________________________\n",
            "max_pooling2d_79 (MaxPooling (None, 1, 1, 64)          0         \n",
            "_________________________________________________________________\n",
            "flatten_15 (Flatten)         (None, 64)                0         \n",
            "_________________________________________________________________\n",
            "dense_30 (Dense)             (None, 2048)              133120    \n",
            "_________________________________________________________________\n",
            "dropout_95 (Dropout)         (None, 2048)              0         \n",
            "_________________________________________________________________\n",
            "dense_31 (Dense)             (None, 10)                20490     \n",
            "=================================================================\n",
            "Total params: 3,187,786\n",
            "Trainable params: 3,185,098\n",
            "Non-trainable params: 2,688\n",
            "_________________________________________________________________\n"
          ],
          "name": "stdout"
        }
      ]
    },
    {
      "cell_type": "code",
      "metadata": {
        "jupyter": {
          "outputs_hidden": false
        },
        "pycharm": {
          "name": "#%%\n"
        },
        "id": "_bk47y7NVpqg"
      },
      "source": [
        "if notifyStatus: status_notify('(TensorFlow Multi-Class) Task 3 - Define and Train Models completed on ' + datetime.now().strftime('%A %B %d, %Y %I:%M:%S %p'))"
      ],
      "execution_count": 81,
      "outputs": []
    },
    {
      "cell_type": "markdown",
      "metadata": {
        "id": "rcwFTLm0Vpqg"
      },
      "source": [
        "# Task 4 - Evaluate and Optimize Models"
      ]
    },
    {
      "cell_type": "code",
      "metadata": {
        "jupyter": {
          "outputs_hidden": false
        },
        "pycharm": {
          "name": "#%%\n"
        },
        "id": "akyYpWyGVpqg"
      },
      "source": [
        "if notifyStatus: status_notify('(TensorFlow Multi-Class) Task 4 - Evaluate and Optimize Models has begun on ' + datetime.now().strftime('%A %B %d, %Y %I:%M:%S %p'))"
      ],
      "execution_count": 82,
      "outputs": []
    },
    {
      "cell_type": "code",
      "metadata": {
        "jupyter": {
          "outputs_hidden": false
        },
        "pycharm": {
          "name": "#%%\n"
        },
        "id": "eP11PwgKVpqg",
        "colab": {
          "base_uri": "https://localhost:8080/"
        },
        "outputId": "1d51f4b4-0efc-47fa-8665-6398a322a0c2"
      },
      "source": [
        "# Initialize an alternate model to compare with the baseline result\n",
        "startTimeModule = datetime.now()\n",
        "results = list()\n",
        "iteration = 0\n",
        "cv = RepeatedKFold(n_splits=N_FOLDS, n_repeats=N_ITERATIONS, random_state=RNG_SEED)\n",
        "for train_ix, val_ix in cv.split(X_train):\n",
        "    feature_train, feature_validation = X_train[train_ix], X_train[val_ix]\n",
        "    target_train, target_validation = y_train[train_ix], y_train[val_ix]\n",
        "    reset_random()\n",
        "    alternate_model = create_nn_model(conv1_dropout=0.25, conv2_dropout=0.25, conv3_dropout=0.25, conv4_dropout=0.25, conv5_dropout=0.25, dense_dropout=0.25)\n",
        "    alternate_model.fit(feature_train, target_train, epochs=DEFAULT_EPOCH, batch_size=DEFAULT_BATCH, verbose=1)\n",
        "    model_metric = alternate_model.evaluate(feature_validation, target_validation, verbose=0)[1]\n",
        "    iteration = iteration + 1\n",
        "    print('Accuracy measurement from iteration %d >>> %.2f%%\\n' % (iteration, model_metric*100))\n",
        "    results.append(model_metric)\n",
        "validation_score = np.mean(results)\n",
        "validation_variance = np.std(results)\n",
        "print('Average model accuracy from all iterations: %.2f%% (%.2f%%)' % (validation_score*100, validation_variance*100))\n",
        "print('Total time for model fitting and cross validating:', (datetime.now() - startTimeModule))"
      ],
      "execution_count": 83,
      "outputs": [
        {
          "output_type": "stream",
          "text": [
            "Epoch 1/20\n",
            "1500/1500 [==============================] - 13s 9ms/step - loss: 0.1241 - accuracy: 0.9606\n",
            "Epoch 2/20\n",
            "1500/1500 [==============================] - 13s 9ms/step - loss: 0.0429 - accuracy: 0.9875\n",
            "Epoch 3/20\n",
            "1500/1500 [==============================] - 13s 9ms/step - loss: 0.0346 - accuracy: 0.9901\n",
            "Epoch 4/20\n",
            "1500/1500 [==============================] - 13s 9ms/step - loss: 0.0310 - accuracy: 0.9910\n",
            "Epoch 5/20\n",
            "1500/1500 [==============================] - 13s 9ms/step - loss: 0.0258 - accuracy: 0.9929\n",
            "Epoch 6/20\n",
            "1500/1500 [==============================] - 13s 9ms/step - loss: 0.0241 - accuracy: 0.9930\n",
            "Epoch 7/20\n",
            "1500/1500 [==============================] - 13s 9ms/step - loss: 0.0203 - accuracy: 0.9943\n",
            "Epoch 8/20\n",
            "1500/1500 [==============================] - 13s 9ms/step - loss: 0.0171 - accuracy: 0.9952\n",
            "Epoch 9/20\n",
            "1500/1500 [==============================] - 13s 9ms/step - loss: 0.0177 - accuracy: 0.9950\n",
            "Epoch 10/20\n",
            "1500/1500 [==============================] - 13s 9ms/step - loss: 0.0138 - accuracy: 0.9959\n",
            "Epoch 11/20\n",
            "1500/1500 [==============================] - 13s 9ms/step - loss: 0.0125 - accuracy: 0.9965\n",
            "Epoch 12/20\n",
            "1500/1500 [==============================] - 13s 9ms/step - loss: 0.0133 - accuracy: 0.9962\n",
            "Epoch 13/20\n",
            "1500/1500 [==============================] - 14s 9ms/step - loss: 0.0120 - accuracy: 0.9969\n",
            "Epoch 14/20\n",
            "1500/1500 [==============================] - 13s 9ms/step - loss: 0.0109 - accuracy: 0.9967\n",
            "Epoch 15/20\n",
            "1500/1500 [==============================] - 13s 9ms/step - loss: 0.0084 - accuracy: 0.9977\n",
            "Epoch 16/20\n",
            "1500/1500 [==============================] - 13s 9ms/step - loss: 0.0091 - accuracy: 0.9970\n",
            "Epoch 17/20\n",
            "1500/1500 [==============================] - 13s 9ms/step - loss: 0.0098 - accuracy: 0.9975\n",
            "Epoch 18/20\n",
            "1500/1500 [==============================] - 13s 9ms/step - loss: 0.0090 - accuracy: 0.9973\n",
            "Epoch 19/20\n",
            "1500/1500 [==============================] - 14s 9ms/step - loss: 0.0070 - accuracy: 0.9979\n",
            "Epoch 20/20\n",
            "1500/1500 [==============================] - 13s 9ms/step - loss: 0.0072 - accuracy: 0.9977\n",
            "Accuracy measurement from iteration 1 >>> 11.88%\n",
            "\n",
            "Epoch 1/20\n",
            "1500/1500 [==============================] - 13s 9ms/step - loss: 0.1329 - accuracy: 0.9585\n",
            "Epoch 2/20\n",
            "1500/1500 [==============================] - 13s 9ms/step - loss: 0.0460 - accuracy: 0.9874\n",
            "Epoch 3/20\n",
            "1500/1500 [==============================] - 13s 9ms/step - loss: 0.0370 - accuracy: 0.9894\n",
            "Epoch 4/20\n",
            "1500/1500 [==============================] - 13s 9ms/step - loss: 0.0337 - accuracy: 0.9906\n",
            "Epoch 5/20\n",
            "1500/1500 [==============================] - 13s 9ms/step - loss: 0.0267 - accuracy: 0.9920\n",
            "Epoch 6/20\n",
            "1500/1500 [==============================] - 13s 9ms/step - loss: 0.0242 - accuracy: 0.9936\n",
            "Epoch 7/20\n",
            "1500/1500 [==============================] - 13s 9ms/step - loss: 0.0239 - accuracy: 0.9934\n",
            "Epoch 8/20\n",
            "1500/1500 [==============================] - 13s 9ms/step - loss: 0.0186 - accuracy: 0.9946\n",
            "Epoch 9/20\n",
            "1500/1500 [==============================] - 13s 9ms/step - loss: 0.0173 - accuracy: 0.9950\n",
            "Epoch 10/20\n",
            "1500/1500 [==============================] - 13s 9ms/step - loss: 0.0178 - accuracy: 0.9949\n",
            "Epoch 11/20\n",
            "1500/1500 [==============================] - 13s 9ms/step - loss: 0.0125 - accuracy: 0.9965\n",
            "Epoch 12/20\n",
            "1500/1500 [==============================] - 13s 9ms/step - loss: 0.0123 - accuracy: 0.9964\n",
            "Epoch 13/20\n",
            "1500/1500 [==============================] - 13s 9ms/step - loss: 0.0115 - accuracy: 0.9967\n",
            "Epoch 14/20\n",
            "1500/1500 [==============================] - 13s 9ms/step - loss: 0.0120 - accuracy: 0.9967\n",
            "Epoch 15/20\n",
            "1500/1500 [==============================] - 13s 9ms/step - loss: 0.0110 - accuracy: 0.9969\n",
            "Epoch 16/20\n",
            "1500/1500 [==============================] - 13s 9ms/step - loss: 0.0082 - accuracy: 0.9976\n",
            "Epoch 17/20\n",
            "1500/1500 [==============================] - 13s 9ms/step - loss: 0.0095 - accuracy: 0.9973\n",
            "Epoch 18/20\n",
            "1500/1500 [==============================] - 13s 9ms/step - loss: 0.0104 - accuracy: 0.9973\n",
            "Epoch 19/20\n",
            "1500/1500 [==============================] - 13s 9ms/step - loss: 0.0073 - accuracy: 0.9978\n",
            "Epoch 20/20\n",
            "1500/1500 [==============================] - 13s 9ms/step - loss: 0.0084 - accuracy: 0.9977\n",
            "Accuracy measurement from iteration 2 >>> 10.03%\n",
            "\n",
            "Epoch 1/20\n",
            "1500/1500 [==============================] - 14s 9ms/step - loss: 0.1360 - accuracy: 0.9568\n",
            "Epoch 2/20\n",
            "1500/1500 [==============================] - 14s 9ms/step - loss: 0.0450 - accuracy: 0.9872\n",
            "Epoch 3/20\n",
            "1500/1500 [==============================] - 13s 9ms/step - loss: 0.0378 - accuracy: 0.9895\n",
            "Epoch 4/20\n",
            "1500/1500 [==============================] - 13s 9ms/step - loss: 0.0330 - accuracy: 0.9909\n",
            "Epoch 5/20\n",
            "1500/1500 [==============================] - 13s 9ms/step - loss: 0.0273 - accuracy: 0.9930\n",
            "Epoch 6/20\n",
            "1500/1500 [==============================] - 13s 9ms/step - loss: 0.0234 - accuracy: 0.9931\n",
            "Epoch 7/20\n",
            "1500/1500 [==============================] - 13s 9ms/step - loss: 0.0218 - accuracy: 0.9942\n",
            "Epoch 8/20\n",
            "1500/1500 [==============================] - 13s 9ms/step - loss: 0.0202 - accuracy: 0.9946\n",
            "Epoch 9/20\n",
            "1500/1500 [==============================] - 13s 9ms/step - loss: 0.0166 - accuracy: 0.9951\n",
            "Epoch 10/20\n",
            "1500/1500 [==============================] - 13s 9ms/step - loss: 0.0144 - accuracy: 0.9959\n",
            "Epoch 11/20\n",
            "1500/1500 [==============================] - 13s 9ms/step - loss: 0.0139 - accuracy: 0.9963\n",
            "Epoch 12/20\n",
            "1500/1500 [==============================] - 13s 9ms/step - loss: 0.0113 - accuracy: 0.9967\n",
            "Epoch 13/20\n",
            "1500/1500 [==============================] - 13s 9ms/step - loss: 0.0142 - accuracy: 0.9960\n",
            "Epoch 14/20\n",
            "1500/1500 [==============================] - 13s 9ms/step - loss: 0.0110 - accuracy: 0.9968\n",
            "Epoch 15/20\n",
            "1500/1500 [==============================] - 13s 9ms/step - loss: 0.0093 - accuracy: 0.9972\n",
            "Epoch 16/20\n",
            "1500/1500 [==============================] - 13s 9ms/step - loss: 0.0085 - accuracy: 0.9978\n",
            "Epoch 17/20\n",
            "1500/1500 [==============================] - 13s 9ms/step - loss: 0.0104 - accuracy: 0.9973\n",
            "Epoch 18/20\n",
            "1500/1500 [==============================] - 14s 9ms/step - loss: 0.0087 - accuracy: 0.9977\n",
            "Epoch 19/20\n",
            "1500/1500 [==============================] - 14s 9ms/step - loss: 0.0082 - accuracy: 0.9978\n",
            "Epoch 20/20\n",
            "1500/1500 [==============================] - 13s 9ms/step - loss: 0.0077 - accuracy: 0.9980\n",
            "Accuracy measurement from iteration 3 >>> 9.71%\n",
            "\n",
            "Epoch 1/20\n",
            "1500/1500 [==============================] - 14s 9ms/step - loss: 0.1256 - accuracy: 0.9596\n",
            "Epoch 2/20\n",
            "1500/1500 [==============================] - 13s 9ms/step - loss: 0.0434 - accuracy: 0.9876\n",
            "Epoch 3/20\n",
            "1500/1500 [==============================] - 13s 9ms/step - loss: 0.0363 - accuracy: 0.9902\n",
            "Epoch 4/20\n",
            "1500/1500 [==============================] - 14s 9ms/step - loss: 0.0310 - accuracy: 0.9915\n",
            "Epoch 5/20\n",
            "1500/1500 [==============================] - 14s 9ms/step - loss: 0.0265 - accuracy: 0.9926\n",
            "Epoch 6/20\n",
            "1500/1500 [==============================] - 13s 9ms/step - loss: 0.0245 - accuracy: 0.9932\n",
            "Epoch 7/20\n",
            "1500/1500 [==============================] - 13s 9ms/step - loss: 0.0212 - accuracy: 0.9940\n",
            "Epoch 8/20\n",
            "1500/1500 [==============================] - 13s 9ms/step - loss: 0.0197 - accuracy: 0.9944\n",
            "Epoch 9/20\n",
            "1500/1500 [==============================] - 13s 9ms/step - loss: 0.0175 - accuracy: 0.9952\n",
            "Epoch 10/20\n",
            "1500/1500 [==============================] - 13s 9ms/step - loss: 0.0153 - accuracy: 0.9955\n",
            "Epoch 11/20\n",
            "1500/1500 [==============================] - 13s 9ms/step - loss: 0.0141 - accuracy: 0.9960\n",
            "Epoch 12/20\n",
            "1500/1500 [==============================] - 13s 9ms/step - loss: 0.0138 - accuracy: 0.9961\n",
            "Epoch 13/20\n",
            "1500/1500 [==============================] - 13s 9ms/step - loss: 0.0122 - accuracy: 0.9966\n",
            "Epoch 14/20\n",
            "1500/1500 [==============================] - 13s 9ms/step - loss: 0.0110 - accuracy: 0.9970\n",
            "Epoch 15/20\n",
            "1500/1500 [==============================] - 13s 9ms/step - loss: 0.0102 - accuracy: 0.9974\n",
            "Epoch 16/20\n",
            "1500/1500 [==============================] - 13s 9ms/step - loss: 0.0096 - accuracy: 0.9974\n",
            "Epoch 17/20\n",
            "1500/1500 [==============================] - 13s 9ms/step - loss: 0.0098 - accuracy: 0.9973\n",
            "Epoch 18/20\n",
            "1500/1500 [==============================] - 13s 9ms/step - loss: 0.0107 - accuracy: 0.9971\n",
            "Epoch 19/20\n",
            "1500/1500 [==============================] - 14s 9ms/step - loss: 0.0071 - accuracy: 0.9980\n",
            "Epoch 20/20\n",
            "1500/1500 [==============================] - 13s 9ms/step - loss: 0.0085 - accuracy: 0.9974\n",
            "Accuracy measurement from iteration 4 >>> 11.53%\n",
            "\n",
            "Epoch 1/20\n",
            "1500/1500 [==============================] - 14s 9ms/step - loss: 0.1399 - accuracy: 0.9555\n",
            "Epoch 2/20\n",
            "1500/1500 [==============================] - 13s 9ms/step - loss: 0.0460 - accuracy: 0.9871\n",
            "Epoch 3/20\n",
            "1500/1500 [==============================] - 14s 9ms/step - loss: 0.0360 - accuracy: 0.9904\n",
            "Epoch 4/20\n",
            "1500/1500 [==============================] - 13s 9ms/step - loss: 0.0344 - accuracy: 0.9910\n",
            "Epoch 5/20\n",
            "1500/1500 [==============================] - 13s 9ms/step - loss: 0.0288 - accuracy: 0.9920\n",
            "Epoch 6/20\n",
            "1500/1500 [==============================] - 13s 9ms/step - loss: 0.0271 - accuracy: 0.9928\n",
            "Epoch 7/20\n",
            "1500/1500 [==============================] - 14s 9ms/step - loss: 0.0213 - accuracy: 0.9944\n",
            "Epoch 8/20\n",
            "1500/1500 [==============================] - 14s 9ms/step - loss: 0.0215 - accuracy: 0.9945\n",
            "Epoch 9/20\n",
            "1500/1500 [==============================] - 13s 9ms/step - loss: 0.0193 - accuracy: 0.9947\n",
            "Epoch 10/20\n",
            "1500/1500 [==============================] - 13s 9ms/step - loss: 0.0167 - accuracy: 0.9956\n",
            "Epoch 11/20\n",
            "1500/1500 [==============================] - 13s 9ms/step - loss: 0.0150 - accuracy: 0.9956\n",
            "Epoch 12/20\n",
            "1500/1500 [==============================] - 13s 9ms/step - loss: 0.0142 - accuracy: 0.9960\n",
            "Epoch 13/20\n",
            "1500/1500 [==============================] - 13s 9ms/step - loss: 0.0134 - accuracy: 0.9962\n",
            "Epoch 14/20\n",
            "1500/1500 [==============================] - 13s 9ms/step - loss: 0.0122 - accuracy: 0.9965\n",
            "Epoch 15/20\n",
            "1500/1500 [==============================] - 14s 9ms/step - loss: 0.0101 - accuracy: 0.9970\n",
            "Epoch 16/20\n",
            "1500/1500 [==============================] - 14s 9ms/step - loss: 0.0107 - accuracy: 0.9969\n",
            "Epoch 17/20\n",
            "1500/1500 [==============================] - 13s 9ms/step - loss: 0.0096 - accuracy: 0.9972\n",
            "Epoch 18/20\n",
            "1500/1500 [==============================] - 13s 9ms/step - loss: 0.0083 - accuracy: 0.9977\n",
            "Epoch 19/20\n",
            "1500/1500 [==============================] - 14s 9ms/step - loss: 0.0107 - accuracy: 0.9973\n",
            "Epoch 20/20\n",
            "1500/1500 [==============================] - 14s 9ms/step - loss: 0.0083 - accuracy: 0.9978\n",
            "Accuracy measurement from iteration 5 >>> 20.61%\n",
            "\n",
            "Average model accuracy from all iterations: 12.75% (4.02%)\n",
            "Total time for model fitting and cross validating: 0:22:37.439327\n"
          ],
          "name": "stdout"
        }
      ]
    },
    {
      "cell_type": "code",
      "metadata": {
        "jupyter": {
          "outputs_hidden": false
        },
        "pycharm": {
          "name": "#%%\n"
        },
        "id": "j0tnUsKRVpqj"
      },
      "source": [
        "alternate_model.summary()"
      ],
      "execution_count": null,
      "outputs": []
    },
    {
      "cell_type": "code",
      "metadata": {
        "id": "Iq-ofGUOVpqk"
      },
      "source": [
        "if notifyStatus: status_notify('(TensorFlow Multi-Class) Task 4 - Evaluate and Optimize Models completed on ' + datetime.now().strftime('%A %B %d, %Y %I:%M:%S %p'))"
      ],
      "execution_count": null,
      "outputs": []
    },
    {
      "cell_type": "markdown",
      "metadata": {
        "id": "lgWgkDxAVpqk"
      },
      "source": [
        "# Task 5 - Finalize Model and Make Predictions"
      ]
    },
    {
      "cell_type": "code",
      "metadata": {
        "id": "8jPD_c70Vpql"
      },
      "source": [
        "if notifyStatus: status_notify('(TensorFlow Multi-Class) Task 5 - Finalize Model and Make Predictions has begun on ' + datetime.now().strftime('%A %B %d, %Y %I:%M:%S %p'))"
      ],
      "execution_count": null,
      "outputs": []
    },
    {
      "cell_type": "markdown",
      "metadata": {
        "id": "WxKJ_yHRlezc"
      },
      "source": [
        "### 5.a) Load the Test Dataset"
      ]
    },
    {
      "cell_type": "code",
      "metadata": {
        "id": "tfMZAkkLllKQ"
      },
      "source": [
        "dataset_path = 'https://dainesanalytics.com/datasets/kaggle-kannada-handwritten-digits/test.csv'\r\n",
        "X_test_df = pd.read_csv(dataset_path, sep=',')\r\n",
        "print('Number of records loaded into the dataframe:', len(X_test_df))"
      ],
      "execution_count": null,
      "outputs": []
    },
    {
      "cell_type": "code",
      "metadata": {
        "colab": {
          "base_uri": "https://localhost:8080/"
        },
        "id": "2jtxPkF0mMrG",
        "outputId": "9802bdbd-a30a-46bf-daa2-db85e80dc499"
      },
      "source": [
        "# Take a peek at the dataframe after the import\r\n",
        "print(X_test_df.head())"
      ],
      "execution_count": 88,
      "outputs": [
        {
          "output_type": "stream",
          "text": [
            "   id  pixel0  pixel1  pixel2  pixel3  pixel4  pixel5  pixel6  pixel7  pixel8  ...  pixel774  pixel775  pixel776  pixel777  pixel778  \\\n",
            "0   0       0       0       0       0       0       0       0       0       0  ...         0         0         0         0         0   \n",
            "1   1       0       0       0       0       0       0       0       0       0  ...         0         0         0         0         0   \n",
            "2   2       0       0       0       0       0       0       0       0       0  ...         0         0         0         0         0   \n",
            "3   3       0       0       0       0       0       0       0       0       0  ...         0         0         0         0         0   \n",
            "4   4       0       0       0       0       0       0       0       0       0  ...         0         0         0         0         0   \n",
            "\n",
            "   pixel779  pixel780  pixel781  pixel782  pixel783  \n",
            "0         0         0         0         0         0  \n",
            "1         0         0         0         0         0  \n",
            "2         0         0         0         0         0  \n",
            "3         0         0         0         0         0  \n",
            "4         0         0         0         0         0  \n",
            "\n",
            "[5 rows x 785 columns]\n"
          ],
          "name": "stdout"
        }
      ]
    },
    {
      "cell_type": "code",
      "metadata": {
        "colab": {
          "base_uri": "https://localhost:8080/"
        },
        "id": "TAg3Hsfrllfr",
        "outputId": "7d9a5572-06a6-41a5-a4f3-78c3e53f9b39"
      },
      "source": [
        "X_test_df.info()"
      ],
      "execution_count": 89,
      "outputs": [
        {
          "output_type": "stream",
          "text": [
            "<class 'pandas.core.frame.DataFrame'>\n",
            "RangeIndex: 5000 entries, 0 to 4999\n",
            "Columns: 785 entries, id to pixel783\n",
            "dtypes: int64(785)\n",
            "memory usage: 29.9 MB\n"
          ],
          "name": "stdout"
        }
      ]
    },
    {
      "cell_type": "code",
      "metadata": {
        "colab": {
          "base_uri": "https://localhost:8080/"
        },
        "id": "y1TCZTIUllpc",
        "outputId": "74bac212-9f1e-4fa5-bced-be4cfe39c85c"
      },
      "source": [
        "print(X_test_df.describe())"
      ],
      "execution_count": 90,
      "outputs": [
        {
          "output_type": "stream",
          "text": [
            "                id  pixel0  pixel1  pixel2  pixel3  pixel4  pixel5  pixel6  pixel7      pixel8  ...     pixel774     pixel775  \\\n",
            "count  5000.000000  5000.0  5000.0  5000.0  5000.0  5000.0  5000.0  5000.0  5000.0  5000.00000  ...  5000.000000  5000.000000   \n",
            "mean   2499.500000     0.0     0.0     0.0     0.0     0.0     0.0     0.0     0.0     0.04780  ...     0.191600     0.112600   \n",
            "std    1443.520003     0.0     0.0     0.0     0.0     0.0     0.0     0.0     0.0     3.37997  ...     6.077753     4.859161   \n",
            "min       0.000000     0.0     0.0     0.0     0.0     0.0     0.0     0.0     0.0     0.00000  ...     0.000000     0.000000   \n",
            "25%    1249.750000     0.0     0.0     0.0     0.0     0.0     0.0     0.0     0.0     0.00000  ...     0.000000     0.000000   \n",
            "50%    2499.500000     0.0     0.0     0.0     0.0     0.0     0.0     0.0     0.0     0.00000  ...     0.000000     0.000000   \n",
            "75%    3749.250000     0.0     0.0     0.0     0.0     0.0     0.0     0.0     0.0     0.00000  ...     0.000000     0.000000   \n",
            "max    4999.000000     0.0     0.0     0.0     0.0     0.0     0.0     0.0     0.0   239.00000  ...   255.000000   255.000000   \n",
            "\n",
            "          pixel776     pixel777  pixel778  pixel779     pixel780  pixel781  pixel782  pixel783  \n",
            "count  5000.000000  5000.000000    5000.0    5000.0  5000.000000    5000.0    5000.0    5000.0  \n",
            "mean      0.109800     0.078000       0.0       0.0     0.039800       0.0       0.0       0.0  \n",
            "std       4.766832     4.080104       0.0       0.0     2.814285       0.0       0.0       0.0  \n",
            "min       0.000000     0.000000       0.0       0.0     0.000000       0.0       0.0       0.0  \n",
            "25%       0.000000     0.000000       0.0       0.0     0.000000       0.0       0.0       0.0  \n",
            "50%       0.000000     0.000000       0.0       0.0     0.000000       0.0       0.0       0.0  \n",
            "75%       0.000000     0.000000       0.0       0.0     0.000000       0.0       0.0       0.0  \n",
            "max     255.000000   255.000000       0.0       0.0   199.000000       0.0       0.0       0.0  \n",
            "\n",
            "[8 rows x 785 columns]\n"
          ],
          "name": "stdout"
        }
      ]
    },
    {
      "cell_type": "code",
      "metadata": {
        "colab": {
          "base_uri": "https://localhost:8080/"
        },
        "id": "GJ_S4oK_ma-Y",
        "outputId": "6c09884f-1109-459c-8827-888c9d8f9e7b"
      },
      "source": [
        "# Surface the features that have NaNs\r\n",
        "null_counts = X_test_df.isnull().sum()\r\n",
        "if null_counts.sum() > 0 :\r\n",
        "    print(null_counts[null_counts > 0])\r\n",
        "print('Total number of NaN in the dataframe:', null_counts.sum())"
      ],
      "execution_count": 91,
      "outputs": [
        {
          "output_type": "stream",
          "text": [
            "Total number of NaN in the dataframe: 0\n"
          ],
          "name": "stdout"
        }
      ]
    },
    {
      "cell_type": "code",
      "metadata": {
        "colab": {
          "base_uri": "https://localhost:8080/"
        },
        "id": "_wwduJYkmrwF",
        "outputId": "1d00bb18-bda5-4bfc-d2a2-3f8846294fab"
      },
      "source": [
        "# Set up the dataframe to capture predictions for Kaggle submission\r\n",
        "y_submission_kaggle = pd.DataFrame(columns=['id', 'label'])\r\n",
        "y_submission_kaggle['id'] = X_test_df['id']\r\n",
        "X_test_df.drop(columns=['id'], inplace=True)\r\n",
        "print(y_submission_kaggle.head())"
      ],
      "execution_count": 92,
      "outputs": [
        {
          "output_type": "stream",
          "text": [
            "   id label\n",
            "0   0   NaN\n",
            "1   1   NaN\n",
            "2   2   NaN\n",
            "3   3   NaN\n",
            "4   4   NaN\n"
          ],
          "name": "stdout"
        }
      ]
    },
    {
      "cell_type": "code",
      "metadata": {
        "colab": {
          "base_uri": "https://localhost:8080/"
        },
        "id": "M-66x1ymnDE9",
        "outputId": "2bf8f5a4-e356-4b23-c807-da20eae8b9b7"
      },
      "source": [
        "# Normalize the data to reduce the effect of illumination's differences and help the CNN converges faster\r\n",
        "X_test = X_test_df.to_numpy()\r\n",
        "X_test = X_test / 255\r\n",
        "print('X_test.shape:', X_test.shape)"
      ],
      "execution_count": 93,
      "outputs": [
        {
          "output_type": "stream",
          "text": [
            "X_test.shape: (5000, 784)\n"
          ],
          "name": "stdout"
        }
      ]
    },
    {
      "cell_type": "code",
      "metadata": {
        "colab": {
          "base_uri": "https://localhost:8080/"
        },
        "id": "B6EsDXLJnSgW",
        "outputId": "f236583f-42ed-49fe-a7ae-3a426af80c72"
      },
      "source": [
        "# Reshaping the data from 1-D to 3-D as required through input by CNN's\r\n",
        "X_test = X_test.reshape(-1, 28, 28, 1)\r\n",
        "print('X_test.shape:', X_test.shape)"
      ],
      "execution_count": 94,
      "outputs": [
        {
          "output_type": "stream",
          "text": [
            "X_test.shape: (5000, 28, 28, 1)\n"
          ],
          "name": "stdout"
        }
      ]
    },
    {
      "cell_type": "code",
      "metadata": {
        "colab": {
          "base_uri": "https://localhost:8080/",
          "height": 450
        },
        "id": "aZpaUW8Ina-O",
        "outputId": "99098931-c062-463a-fcca-b45a74c22dcd"
      },
      "source": [
        "# Spot-checking the first 10 training images\r\n",
        "f, ax = plt.subplots(2, 5)\r\n",
        "f.set_size_inches(10, 10)\r\n",
        "k = 0\r\n",
        "for i in range(2):\r\n",
        "    for j in range(5):\r\n",
        "        ax[i, j].imshow(X_test[k].reshape(28, 28) , cmap=\"gray\")\r\n",
        "        k += 1\r\n",
        "plt.tight_layout()\r\n",
        "plt.show()"
      ],
      "execution_count": 95,
      "outputs": [
        {
          "output_type": "display_data",
          "data": {
            "image/png": "[encoded data removed]",
            "text/plain": [
              "<Figure size 720x720 with 10 Axes>"
            ]
          },
          "metadata": {
            "tags": [],
            "needs_background": "light"
          }
        }
      ]
    },
    {
      "cell_type": "markdown",
      "metadata": {
        "id": "BUJiP-K1lmHA"
      },
      "source": [
        "### 5.b) Train the Final Model and Make Predictions"
      ]
    },
    {
      "cell_type": "code",
      "metadata": {
        "id": "A1BC7byZiOtH",
        "colab": {
          "base_uri": "https://localhost:8080/"
        },
        "outputId": "dace7ce4-7766-4152-f953-d4213eed0359"
      },
      "source": [
        "reset_random()\r\n",
        "final_model = create_nn_model()\r\n",
        "final_model.fit(X_train, y_train, epochs=DEFAULT_EPOCH, batch_size=DEFAULT_BATCH, verbose=1)"
      ],
      "execution_count": 96,
      "outputs": [
        {
          "output_type": "stream",
          "text": [
            "Epoch 1/20\n",
            "1875/1875 [==============================] - 16s 8ms/step - loss: 0.0760 - accuracy: 0.9772\n",
            "Epoch 2/20\n",
            "1875/1875 [==============================] - 16s 8ms/step - loss: 0.0289 - accuracy: 0.9916\n",
            "Epoch 3/20\n",
            "1875/1875 [==============================] - 16s 8ms/step - loss: 0.0232 - accuracy: 0.9934\n",
            "Epoch 4/20\n",
            "1875/1875 [==============================] - 16s 8ms/step - loss: 0.0190 - accuracy: 0.9945\n",
            "Epoch 5/20\n",
            "1875/1875 [==============================] - 16s 8ms/step - loss: 0.0157 - accuracy: 0.9955\n",
            "Epoch 6/20\n",
            "1875/1875 [==============================] - 16s 8ms/step - loss: 0.0129 - accuracy: 0.9962\n",
            "Epoch 7/20\n",
            "1875/1875 [==============================] - 15s 8ms/step - loss: 0.0105 - accuracy: 0.9973\n",
            "Epoch 8/20\n",
            "1875/1875 [==============================] - 16s 8ms/step - loss: 0.0103 - accuracy: 0.9973\n",
            "Epoch 9/20\n",
            "1875/1875 [==============================] - 16s 8ms/step - loss: 0.0101 - accuracy: 0.9974\n",
            "Epoch 10/20\n",
            "1875/1875 [==============================] - 16s 8ms/step - loss: 0.0067 - accuracy: 0.9982\n",
            "Epoch 11/20\n",
            "1875/1875 [==============================] - 16s 8ms/step - loss: 0.0073 - accuracy: 0.9981\n",
            "Epoch 12/20\n",
            "1875/1875 [==============================] - 15s 8ms/step - loss: 0.0061 - accuracy: 0.9982\n",
            "Epoch 13/20\n",
            "1875/1875 [==============================] - 15s 8ms/step - loss: 0.0066 - accuracy: 0.9981\n",
            "Epoch 14/20\n",
            "1875/1875 [==============================] - 15s 8ms/step - loss: 0.0058 - accuracy: 0.9984\n",
            "Epoch 15/20\n",
            "1875/1875 [==============================] - 15s 8ms/step - loss: 0.0041 - accuracy: 0.9987\n",
            "Epoch 16/20\n",
            "1875/1875 [==============================] - 16s 8ms/step - loss: 0.0036 - accuracy: 0.9991\n",
            "Epoch 17/20\n",
            "1875/1875 [==============================] - 15s 8ms/step - loss: 0.0042 - accuracy: 0.9988\n",
            "Epoch 18/20\n",
            "1875/1875 [==============================] - 15s 8ms/step - loss: 0.0037 - accuracy: 0.9989\n",
            "Epoch 19/20\n",
            "1875/1875 [==============================] - 15s 8ms/step - loss: 0.0047 - accuracy: 0.9988\n",
            "Epoch 20/20\n",
            "1875/1875 [==============================] - 16s 8ms/step - loss: 0.0028 - accuracy: 0.9993\n"
          ],
          "name": "stdout"
        },
        {
          "output_type": "execute_result",
          "data": {
            "text/plain": [
              "<tensorflow.python.keras.callbacks.History at 0x7f92943c38d0>"
            ]
          },
          "metadata": {
            "tags": []
          },
          "execution_count": 96
        }
      ]
    },
    {
      "cell_type": "code",
      "metadata": {
        "id": "_I_Sxbn9sG14"
      },
      "source": [
        "test_predictions = np.argmax(final_model.predict(X_test), axis=-1)\r\n",
        "y_submission_kaggle['label'] = test_predictions\r\n",
        "print(\"y_submission_kaggle.shape: {}\".format(y_submission_kaggle.shape))\r\n",
        "print(test_predictions[:10])"
      ],
      "execution_count": null,
      "outputs": []
    },
    {
      "cell_type": "code",
      "metadata": {
        "id": "8HKFiqV4Vpqm"
      },
      "source": [
        "submission_file = y_submission_kaggle.to_csv(header=True, index=False)\n",
        "filename = 'submission.csv'\n",
        "with open(filename, 'w') as f:\n",
        "    f.write(submission_file)\n",
        "    print('Completed writing output file: ' + filename)"
      ],
      "execution_count": null,
      "outputs": []
    },
    {
      "cell_type": "code",
      "metadata": {
        "id": "3fwmichaVpqm"
      },
      "source": [
        "if notifyStatus: status_notify('(TensorFlow Multi-Class) Task 5 - Finalize Model and Make Predictions completed on ' + datetime.now().strftime('%A %B %d, %Y %I:%M:%S %p'))"
      ],
      "execution_count": null,
      "outputs": []
    },
    {
      "cell_type": "code",
      "metadata": {
        "id": "8lmg3SfZVpqn",
        "colab": {
          "base_uri": "https://localhost:8080/"
        },
        "outputId": "8439ed68-669b-4f6a-f5d6-f9a07a6f88db"
      },
      "source": [
        "print ('Total time for the script:',(datetime.now() - startTimeScript))"
      ],
      "execution_count": 100,
      "outputs": [
        {
          "output_type": "stream",
          "text": [
            "Total time for the script: 0:49:12.633414\n"
          ],
          "name": "stdout"
        }
      ]
    }
  ]
}