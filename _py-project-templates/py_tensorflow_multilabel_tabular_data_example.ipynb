{
 "cells": [
  {
   "cell_type": "markdown",
   "metadata": {
    "colab_type": "text",
    "id": "OI9SMYXM89Ns"
   },
   "source": [
    "# Multi-Label Deep Learning Model for [PROJECT NAME] Using TensorFlow version 2\n",
    "### David Lowe\n",
    "### January 6, 2022\n",
    "\n",
    "Template Credit: Adapted from a template made available by Dr. Jason Brownlee of Machine Learning Mastery. [https://machinelearningmastery.com/]\n",
    "\n",
    "SUMMARY: The purpose of this project is to construct a predictive model using the TensorFlow deep learning framework and documenting the end-to-end steps with a template. The [PROJECT NAME] dataset is a multi-label classification situation where we are trying to predict multiple mutually non-exclusive classes or \"labels\" for a set of features.\n",
    "\n",
    "INTRODUCTION: This script will replicate Dr. Jason Brownlee's blog post [https://machinelearningmastery.com/multi-label-classification-with-deep-learning/] on this topic with some modifications. The desired output is to build a robust template for modeling future similar problems.\n",
    "\n",
    "ANALYSIS: [Sample Paragraph - The performance of the baseline model achieved a cross-validated accuracy score of 75.18% after 50 epochs using the training dataset. After tuning the hyperparameters, the best model processed the validation dataset with an accuracy score of 74.88%. Furthermore, the final model processed the test dataset with an accuracy measurement of 58.30%.]\n",
    "\n",
    "CONCLUSION: [Sample Paragraph - In this iteration, the simple TensorFlow model appeared to be suitable for modeling this dataset.]\n",
    "\n",
    "Dataset Used: [PROJECT NAME] Dataset\n",
    "\n",
    "Dataset ML Model: Multi-label classification with numerical attributes\n",
    "\n",
    "Dataset Reference: [Dataset URL]\n",
    "\n",
    "Potential Sources of Benchmark: [Benchmark URL]"
   ]
  },
  {
   "cell_type": "markdown",
   "metadata": {
    "colab_type": "text",
    "id": "pHe9Abkb89Nt"
   },
   "source": [
    "# Task 1 - Prepare Environment"
   ]
  },
  {
   "cell_type": "code",
   "execution_count": 1,
   "metadata": {
    "colab": {
     "base_uri": "https://localhost:8080/",
     "height": 136
    },
    "colab_type": "code",
    "id": "bqyZzMkV89Nu",
    "outputId": "591f3c36-5fa9-4c35-dc95-a32b028cf2ae"
   },
   "outputs": [],
   "source": [
    "# # Install the packages to support accessing environment variable and SQL databases\n",
    "# !pip install python-dotenv PyMySQL"
   ]
  },
  {
   "cell_type": "code",
   "execution_count": 2,
   "metadata": {
    "colab": {
     "base_uri": "https://localhost:8080/",
     "height": 357
    },
    "colab_type": "code",
    "id": "RXVc1GUX89Nw",
    "outputId": "d0fb96e8-9c95-4219-d1e0-35490e3eab25"
   },
   "outputs": [],
   "source": [
    "# # Retrieve GPU configuration information from Colab\n",
    "# gpu_info = !nvidia-smi\n",
    "# gpu_info = '\\n'.join(gpu_info)\n",
    "# if gpu_info.find('failed') >= 0:\n",
    "#     print('Select the Runtime → \"Change runtime type\" menu to enable a GPU accelerator, ')\n",
    "#     print('and then re-execute this cell.')\n",
    "# else:\n",
    "#     print(gpu_info)"
   ]
  },
  {
   "cell_type": "code",
   "execution_count": 3,
   "metadata": {
    "colab": {
     "base_uri": "https://localhost:8080/",
     "height": 68
    },
    "colab_type": "code",
    "id": "227R0WTC89Ny",
    "outputId": "1eaf5b39-ac2a-40df-913c-a7b13ddbee89"
   },
   "outputs": [],
   "source": [
    "# # Retrieve memory configuration information from Colab\n",
    "# from psutil import virtual_memory\n",
    "# ram_gb = virtual_memory().total / 1e9\n",
    "# print('Your runtime has {:.1f} gigabytes of available RAM\\n'.format(ram_gb))\n",
    "\n",
    "# if ram_gb < 20:\n",
    "#     print('To enable a high-RAM runtime, select the Runtime → \"Change runtime type\"')\n",
    "#     print('menu, and then select High-RAM in the Runtime shape dropdown. Then, ')\n",
    "#     print('re-execute this cell.')\n",
    "# else:\n",
    "#     print('You are using a high-RAM runtime!')"
   ]
  },
  {
   "cell_type": "code",
   "execution_count": 4,
   "metadata": {
    "colab": {},
    "colab_type": "code",
    "id": "IKsxjDSm89N0"
   },
   "outputs": [],
   "source": [
    "# # Mount Google Drive locally for loading the dotenv files\n",
    "# from dotenv import load_dotenv\n",
    "# from google.colab import drive\n",
    "# drive.mount('/content/gdrive')\n",
    "# gdrivePrefix = '/content/gdrive/My Drive/Colab_Downloads/'\n",
    "# env_path = '/content/gdrive/My Drive/Colab Notebooks/'\n",
    "# dotenv_path = env_path + \"python_script.env\"\n",
    "# load_dotenv(dotenv_path=dotenv_path)"
   ]
  },
  {
   "cell_type": "code",
   "execution_count": 5,
   "metadata": {
    "colab": {
     "base_uri": "https://localhost:8080/",
     "height": 34
    },
    "colab_type": "code",
    "id": "tbmayOLT89N2",
    "outputId": "eed076a1-3a49-4908-fb27-c0f6bd1fa507"
   },
   "outputs": [
    {
     "name": "stdout",
     "output_type": "stream",
     "text": [
      "The number of available CPUs is: 8\n"
     ]
    }
   ],
   "source": [
    "# Retrieve CPU information from the system\n",
    "ncpu = !nproc\n",
    "print(\"The number of available CPUs is:\", ncpu[0])"
   ]
  },
  {
   "cell_type": "markdown",
   "metadata": {},
   "source": [
    "## 1.a) Load libraries and modules"
   ]
  },
  {
   "cell_type": "code",
   "execution_count": 6,
   "metadata": {
    "colab": {},
    "colab_type": "code",
    "id": "PkaMz-sm89N4"
   },
   "outputs": [],
   "source": [
    "# Set the random seed number for reproducible results\n",
    "RNG_SEED = 88"
   ]
  },
  {
   "cell_type": "code",
   "execution_count": 7,
   "metadata": {
    "colab": {},
    "colab_type": "code",
    "id": "8Wx_PIN289N6"
   },
   "outputs": [],
   "source": [
    "# Load libraries and packages\n",
    "import random\n",
    "random.seed(RNG_SEED)\n",
    "import numpy as np\n",
    "np.random.seed(RNG_SEED)\n",
    "import pandas as pd\n",
    "import os\n",
    "import sys\n",
    "# import boto3\n",
    "import zipfile\n",
    "from datetime import datetime\n",
    "from sklearn.datasets import make_multilabel_classification\n",
    "from sklearn.model_selection import train_test_split\n",
    "from sklearn.model_selection import RepeatedKFold\n",
    "from sklearn.metrics import accuracy_score\n",
    "\n",
    "import tensorflow as tf\n",
    "tf.random.set_seed(RNG_SEED)\n",
    "from tensorflow import keras"
   ]
  },
  {
   "cell_type": "markdown",
   "metadata": {},
   "source": [
    "## 1.b) Set up the controlling parameters and functions"
   ]
  },
  {
   "cell_type": "code",
   "execution_count": 8,
   "metadata": {},
   "outputs": [],
   "source": [
    "# Begin the timer for the script processing\n",
    "START_TIME_SCRIPT = datetime.now()"
   ]
  },
  {
   "cell_type": "code",
   "execution_count": 9,
   "metadata": {
    "colab": {
     "base_uri": "https://localhost:8080/",
     "height": 34
    },
    "colab_type": "code",
    "id": "4YZ14FFV89N8",
    "outputId": "436e887b-291d-4400-e76b-642760f1b1fb"
   },
   "outputs": [
    {
     "name": "stdout",
     "output_type": "stream",
     "text": [
      "Num GPUs Available:  1\n",
      "TensorFlow version: 2.6.0\n"
     ]
    },
    {
     "name": "stderr",
     "output_type": "stream",
     "text": [
      "2022-01-04 20:58:03.011081: I tensorflow/stream_executor/cuda/cuda_gpu_executor.cc:1050] successful NUMA node read from SysFS had negative value (-1), but there must be at least one NUMA node, so returning NUMA node zero\n",
      "2022-01-04 20:58:03.025086: I tensorflow/stream_executor/cuda/cuda_gpu_executor.cc:1050] successful NUMA node read from SysFS had negative value (-1), but there must be at least one NUMA node, so returning NUMA node zero\n",
      "2022-01-04 20:58:03.026516: I tensorflow/stream_executor/cuda/cuda_gpu_executor.cc:1050] successful NUMA node read from SysFS had negative value (-1), but there must be at least one NUMA node, so returning NUMA node zero\n"
     ]
    }
   ],
   "source": [
    "# Set up the number of CPU cores available for multi-thread processing\n",
    "N_JOBS = 1\n",
    "\n",
    "# Set up the flag to stop sending progress emails (setting to True will send status emails!)\n",
    "NOTIFY_STATUS = False\n",
    "\n",
    "# Set the percentage sizes for splitting the dataset\n",
    "TEST_SET_RATIO = 0.2\n",
    "VAL_SET_RATIO = 0.2\n",
    "\n",
    "# Set the number of folds for cross validation\n",
    "N_FOLDS = 5\n",
    "N_ITERATIONS = 2\n",
    "\n",
    "# Set various default modeling parameters\n",
    "DEFAULT_LOSS = 'binary_crossentropy'\n",
    "DEFAULT_METRICS = ['accuracy']\n",
    "DEFAULT_OPTIMIZER = tf.keras.optimizers.Adam(learning_rate=0.001)\n",
    "DEFAULT_INITIALIZER = tf.keras.initializers.RandomNormal(seed=RNG_SEED)\n",
    "CLASSIFIER_ACTIVATION = 'sigmoid'\n",
    "MAX_EPOCHS = 50\n",
    "BATCH_SIZE = 32\n",
    "\n",
    "NUM_SAMPLES = 10000\n",
    "NUM_FEATURES = 10\n",
    "NUM_CLASSES = 3\n",
    "NUM_LABELS = 2\n",
    "\n",
    "# Define the labels to use for graphing the data\n",
    "TRAIN_METRIC = \"accuracy\"\n",
    "VALIDATION_METRIC = \"val_accuracy\"\n",
    "TRAIN_LOSS = \"loss\"\n",
    "VALIDATION_LOSS = \"val_loss\"\n",
    "\n",
    "# Check the number of GPUs accessible through TensorFlow\n",
    "print(\"Num GPUs Available: \", len(tf.config.experimental.list_physical_devices('GPU')))\n",
    "\n",
    "# Print out the TensorFlow version for confirmation\n",
    "print('TensorFlow version:', tf.__version__)"
   ]
  },
  {
   "cell_type": "code",
   "execution_count": 10,
   "metadata": {
    "colab": {},
    "colab_type": "code",
    "id": "_bxsZ9W289N-"
   },
   "outputs": [],
   "source": [
    "# Set up the email notification function\n",
    "def status_notify(msg_text):\n",
    "    access_key = os.environ.get('SNS_ACCESS_KEY')\n",
    "    secret_key = os.environ.get('SNS_SECRET_KEY')\n",
    "    aws_region = os.environ.get('SNS_AWS_REGION')\n",
    "    topic_arn = os.environ.get('SNS_TOPIC_ARN')\n",
    "    if (access_key is None) or (secret_key is None) or (aws_region is None):\n",
    "        sys.exit(\"Incomplete notification setup info. Script Processing Aborted!!!\")\n",
    "    sns = boto3.client('sns', aws_access_key_id=access_key, aws_secret_access_key=secret_key, region_name=aws_region)\n",
    "    response = sns.publish(TopicArn=topic_arn, Message=msg_text)\n",
    "    if response['ResponseMetadata']['HTTPStatusCode'] != 200 :\n",
    "        print('Status notification not OK with HTTP status code:', response['ResponseMetadata']['HTTPStatusCode'])"
   ]
  },
  {
   "cell_type": "code",
   "execution_count": 11,
   "metadata": {},
   "outputs": [],
   "source": [
    "if (NOTIFY_STATUS): status_notify('(TensorFlow Multi-Label) Task 1 - Prepare Environment has begun on ' + datetime.now().strftime('%a %B %d, %Y %I:%M:%S %p'))"
   ]
  },
  {
   "cell_type": "code",
   "execution_count": 12,
   "metadata": {
    "colab": {},
    "colab_type": "code",
    "id": "cFSJbx-589N_"
   },
   "outputs": [],
   "source": [
    "# Reset the random number generators\n",
    "def reset_random(x=RNG_SEED):\n",
    "    random.seed(x)\n",
    "    np.random.seed(x)\n",
    "    tf.random.set_seed(x)"
   ]
  },
  {
   "cell_type": "code",
   "execution_count": 13,
   "metadata": {
    "colab": {},
    "colab_type": "code",
    "id": "2RNyQ_5X89OB"
   },
   "outputs": [],
   "source": [
    "if (NOTIFY_STATUS): status_notify('(TensorFlow Multi-Label) Task 1 - Prepare Environment completed on ' + datetime.now().strftime('%a %B %d, %Y %I:%M:%S %p'))"
   ]
  },
  {
   "cell_type": "markdown",
   "metadata": {
    "colab_type": "text",
    "id": "NTmKYvbu89OD"
   },
   "source": [
    "# Task 2. Load and Prepare Data"
   ]
  },
  {
   "cell_type": "code",
   "execution_count": 14,
   "metadata": {
    "colab": {},
    "colab_type": "code",
    "id": "jIU_R3os89OD"
   },
   "outputs": [],
   "source": [
    "if (NOTIFY_STATUS): status_notify('(TensorFlow Multi-Label) Task 2 - Load and Prepare Data has begun on ' + datetime.now().strftime('%a %B %d, %Y %I:%M:%S %p'))"
   ]
  },
  {
   "cell_type": "code",
   "execution_count": 15,
   "metadata": {},
   "outputs": [],
   "source": [
    "# Retrieve the dataset\n",
    "X_original, y_original = make_multilabel_classification(n_samples=NUM_SAMPLES,\n",
    "                                                        n_features=NUM_FEATURES,\n",
    "                                                        n_classes=NUM_CLASSES,\n",
    "                                                        n_labels=NUM_LABELS,\n",
    "                                                        random_state=RNG_SEED)"
   ]
  },
  {
   "cell_type": "code",
   "execution_count": 16,
   "metadata": {},
   "outputs": [
    {
     "name": "stdout",
     "output_type": "stream",
     "text": [
      "X_train_val.shape: (8000, 10) y_train_val.shape: (8000, 3)\n",
      "X_test.shape: (2000, 10) y_test.shape: (2000, 3)\n"
     ]
    }
   ],
   "source": [
    "# Split the data further into training, validation, and test datasets\n",
    "X_train_val, X_test, y_train_val, y_test = train_test_split(X_original, y_original,\n",
    "                                                            test_size=TEST_SET_RATIO,\n",
    "                                                            random_state=RNG_SEED)\n",
    "print(\"X_train_val.shape: {} y_train_val.shape: {}\".format(X_train_val.shape, y_train_val.shape))\n",
    "print(\"X_test.shape: {} y_test.shape: {}\".format(X_test.shape, y_test.shape))"
   ]
  },
  {
   "cell_type": "code",
   "execution_count": 17,
   "metadata": {
    "colab": {},
    "colab_type": "code",
    "id": "emX5Eec089Oi"
   },
   "outputs": [],
   "source": [
    "if (NOTIFY_STATUS): status_notify('(TensorFlow Multi-Label) Task 2 - Load and Prepare Data completed on ' + datetime.now().strftime('%a %B %d, %Y %I:%M:%S %p'))"
   ]
  },
  {
   "cell_type": "markdown",
   "metadata": {
    "colab_type": "text",
    "id": "pTWOiQFJ89Ok"
   },
   "source": [
    "# Task 3. Define and Train Models"
   ]
  },
  {
   "cell_type": "code",
   "execution_count": 18,
   "metadata": {
    "colab": {},
    "colab_type": "code",
    "id": "5FnGC-8A89Ok"
   },
   "outputs": [],
   "source": [
    "if (NOTIFY_STATUS): status_notify('(TensorFlow Multi-Label) Task 3 - Define and Train Models has begun on ' + datetime.now().strftime('%a %B %d, %Y %I:%M:%S %p'))"
   ]
  },
  {
   "cell_type": "code",
   "execution_count": 19,
   "metadata": {},
   "outputs": [],
   "source": [
    "# Define the function for plotting training results for comparison\n",
    "def plot_metrics(history):\n",
    "    fig, axs = plt.subplots(1, 2, figsize=(24, 15))\n",
    "    metrics =  [TRAIN_LOSS, TRAIN_METRIC]\n",
    "    for n, metric in enumerate(metrics):\n",
    "        name = metric.replace(\"_\",\" \").capitalize()\n",
    "        plt.subplot(2,2,n+1)\n",
    "        plt.plot(history.epoch, history.history[metric], color='blue', label='Train')\n",
    "        plt.plot(history.epoch, history.history['val_'+metric], color='red', linestyle=\"--\", label='Val')\n",
    "        plt.xlabel('Epoch')\n",
    "        plt.ylabel(name)\n",
    "        if metric == train_loss:\n",
    "            plt.ylim([0, plt.ylim()[1]])\n",
    "        else:\n",
    "            plt.ylim([0, 1])\n",
    "        plt.legend()"
   ]
  },
  {
   "cell_type": "code",
   "execution_count": 20,
   "metadata": {},
   "outputs": [],
   "source": [
    "# Define the baseline model for benchmarking\n",
    "def create_nn_model(input_param, output_param, dense_nodes=32,\n",
    "                    layer1_dropout=0.25, layer2_dropout=0.25,\n",
    "                    init_param=DEFAULT_INITIALIZER, classifier_activation=CLASSIFIER_ACTIVATION,\n",
    "                    loss_param=DEFAULT_LOSS, opt_param=DEFAULT_OPTIMIZER, metrics_param=DEFAULT_METRICS):\n",
    "    nn_model = keras.Sequential([\n",
    "        keras.layers.Dense(dense_nodes, input_dim=input_param, activation='relu', kernel_initializer=DEFAULT_INITIALIZER),\n",
    "        keras.layers.Dropout(layer1_dropout),\n",
    "        keras.layers.Dense(dense_nodes, activation='relu', kernel_initializer=DEFAULT_INITIALIZER),\n",
    "        keras.layers.Dropout(layer2_dropout),\n",
    "        keras.layers.Dense(output_param, activation=CLASSIFIER_ACTIVATION, kernel_initializer=DEFAULT_INITIALIZER)\n",
    "    ])\n",
    "    nn_model.compile(loss=loss_param, optimizer=opt_param, metrics=metrics_param)\n",
    "    return nn_model"
   ]
  },
  {
   "cell_type": "code",
   "execution_count": 21,
   "metadata": {
    "colab": {
     "base_uri": "https://localhost:8080/",
     "height": 68
    },
    "colab_type": "code",
    "id": "un0_TT-cpoTE",
    "outputId": "26fb18aa-ee46-4cef-878f-865453e0d986"
   },
   "outputs": [],
   "source": [
    "# evaluate a model using repeated k-fold cross-validation\n",
    "def evaluate_baseline(X, y):\n",
    "    results = list()\n",
    "    n_inputs, n_outputs = X.shape[1], y.shape[1]\n",
    "    # define evaluation procedure\n",
    "    cv = RepeatedKFold(n_splits=N_FOLDS, n_repeats=N_ITERATIONS, random_state=RNG_SEED)\n",
    "    # enumerate folds\n",
    "    for train_ix, validation_ix in cv.split(X):\n",
    "        # prepare data\n",
    "        X_train, X_validation = X[train_ix], X[validation_ix]\n",
    "        y_train, y_validation = y[train_ix], y[validation_ix]\n",
    "        # define model\n",
    "        reset_random()\n",
    "        model = create_nn_model(n_inputs, n_outputs)\n",
    "        # fit model\n",
    "        model.fit(X_train, y_train, epochs=MAX_EPOCHS, batch_size=BATCH_SIZE, verbose=0)\n",
    "        # make a prediction on the test set\n",
    "        yhat = model.predict(X_validation)\n",
    "        # round probabilities to class labels\n",
    "        yhat = yhat.round()\n",
    "        # calculate accuracy\n",
    "        acc = accuracy_score(y_validation, yhat)\n",
    "        # store result\n",
    "        print('Accuracy score obtained for this CV round: %.4f' % acc)\n",
    "        results.append(acc)\n",
    "    return results"
   ]
  },
  {
   "cell_type": "code",
   "execution_count": 22,
   "metadata": {},
   "outputs": [
    {
     "name": "stderr",
     "output_type": "stream",
     "text": [
      "2022-01-04 20:58:03.716800: I tensorflow/stream_executor/cuda/cuda_gpu_executor.cc:1050] successful NUMA node read from SysFS had negative value (-1), but there must be at least one NUMA node, so returning NUMA node zero\n",
      "2022-01-04 20:58:03.718181: I tensorflow/stream_executor/cuda/cuda_gpu_executor.cc:1050] successful NUMA node read from SysFS had negative value (-1), but there must be at least one NUMA node, so returning NUMA node zero\n",
      "2022-01-04 20:58:03.719452: I tensorflow/stream_executor/cuda/cuda_gpu_executor.cc:1050] successful NUMA node read from SysFS had negative value (-1), but there must be at least one NUMA node, so returning NUMA node zero\n",
      "2022-01-04 20:58:05.542470: I tensorflow/stream_executor/cuda/cuda_gpu_executor.cc:1050] successful NUMA node read from SysFS had negative value (-1), but there must be at least one NUMA node, so returning NUMA node zero\n",
      "2022-01-04 20:58:05.543691: I tensorflow/stream_executor/cuda/cuda_gpu_executor.cc:1050] successful NUMA node read from SysFS had negative value (-1), but there must be at least one NUMA node, so returning NUMA node zero\n",
      "2022-01-04 20:58:05.544778: I tensorflow/stream_executor/cuda/cuda_gpu_executor.cc:1050] successful NUMA node read from SysFS had negative value (-1), but there must be at least one NUMA node, so returning NUMA node zero\n",
      "2022-01-04 20:58:05.545744: I tensorflow/core/common_runtime/gpu/gpu_device.cc:1510] Created device /job:localhost/replica:0/task:0/device:GPU:0 with 15392 MB memory:  -> device: 0, name: Quadro P5000, pci bus id: 0000:00:05.0, compute capability: 6.1\n",
      "2022-01-04 20:58:05.962835: I tensorflow/compiler/mlir/mlir_graph_optimization_pass.cc:185] None of the MLIR Optimization Passes are enabled (registered 2)\n"
     ]
    },
    {
     "name": "stdout",
     "output_type": "stream",
     "text": [
      "Accuracy score obtained for this CV round: 0.7581\n",
      "Accuracy score obtained for this CV round: 0.7475\n",
      "Accuracy score obtained for this CV round: 0.7556\n",
      "Accuracy score obtained for this CV round: 0.7531\n",
      "Accuracy score obtained for this CV round: 0.7462\n",
      "Accuracy score obtained for this CV round: 0.7612\n",
      "Accuracy score obtained for this CV round: 0.7481\n",
      "Accuracy score obtained for this CV round: 0.7481\n",
      "Accuracy score obtained for this CV round: 0.7475\n",
      "Accuracy score obtained for this CV round: 0.7525\n",
      "Final Accuracy Measurements: 0.7518 (0.0049)\n"
     ]
    }
   ],
   "source": [
    "# evaluate model\n",
    "results = evaluate_baseline(X_train_val, y_train_val)\n",
    "# summarize performance\n",
    "print('Final Accuracy Measurements: %.4f (%.4f)' % (np.mean(results), np.std(results)))"
   ]
  },
  {
   "cell_type": "code",
   "execution_count": 23,
   "metadata": {
    "colab": {},
    "colab_type": "code",
    "id": "_Pb01NDTS44-"
   },
   "outputs": [],
   "source": [
    "if (NOTIFY_STATUS): status_notify('(TensorFlow Multi-Label) Task 3 - Define and Train Models completed on ' + datetime.now().strftime('%a %B %d, %Y %I:%M:%S %p'))"
   ]
  },
  {
   "cell_type": "markdown",
   "metadata": {
    "colab_type": "text",
    "id": "tl_5ZZZf89Or"
   },
   "source": [
    "# Task 4. Tune and Optimize Models"
   ]
  },
  {
   "cell_type": "code",
   "execution_count": 24,
   "metadata": {
    "colab": {},
    "colab_type": "code",
    "id": "LSEBKph489Or"
   },
   "outputs": [],
   "source": [
    "if (NOTIFY_STATUS): status_notify('(TensorFlow Multi-Label) Task 4 - Tune and Optimize Models has begun on ' + datetime.now().strftime('%a %B %d, %Y %I:%M:%S %p'))"
   ]
  },
  {
   "cell_type": "code",
   "execution_count": 25,
   "metadata": {
    "colab": {
     "base_uri": "https://localhost:8080/",
     "height": 68
    },
    "colab_type": "code",
    "id": "un0_TT-cpoTE",
    "outputId": "26fb18aa-ee46-4cef-878f-865453e0d986"
   },
   "outputs": [],
   "source": [
    "# evaluate a model using repeated k-fold cross-validation\n",
    "def evaluate_alternate(X, y):\n",
    "    results = list()\n",
    "    n_inputs, n_outputs = X.shape[1], y.shape[1]\n",
    "    # define evaluation procedure\n",
    "    cv = RepeatedKFold(n_splits=N_FOLDS, n_repeats=N_ITERATIONS, random_state=RNG_SEED)\n",
    "    # enumerate folds\n",
    "    for train_ix, validation_ix in cv.split(X):\n",
    "        # prepare data\n",
    "        X_train, X_validation = X[train_ix], X[validation_ix]\n",
    "        y_train, y_validation = y[train_ix], y[validation_ix]\n",
    "        # define model\n",
    "        dense_alternate = 128\n",
    "        optimizer_alternate = tf.keras.optimizers.Adam(learning_rate=0.0001)\n",
    "        reset_random()\n",
    "        model = create_nn_model(n_inputs, n_outputs,\n",
    "                                dense_nodes=dense_alternate,\n",
    "                                opt_param=optimizer_alternate)\n",
    "        # fit model\n",
    "        model.fit(X_train, y_train, epochs=MAX_EPOCHS, batch_size=BATCH_SIZE, verbose=0)\n",
    "        # make a prediction on the test set\n",
    "        yhat = model.predict(X_validation)\n",
    "        # round probabilities to class labels\n",
    "        yhat = yhat.round()\n",
    "        # calculate accuracy\n",
    "        acc = accuracy_score(y_validation, yhat)\n",
    "        # store result\n",
    "        print('Accuracy score obtained for this CV round: %.4f' % acc)\n",
    "        results.append(acc)\n",
    "    return results"
   ]
  },
  {
   "cell_type": "code",
   "execution_count": 26,
   "metadata": {},
   "outputs": [
    {
     "name": "stdout",
     "output_type": "stream",
     "text": [
      "Accuracy score obtained for this CV round: 0.7506\n",
      "Accuracy score obtained for this CV round: 0.7419\n",
      "Accuracy score obtained for this CV round: 0.7588\n",
      "Accuracy score obtained for this CV round: 0.7456\n",
      "Accuracy score obtained for this CV round: 0.7462\n",
      "Accuracy score obtained for this CV round: 0.7688\n",
      "Accuracy score obtained for this CV round: 0.7356\n",
      "Accuracy score obtained for this CV round: 0.7419\n",
      "Accuracy score obtained for this CV round: 0.7575\n",
      "Accuracy score obtained for this CV round: 0.7412\n",
      "Final Accuracy Measurements: 0.7488 (0.0096)\n"
     ]
    }
   ],
   "source": [
    "# evaluate model\n",
    "results = evaluate_alternate(X_train_val, y_train_val)\n",
    "# summarize performance\n",
    "print('Final Accuracy Measurements: %.4f (%.4f)' % (np.mean(results), np.std(results)))"
   ]
  },
  {
   "cell_type": "code",
   "execution_count": 27,
   "metadata": {
    "colab": {},
    "colab_type": "code",
    "id": "jOof5ny889Ox"
   },
   "outputs": [],
   "source": [
    "if (NOTIFY_STATUS): status_notify('(TensorFlow Multi-Label) Task 4 - Tune and Optimize Models completed on ' + datetime.now().strftime('%a %B %d, %Y %I:%M:%S %p'))"
   ]
  },
  {
   "cell_type": "markdown",
   "metadata": {
    "colab_type": "text",
    "id": "qA6Q1pof89Oz"
   },
   "source": [
    "# Task 5. Finalize Model and Make Predictions"
   ]
  },
  {
   "cell_type": "code",
   "execution_count": 28,
   "metadata": {
    "colab": {},
    "colab_type": "code",
    "id": "hR8Hg68G89O0"
   },
   "outputs": [],
   "source": [
    "if (NOTIFY_STATUS): status_notify('(TensorFlow Multi-Label) Task 5 - Finalize Model and Make Predictions has begun on ' + datetime.now().strftime('%a %B %d, %Y %I:%M:%S %p'))"
   ]
  },
  {
   "cell_type": "code",
   "execution_count": 29,
   "metadata": {},
   "outputs": [
    {
     "data": {
      "text/plain": [
       "<keras.callbacks.History at 0x7fa52c43f9d0>"
      ]
     },
     "execution_count": 29,
     "metadata": {},
     "output_type": "execute_result"
    }
   ],
   "source": [
    "# Train the final model\n",
    "FINAL_DENSE_NODES = 128\n",
    "FINAL_OPTIMIZER = tf.keras.optimizers.Adam(learning_rate=0.0001)\n",
    "n_inputs, n_outputs = X_train_val.shape[1], y_train_val.shape[1]\n",
    "reset_random()\n",
    "final_model = create_nn_model(n_inputs, n_outputs,\n",
    "                              dense_nodes=FINAL_DENSE_NODES,\n",
    "                              opt_param=FINAL_OPTIMIZER)\n",
    "final_model.fit(X_train_val, y_train_val, epochs=MAX_EPOCHS, batch_size=BATCH_SIZE, verbose=0)"
   ]
  },
  {
   "cell_type": "code",
   "execution_count": 30,
   "metadata": {},
   "outputs": [
    {
     "name": "stdout",
     "output_type": "stream",
     "text": [
      "Model: \"sequential_20\"\n",
      "_________________________________________________________________\n",
      "Layer (type)                 Output Shape              Param #   \n",
      "=================================================================\n",
      "dense_60 (Dense)             (None, 128)               1408      \n",
      "_________________________________________________________________\n",
      "dropout_40 (Dropout)         (None, 128)               0         \n",
      "_________________________________________________________________\n",
      "dense_61 (Dense)             (None, 128)               16512     \n",
      "_________________________________________________________________\n",
      "dropout_41 (Dropout)         (None, 128)               0         \n",
      "_________________________________________________________________\n",
      "dense_62 (Dense)             (None, 3)                 387       \n",
      "=================================================================\n",
      "Total params: 18,307\n",
      "Trainable params: 18,307\n",
      "Non-trainable params: 0\n",
      "_________________________________________________________________\n",
      "None\n"
     ]
    }
   ],
   "source": [
    "# Display a summary of the final model\n",
    "print(final_model.summary())"
   ]
  },
  {
   "cell_type": "code",
   "execution_count": 31,
   "metadata": {},
   "outputs": [
    {
     "name": "stdout",
     "output_type": "stream",
     "text": [
      "63/63 [==============================] - 0s 2ms/step - loss: 0.2518 - accuracy: 0.5830\n"
     ]
    },
    {
     "data": {
      "text/plain": [
       "[0.25184622406959534, 0.5830000042915344]"
      ]
     },
     "execution_count": 31,
     "metadata": {},
     "output_type": "execute_result"
    }
   ],
   "source": [
    "# Check the performance of the model using the test dataset\n",
    "final_model.evaluate(X_test, y_test)"
   ]
  },
  {
   "cell_type": "code",
   "execution_count": 32,
   "metadata": {
    "colab": {},
    "colab_type": "code",
    "id": "65hRNsmU89PC"
   },
   "outputs": [],
   "source": [
    "if (NOTIFY_STATUS): status_notify('(TensorFlow Multi-Label) Phase 5 - Finalize Model and Make Predictions completed on ' + datetime.now().strftime('%a %B %d, %Y %I:%M:%S %p'))"
   ]
  },
  {
   "cell_type": "code",
   "execution_count": 33,
   "metadata": {
    "colab": {
     "base_uri": "https://localhost:8080/",
     "height": 34
    },
    "colab_type": "code",
    "id": "PY2cPs4689PE",
    "outputId": "a393d120-9ad6-49fc-d439-fca37873eabe"
   },
   "outputs": [
    {
     "name": "stdout",
     "output_type": "stream",
     "text": [
      "Total time for the script: 0:06:27.491521\n"
     ]
    }
   ],
   "source": [
    "print ('Total time for the script:',(datetime.now() - START_TIME_SCRIPT))"
   ]
  }
 ],
 "metadata": {
  "accelerator": "GPU",
  "colab": {
   "collapsed_sections": [],
   "machine_shape": "hm",
   "name": "py_tensorflow_multilabel_planet_understanding_amazon_take1.ipynb",
   "provenance": [],
   "toc_visible": true
  },
  "kernelspec": {
   "display_name": "Python 3 (ipykernel)",
   "language": "python",
   "name": "python3"
  },
  "language_info": {
   "codemirror_mode": {
    "name": "ipython",
    "version": 3
   },
   "file_extension": ".py",
   "mimetype": "text/x-python",
   "name": "python",
   "nbconvert_exporter": "python",
   "pygments_lexer": "ipython3",
   "version": "3.8.10"
  }
 },
 "nbformat": 4,
 "nbformat_minor": 4
}
