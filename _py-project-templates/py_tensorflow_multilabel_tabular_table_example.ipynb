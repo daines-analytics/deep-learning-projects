{
 "cells": [
  {
   "cell_type": "markdown",
   "metadata": {
    "colab_type": "text",
    "id": "OI9SMYXM89Ns"
   },
   "source": [
    "# Multi-Label Deep Learning Model for [PROJECT NAME] Using TensorFlow version 1\n",
    "### David Lowe\n",
    "### September 14, 2020\n",
    "\n",
    "Template Credit: Adapted from a template made available by Dr. Jason Brownlee of Machine Learning Mastery. [https://machinelearningmastery.com/]\n",
    "\n",
    "SUMMARY: The purpose of this project is to construct a predictive model using the TensorFlow deep learning framework and documenting the end-to-end steps with a template. The [PROJECT NAME] dataset is a multi-label classification situation where we are trying to predict multiple mutually non-exclusive classes or \"labels\" for a set of features.\n",
    "\n",
    "INTRODUCTION: This script will replicate Dr. Jason Brownlee's blog post [https://machinelearningmastery.com/multi-label-classification-with-deep-learning/] on this topic with some modifications. The desired output is to build a robust template for modeling future similar problems.\n",
    "\n",
    "ANALYSIS: [Sample Paragraph]\n",
    "\n",
    "CONCLUSION: [Sample Paragraph]\n",
    "\n",
    "Dataset Used: Planet: [PROJECT NAME] Dataset\n",
    "\n",
    "Dataset ML Model: Multi-label classification with numerical attributes\n",
    "\n",
    "Dataset Reference: [Dataset URL]\n",
    "\n",
    "Potential Sources of Benchmark: [Benchmark URL]\n",
    "\n",
    "A deep-learning modeling project generally can be broken down into five major tasks:\n",
    "\n",
    "1. Prepare Environment\n",
    "2. Load and Prepare Data\n",
    "3. Define and Train Models\n",
    "4. Evaluate and Optimize Models\n",
    "5. Finalize Model and Make Predictions"
   ]
  },
  {
   "cell_type": "markdown",
   "metadata": {
    "colab_type": "text",
    "id": "pHe9Abkb89Nt"
   },
   "source": [
    "# Task 1 - Prepare Environment"
   ]
  },
  {
   "cell_type": "code",
   "execution_count": 1,
   "metadata": {
    "colab": {
     "base_uri": "https://localhost:8080/",
     "height": 136
    },
    "colab_type": "code",
    "id": "bqyZzMkV89Nu",
    "outputId": "591f3c36-5fa9-4c35-dc95-a32b028cf2ae"
   },
   "outputs": [],
   "source": [
    "# # Install the packages to support accessing environment variable and SQL databases\n",
    "# !pip install python-dotenv PyMySQL"
   ]
  },
  {
   "cell_type": "code",
   "execution_count": 2,
   "metadata": {
    "colab": {
     "base_uri": "https://localhost:8080/",
     "height": 357
    },
    "colab_type": "code",
    "id": "RXVc1GUX89Nw",
    "outputId": "d0fb96e8-9c95-4219-d1e0-35490e3eab25"
   },
   "outputs": [],
   "source": [
    "# # Retrieve GPU configuration information from Colab\n",
    "# gpu_info = !nvidia-smi\n",
    "# gpu_info = '\\n'.join(gpu_info)\n",
    "# if gpu_info.find('failed') >= 0:\n",
    "#     print('Select the Runtime → \"Change runtime type\" menu to enable a GPU accelerator, ')\n",
    "#     print('and then re-execute this cell.')\n",
    "# else:\n",
    "#     print(gpu_info)"
   ]
  },
  {
   "cell_type": "code",
   "execution_count": 3,
   "metadata": {
    "colab": {
     "base_uri": "https://localhost:8080/",
     "height": 68
    },
    "colab_type": "code",
    "id": "227R0WTC89Ny",
    "outputId": "1eaf5b39-ac2a-40df-913c-a7b13ddbee89"
   },
   "outputs": [],
   "source": [
    "# # Retrieve memory configuration information from Colab\n",
    "# from psutil import virtual_memory\n",
    "# ram_gb = virtual_memory().total / 1e9\n",
    "# print('Your runtime has {:.1f} gigabytes of available RAM\\n'.format(ram_gb))\n",
    "\n",
    "# if ram_gb < 20:\n",
    "#     print('To enable a high-RAM runtime, select the Runtime → \"Change runtime type\"')\n",
    "#     print('menu, and then select High-RAM in the Runtime shape dropdown. Then, ')\n",
    "#     print('re-execute this cell.')\n",
    "# else:\n",
    "#     print('You are using a high-RAM runtime!')"
   ]
  },
  {
   "cell_type": "code",
   "execution_count": 4,
   "metadata": {
    "colab": {},
    "colab_type": "code",
    "id": "IKsxjDSm89N0"
   },
   "outputs": [],
   "source": [
    "# # Direct Colab to use TensorFlow v2\n",
    "# %tensorflow_version 2.x"
   ]
  },
  {
   "cell_type": "code",
   "execution_count": 5,
   "metadata": {
    "colab": {
     "base_uri": "https://localhost:8080/",
     "height": 34
    },
    "colab_type": "code",
    "id": "tbmayOLT89N2",
    "outputId": "eed076a1-3a49-4908-fb27-c0f6bd1fa507"
   },
   "outputs": [
    {
     "name": "stdout",
     "output_type": "stream",
     "text": [
      "The number of available CPUs is: 4\n"
     ]
    }
   ],
   "source": [
    "# Retrieve CPU information from the system\n",
    "ncpu = !nproc\n",
    "print(\"The number of available CPUs is:\", ncpu[0])"
   ]
  },
  {
   "cell_type": "code",
   "execution_count": 6,
   "metadata": {
    "colab": {},
    "colab_type": "code",
    "id": "PkaMz-sm89N4"
   },
   "outputs": [],
   "source": [
    "# Set the random seed number for reproducible results\n",
    "seedNum = 8"
   ]
  },
  {
   "cell_type": "code",
   "execution_count": 7,
   "metadata": {
    "colab": {},
    "colab_type": "code",
    "id": "8Wx_PIN289N6"
   },
   "outputs": [],
   "source": [
    "# Load libraries and packages\n",
    "import random\n",
    "random.seed(seedNum)\n",
    "import numpy as np\n",
    "np.random.seed(seedNum)\n",
    "import os\n",
    "import sys\n",
    "import zipfile\n",
    "import boto3\n",
    "import pandas as pd\n",
    "import matplotlib.pyplot as plt\n",
    "from datetime import datetime\n",
    "from dotenv import load_dotenv\n",
    "from sklearn.datasets import make_multilabel_classification\n",
    "from sklearn.model_selection import train_test_split\n",
    "from sklearn.model_selection import RepeatedKFold\n",
    "from sklearn.metrics import accuracy_score\n",
    "import tensorflow as tf\n",
    "tf.random.set_seed(seedNum)\n",
    "from tensorflow import keras\n",
    "from tensorflow.keras.models import Sequential\n",
    "from tensorflow.keras.layers import Dense"
   ]
  },
  {
   "cell_type": "code",
   "execution_count": 8,
   "metadata": {
    "colab": {
     "base_uri": "https://localhost:8080/",
     "height": 34
    },
    "colab_type": "code",
    "id": "4YZ14FFV89N8",
    "outputId": "436e887b-291d-4400-e76b-642760f1b1fb"
   },
   "outputs": [
    {
     "name": "stdout",
     "output_type": "stream",
     "text": [
      "Num GPUs Available:  0\n"
     ]
    }
   ],
   "source": [
    "# Begin the timer for the script processing\n",
    "startTimeScript = datetime.now()\n",
    "\n",
    "# Set up the number of CPU cores available for multi-thread processing\n",
    "n_jobs = 1\n",
    "\n",
    "# Set up the flag to stop sending progress emails (setting to True will send status emails!)\n",
    "notifyStatus = False\n",
    "\n",
    "# Set Pandas options\n",
    "pd.set_option(\"display.max_rows\", None)\n",
    "pd.set_option(\"display.max_columns\", None)\n",
    "pd.set_option(\"display.width\", 140)\n",
    "\n",
    "# Set the number of folds for cross validation\n",
    "n_folds = 5\n",
    "\n",
    "# Set the percentage sizes for splitting the dataset\n",
    "test_set_size = 0.20\n",
    "val_set_size = 0.25\n",
    "\n",
    "# Set various default Keras modeling parameters\n",
    "default_loss = 'binary_crossentropy'\n",
    "default_metrics = ['accuracy']\n",
    "default_optimizer = keras.optimizers.Adam(learning_rate=0.001)\n",
    "default_kernel_init = keras.initializers.GlorotUniform(seed=seedNum)\n",
    "default_epoch = 100\n",
    "default_batch = 32\n",
    "\n",
    "default_samples = 1000  # The number of samples\n",
    "default_features = 10  # The total number of features\n",
    "default_classes = 3  # The number of classes of the classification problem\n",
    "default_labels = 2  # The average number of labels per instance\n",
    "\n",
    "# Define the labels to use for graphing the data\n",
    "train_metric = \"accuracy\"\n",
    "train_loss = \"loss\"\n",
    "\n",
    "# Check the number of GPUs accessible through TensorFlow\n",
    "print(\"Num GPUs Available: \", len(tf.config.experimental.list_physical_devices('GPU')))\n",
    "\n",
    "# Print out the TensorFlow version for confirmation\n",
    "print('TensorFlow version:', tf.__version__)"
   ]
  },
  {
   "cell_type": "code",
   "execution_count": null,
   "metadata": {},
   "outputs": [],
   "source": [
    "# Set up the parent directory location for loading the dotenv files\n",
    "# useGDrive = True\n",
    "# if useGDrive:\n",
    "#     # Mount Google Drive locally for storing files\n",
    "#     from google.colab import drive\n",
    "#     drive.mount('/content/gdrive')\n",
    "#     gdrivePrefix = '/content/gdrive/My Drive/Colab_Downloads/'\n",
    "#     env_path = '/content/gdrive/My Drive/Colab Notebooks/'\n",
    "#     dotenv_path = env_path + \"python_script.env\"\n",
    "#     load_dotenv(dotenv_path=dotenv_path)\n",
    "\n",
    "# Set up the dotenv file for retrieving environment variables\n",
    "# useLocalPC = True\n",
    "# if useLocalPC:\n",
    "#     env_path = \"/Users/david/PycharmProjects/\"\n",
    "#     dotenv_path = env_path + \"python_script.env\"\n",
    "#     load_dotenv(dotenv_path=dotenv_path)"
   ]
  },
  {
   "cell_type": "code",
   "execution_count": 9,
   "metadata": {
    "colab": {},
    "colab_type": "code",
    "id": "_bxsZ9W289N-"
   },
   "outputs": [],
   "source": [
    "# Set up the email notification function\n",
    "def status_notify(msg_text):\n",
    "    access_key = os.environ.get('SNS_ACCESS_KEY')\n",
    "    secret_key = os.environ.get('SNS_SECRET_KEY')\n",
    "    aws_region = os.environ.get('SNS_AWS_REGION')\n",
    "    topic_arn = os.environ.get('SNS_TOPIC_ARN')\n",
    "    if (access_key is None) or (secret_key is None) or (aws_region is None):\n",
    "        sys.exit(\"Incomplete notification setup info. Script Processing Aborted!!!\")\n",
    "    sns = boto3.client('sns', aws_access_key_id=access_key, aws_secret_access_key=secret_key, region_name=aws_region)\n",
    "    response = sns.publish(TopicArn=topic_arn, Message=msg_text)\n",
    "    if response['ResponseMetadata']['HTTPStatusCode'] != 200 :\n",
    "        print('Status notification not OK with HTTP status code:', response['ResponseMetadata']['HTTPStatusCode'])"
   ]
  },
  {
   "cell_type": "code",
   "execution_count": null,
   "metadata": {},
   "outputs": [],
   "source": [
    "if (notifyStatus): status_notify('(TensorFlow Multi-Label) Task 1 - Prepare Environment has begun on ' + datetime.now().strftime('%a %B %d, %Y %I:%M:%S %p'))"
   ]
  },
  {
   "cell_type": "code",
   "execution_count": 10,
   "metadata": {
    "colab": {},
    "colab_type": "code",
    "id": "cFSJbx-589N_"
   },
   "outputs": [],
   "source": [
    "# Reset the random number generators\n",
    "def reset_random(x):\n",
    "    random.seed(x)\n",
    "    np.random.seed(x)\n",
    "    tf.random.set_seed(x)"
   ]
  },
  {
   "cell_type": "code",
   "execution_count": 11,
   "metadata": {
    "colab": {},
    "colab_type": "code",
    "id": "2RNyQ_5X89OB"
   },
   "outputs": [],
   "source": [
    "if (notifyStatus): status_notify('(TensorFlow Multi-Label) Task 1 - Prepare Environment completed on ' + datetime.now().strftime('%a %B %d, %Y %I:%M:%S %p'))"
   ]
  },
  {
   "cell_type": "markdown",
   "metadata": {
    "colab_type": "text",
    "id": "NTmKYvbu89OD"
   },
   "source": [
    "# Task 2. Load and Prepare Data"
   ]
  },
  {
   "cell_type": "code",
   "execution_count": 12,
   "metadata": {
    "colab": {},
    "colab_type": "code",
    "id": "jIU_R3os89OD"
   },
   "outputs": [],
   "source": [
    "if (notifyStatus): status_notify('(TensorFlow Multi-Label) Task 2 - Load and Prepare Data has begun on ' + datetime.now().strftime('%a %B %d, %Y %I:%M:%S %p'))"
   ]
  },
  {
   "cell_type": "code",
   "execution_count": 13,
   "metadata": {},
   "outputs": [],
   "source": [
    "# Retrieve the dataset\n",
    "X_original, y_original = make_multilabel_classification(n_samples=default_samples,\n",
    "                                                        n_features=default_features,\n",
    "                                                        n_classes=default_classes,\n",
    "                                                        n_labels=default_labels,\n",
    "                                                        random_state=seedNum)"
   ]
  },
  {
   "cell_type": "code",
   "execution_count": 14,
   "metadata": {},
   "outputs": [
    {
     "name": "stdout",
     "output_type": "stream",
     "text": [
      "X_train_val.shape: (800, 10) y_train_val.shape: (800, 3)\n",
      "X_test.shape: (200, 10) y_test.shape: (200, 3)\n"
     ]
    }
   ],
   "source": [
    "# Split the data further into training, validation, and test datasets\n",
    "X_train_val, X_test, y_train_val, y_test = train_test_split(X_original, y_original, test_size=test_set_size, random_state=seedNum)\n",
    "print(\"X_train_val.shape: {} y_train_val.shape: {}\".format(X_train_val.shape, y_train_val.shape))\n",
    "print(\"X_test.shape: {} y_test.shape: {}\".format(X_test.shape, y_test.shape))"
   ]
  },
  {
   "cell_type": "code",
   "execution_count": 15,
   "metadata": {
    "colab": {},
    "colab_type": "code",
    "id": "emX5Eec089Oi"
   },
   "outputs": [],
   "source": [
    "if (notifyStatus): status_notify('(TensorFlow Multi-Label) Task 2 - Load and Prepare Data completed on ' + datetime.now().strftime('%a %B %d, %Y %I:%M:%S %p'))"
   ]
  },
  {
   "cell_type": "markdown",
   "metadata": {
    "colab_type": "text",
    "id": "pTWOiQFJ89Ok"
   },
   "source": [
    "# Task 3. Define and Train Models"
   ]
  },
  {
   "cell_type": "code",
   "execution_count": 16,
   "metadata": {
    "colab": {},
    "colab_type": "code",
    "id": "5FnGC-8A89Ok"
   },
   "outputs": [],
   "source": [
    "if (notifyStatus): status_notify('(TensorFlow Multi-Label) Task 3 - Define and Train Models has begun on ' + datetime.now().strftime('%a %B %d, %Y %I:%M:%S %p'))"
   ]
  },
  {
   "cell_type": "code",
   "execution_count": 17,
   "metadata": {},
   "outputs": [],
   "source": [
    "# Define the function for plotting training results for comparison\n",
    "def plot_metrics(history):\n",
    "    fig, axs = plt.subplots(1, 2, figsize=(24, 15))\n",
    "    metrics =  [train_loss, train_metric]\n",
    "    for n, metric in enumerate(metrics):\n",
    "        name = metric.replace(\"_\",\" \").capitalize()\n",
    "        plt.subplot(2,2,n+1)\n",
    "        plt.plot(history.epoch, history.history[metric], color='blue', label='Train')\n",
    "        plt.plot(history.epoch, history.history['val_'+metric], color='red', linestyle=\"--\", label='Val')\n",
    "        plt.xlabel('Epoch')\n",
    "        plt.ylabel(name)\n",
    "        if metric == train_loss:\n",
    "            plt.ylim([0, plt.ylim()[1]])\n",
    "        else:\n",
    "            plt.ylim([0, 1])\n",
    "        plt.legend()"
   ]
  },
  {
   "cell_type": "code",
   "execution_count": 18,
   "metadata": {},
   "outputs": [],
   "source": [
    "# Define the baseline model for benchmarking\n",
    "def create_nn_model(n_inputs, n_outputs, dense_nodes=20, opt_param=default_optimizer, init_param=default_kernel_init):\n",
    "\tnn_model = keras.Sequential([\n",
    "        keras.layers.Dense(dense_nodes, input_dim=n_inputs, activation='relu', kernel_initializer=init_param),\n",
    "        keras.layers.Dense(n_outputs, activation='sigmoid')\n",
    "    ])\n",
    "\tnn_model.compile(loss=default_loss, optimizer=default_optimizer, metrics=default_metrics)\n",
    "\treturn nn_model"
   ]
  },
  {
   "cell_type": "code",
   "execution_count": 19,
   "metadata": {
    "colab": {
     "base_uri": "https://localhost:8080/",
     "height": 68
    },
    "colab_type": "code",
    "id": "un0_TT-cpoTE",
    "outputId": "26fb18aa-ee46-4cef-878f-865453e0d986"
   },
   "outputs": [
    {
     "name": "stdout",
     "output_type": "stream",
     "text": [
      "Accuracy score obtained for this CV round: 0.637\n",
      "Accuracy score obtained for this CV round: 0.681\n",
      "Accuracy score obtained for this CV round: 0.731\n",
      "Accuracy score obtained for this CV round: 0.656\n",
      "Accuracy score obtained for this CV round: 0.581\n",
      "Accuracy score obtained for this CV round: 0.625\n",
      "Accuracy score obtained for this CV round: 0.631\n",
      "Accuracy score obtained for this CV round: 0.738\n",
      "Accuracy score obtained for this CV round: 0.650\n",
      "Accuracy score obtained for this CV round: 0.575\n",
      "Accuracy score obtained for this CV round: 0.525\n",
      "Accuracy score obtained for this CV round: 0.681\n",
      "Accuracy score obtained for this CV round: 0.637\n",
      "Accuracy score obtained for this CV round: 0.644\n",
      "Accuracy score obtained for this CV round: 0.700\n",
      "Final Accuracy Measurements: 0.646 (0.055)\n"
     ]
    }
   ],
   "source": [
    "# evaluate a model using repeated k-fold cross-validation\n",
    "def evaluate_baseline(X, y):\n",
    "\tresults = list()\n",
    "\tn_inputs, n_outputs = X.shape[1], y.shape[1]\n",
    "\t# define evaluation procedure\n",
    "\tcv = RepeatedKFold(n_splits=n_folds, n_repeats=3, random_state=seedNum)\n",
    "\t# enumerate folds\n",
    "\tfor train_ix, validation_ix in cv.split(X):\n",
    "\t\t# prepare data\n",
    "\t\tX_train, X_validation = X[train_ix], X[validation_ix]\n",
    "\t\ty_train, y_validation = y[train_ix], y[validation_ix]\n",
    "\t\t# define model\n",
    "\t\tmodel = create_nn_model(n_inputs, n_outputs)\n",
    "\t\t# fit model\n",
    "\t\tmodel.fit(X_train, y_train, epochs=default_epoch, batch_size=default_batch, verbose=0)\n",
    "\t\t# make a prediction on the test set\n",
    "\t\tyhat = model.predict(X_validation)\n",
    "\t\t# round probabilities to class labels\n",
    "\t\tyhat = yhat.round()\n",
    "\t\t# calculate accuracy\n",
    "\t\tacc = accuracy_score(y_validation, yhat)\n",
    "\t\t# store result\n",
    "\t\tprint('Accuracy score obtained for this CV round: %.3f' % acc)\n",
    "\t\tresults.append(acc)\n",
    "\treturn results\n",
    "\n",
    "# evaluate model\n",
    "results = evaluate_baseline(X_train_val, y_train_val)\n",
    "# summarize performance\n",
    "print('Final Accuracy Measurements: %.3f (%.3f)' % (np.mean(results), np.std(results)))"
   ]
  },
  {
   "cell_type": "code",
   "execution_count": 20,
   "metadata": {
    "colab": {},
    "colab_type": "code",
    "id": "_Pb01NDTS44-"
   },
   "outputs": [],
   "source": [
    "if (notifyStatus): status_notify('(TensorFlow Multi-Label) Task 3 - Define and Train Models completed on ' + datetime.now().strftime('%a %B %d, %Y %I:%M:%S %p'))"
   ]
  },
  {
   "cell_type": "markdown",
   "metadata": {
    "colab_type": "text",
    "id": "tl_5ZZZf89Or"
   },
   "source": [
    "# Task 4. Evaluate and Optimize Models"
   ]
  },
  {
   "cell_type": "code",
   "execution_count": 21,
   "metadata": {
    "colab": {},
    "colab_type": "code",
    "id": "LSEBKph489Or"
   },
   "outputs": [],
   "source": [
    "if (notifyStatus): status_notify('(TensorFlow Multi-Label) Task 4 - Evaluate and Optimize Models has begun on ' + datetime.now().strftime('%a %B %d, %Y %I:%M:%S %p'))"
   ]
  },
  {
   "cell_type": "code",
   "execution_count": 22,
   "metadata": {
    "colab": {
     "base_uri": "https://localhost:8080/",
     "height": 68
    },
    "colab_type": "code",
    "id": "un0_TT-cpoTE",
    "outputId": "26fb18aa-ee46-4cef-878f-865453e0d986"
   },
   "outputs": [
    {
     "name": "stdout",
     "output_type": "stream",
     "text": [
      "Accuracy score obtained for this CV round: 0.656\n",
      "Accuracy score obtained for this CV round: 0.669\n",
      "Accuracy score obtained for this CV round: 0.750\n",
      "Accuracy score obtained for this CV round: 0.681\n",
      "Accuracy score obtained for this CV round: 0.600\n",
      "Accuracy score obtained for this CV round: 0.619\n",
      "Accuracy score obtained for this CV round: 0.644\n",
      "Accuracy score obtained for this CV round: 0.694\n",
      "Accuracy score obtained for this CV round: 0.637\n",
      "Accuracy score obtained for this CV round: 0.644\n",
      "Accuracy score obtained for this CV round: 0.544\n",
      "Accuracy score obtained for this CV round: 0.700\n",
      "Accuracy score obtained for this CV round: 0.675\n",
      "Accuracy score obtained for this CV round: 0.656\n",
      "Accuracy score obtained for this CV round: 0.725\n",
      "Final Accuracy Measurements: 0.660 (0.049)\n"
     ]
    }
   ],
   "source": [
    "# evaluate a model using repeated k-fold cross-validation\n",
    "def evaluate_alternate(X, y):\n",
    "\tresults = list()\n",
    "\tn_inputs, n_outputs = X.shape[1], y.shape[1]\n",
    "\t# define evaluation procedure\n",
    "\tcv = RepeatedKFold(n_splits=n_folds, n_repeats=3, random_state=seedNum)\n",
    "\t# enumerate folds\n",
    "\tfor train_ix, validation_ix in cv.split(X):\n",
    "\t\t# prepare data\n",
    "\t\tX_train, X_validation = X[train_ix], X[validation_ix]\n",
    "\t\ty_train, y_validation = y[train_ix], y[validation_ix]\n",
    "\t\t# define model\n",
    "\t\tdense_alternate = 40\n",
    "\t\tmodel = create_nn_model(n_inputs, n_outputs, dense_alternate)\n",
    "\t\t# fit model\n",
    "\t\tmodel.fit(X_train, y_train, epochs=default_epoch, batch_size=default_batch, verbose=0)\n",
    "\t\t# make a prediction on the test set\n",
    "\t\tyhat = model.predict(X_validation)\n",
    "\t\t# round probabilities to class labels\n",
    "\t\tyhat = yhat.round()\n",
    "\t\t# calculate accuracy\n",
    "\t\tacc = accuracy_score(y_validation, yhat)\n",
    "\t\t# store result\n",
    "\t\tprint('Accuracy score obtained for this CV round: %.3f' % acc)\n",
    "\t\tresults.append(acc)\n",
    "\treturn results\n",
    "\n",
    "# evaluate model\n",
    "results = evaluate_alternate(X_train_val, y_train_val)\n",
    "# summarize performance\n",
    "print('Final Accuracy Measurements: %.3f (%.3f)' % (np.mean(results), np.std(results)))"
   ]
  },
  {
   "cell_type": "code",
   "execution_count": 23,
   "metadata": {
    "colab": {},
    "colab_type": "code",
    "id": "jOof5ny889Ox"
   },
   "outputs": [],
   "source": [
    "if (notifyStatus): status_notify('(TensorFlow Multi-Label) Task 4 - Evaluate and Optimize Models completed on ' + datetime.now().strftime('%a %B %d, %Y %I:%M:%S %p'))"
   ]
  },
  {
   "cell_type": "markdown",
   "metadata": {
    "colab_type": "text",
    "id": "qA6Q1pof89Oz"
   },
   "source": [
    "# Task 5. Finalize Model and Make Predictions"
   ]
  },
  {
   "cell_type": "code",
   "execution_count": 24,
   "metadata": {
    "colab": {},
    "colab_type": "code",
    "id": "hR8Hg68G89O0"
   },
   "outputs": [],
   "source": [
    "if (notifyStatus): status_notify('(TensorFlow Multi-Label) Task 5 - Finalize Model and Make Predictions has begun on ' + datetime.now().strftime('%a %B %d, %Y %I:%M:%S %p'))"
   ]
  },
  {
   "cell_type": "code",
   "execution_count": 25,
   "metadata": {},
   "outputs": [
    {
     "name": "stdout",
     "output_type": "stream",
     "text": [
      "The final modeling parameters are: optimizer=<tensorflow.python.keras.optimizer_v2.adam.Adam object at 0x7fc1b8318fd0>, kernel=<tensorflow.python.ops.init_ops_v2.GlorotUniform object at 0x7fc1b831f110>, epochs=100, batch_size=32\n",
      "Epoch 1/100\n",
      "25/25 [==============================] - 0s 2ms/step - loss: 0.6904 - accuracy: 0.5725\n",
      "Epoch 2/100\n",
      "25/25 [==============================] - 0s 2ms/step - loss: 0.4129 - accuracy: 0.5913\n",
      "Epoch 3/100\n",
      "25/25 [==============================] - 0s 2ms/step - loss: 0.3788 - accuracy: 0.6237\n",
      "Epoch 4/100\n",
      "25/25 [==============================] - 0s 2ms/step - loss: 0.3648 - accuracy: 0.6425\n",
      "Epoch 5/100\n",
      "25/25 [==============================] - 0s 2ms/step - loss: 0.3546 - accuracy: 0.6413\n",
      "Epoch 6/100\n",
      "25/25 [==============================] - 0s 2ms/step - loss: 0.3489 - accuracy: 0.6450\n",
      "Epoch 7/100\n",
      "25/25 [==============================] - 0s 2ms/step - loss: 0.3424 - accuracy: 0.6300\n",
      "Epoch 8/100\n",
      "25/25 [==============================] - 0s 2ms/step - loss: 0.3394 - accuracy: 0.6225\n",
      "Epoch 9/100\n",
      "25/25 [==============================] - 0s 2ms/step - loss: 0.3341 - accuracy: 0.6375\n",
      "Epoch 10/100\n",
      "25/25 [==============================] - 0s 2ms/step - loss: 0.3285 - accuracy: 0.6350\n",
      "Epoch 11/100\n",
      "25/25 [==============================] - 0s 2ms/step - loss: 0.3252 - accuracy: 0.6237\n",
      "Epoch 12/100\n",
      "25/25 [==============================] - 0s 2ms/step - loss: 0.3220 - accuracy: 0.6288\n",
      "Epoch 13/100\n",
      "25/25 [==============================] - 0s 2ms/step - loss: 0.3215 - accuracy: 0.6212\n",
      "Epoch 14/100\n",
      "25/25 [==============================] - 0s 2ms/step - loss: 0.3155 - accuracy: 0.6313\n",
      "Epoch 15/100\n",
      "25/25 [==============================] - 0s 2ms/step - loss: 0.3144 - accuracy: 0.6263\n",
      "Epoch 16/100\n",
      "25/25 [==============================] - 0s 2ms/step - loss: 0.3115 - accuracy: 0.6237\n",
      "Epoch 17/100\n",
      "25/25 [==============================] - 0s 2ms/step - loss: 0.3108 - accuracy: 0.6087\n",
      "Epoch 18/100\n",
      "25/25 [==============================] - 0s 2ms/step - loss: 0.3098 - accuracy: 0.6363\n",
      "Epoch 19/100\n",
      "25/25 [==============================] - 0s 2ms/step - loss: 0.3070 - accuracy: 0.6125\n",
      "Epoch 20/100\n",
      "25/25 [==============================] - 0s 2ms/step - loss: 0.3045 - accuracy: 0.6325\n",
      "Epoch 21/100\n",
      "25/25 [==============================] - 0s 2ms/step - loss: 0.3032 - accuracy: 0.6175\n",
      "Epoch 22/100\n",
      "25/25 [==============================] - 0s 2ms/step - loss: 0.3039 - accuracy: 0.6187\n",
      "Epoch 23/100\n",
      "25/25 [==============================] - 0s 2ms/step - loss: 0.3001 - accuracy: 0.6212\n",
      "Epoch 24/100\n",
      "25/25 [==============================] - 0s 2ms/step - loss: 0.2997 - accuracy: 0.6187\n",
      "Epoch 25/100\n",
      "25/25 [==============================] - 0s 2ms/step - loss: 0.2984 - accuracy: 0.6062\n",
      "Epoch 26/100\n",
      "25/25 [==============================] - 0s 2ms/step - loss: 0.2975 - accuracy: 0.6237\n",
      "Epoch 27/100\n",
      "25/25 [==============================] - 0s 2ms/step - loss: 0.2949 - accuracy: 0.6187\n",
      "Epoch 28/100\n",
      "25/25 [==============================] - 0s 2ms/step - loss: 0.2947 - accuracy: 0.6100\n",
      "Epoch 29/100\n",
      "25/25 [==============================] - 0s 2ms/step - loss: 0.2950 - accuracy: 0.6075\n",
      "Epoch 30/100\n",
      "25/25 [==============================] - 0s 2ms/step - loss: 0.2944 - accuracy: 0.6275\n",
      "Epoch 31/100\n",
      "25/25 [==============================] - 0s 2ms/step - loss: 0.2961 - accuracy: 0.6100\n",
      "Epoch 32/100\n",
      "25/25 [==============================] - 0s 2ms/step - loss: 0.2920 - accuracy: 0.6175\n",
      "Epoch 33/100\n",
      "25/25 [==============================] - 0s 2ms/step - loss: 0.2915 - accuracy: 0.6087\n",
      "Epoch 34/100\n",
      "25/25 [==============================] - 0s 2ms/step - loss: 0.2881 - accuracy: 0.6150\n",
      "Epoch 35/100\n",
      "25/25 [==============================] - 0s 2ms/step - loss: 0.2891 - accuracy: 0.6225\n",
      "Epoch 36/100\n",
      "25/25 [==============================] - 0s 2ms/step - loss: 0.2905 - accuracy: 0.5950\n",
      "Epoch 37/100\n",
      "25/25 [==============================] - 0s 2ms/step - loss: 0.2872 - accuracy: 0.6225\n",
      "Epoch 38/100\n",
      "25/25 [==============================] - 0s 2ms/step - loss: 0.2844 - accuracy: 0.6087\n",
      "Epoch 39/100\n",
      "25/25 [==============================] - 0s 2ms/step - loss: 0.2859 - accuracy: 0.6162\n",
      "Epoch 40/100\n",
      "25/25 [==============================] - 0s 2ms/step - loss: 0.2858 - accuracy: 0.6112\n",
      "Epoch 41/100\n",
      "25/25 [==============================] - 0s 2ms/step - loss: 0.2822 - accuracy: 0.6162\n",
      "Epoch 42/100\n",
      "25/25 [==============================] - 0s 2ms/step - loss: 0.2838 - accuracy: 0.6087\n",
      "Epoch 43/100\n",
      "25/25 [==============================] - 0s 2ms/step - loss: 0.2828 - accuracy: 0.6225\n",
      "Epoch 44/100\n",
      "25/25 [==============================] - 0s 2ms/step - loss: 0.2802 - accuracy: 0.6050\n",
      "Epoch 45/100\n",
      "25/25 [==============================] - 0s 2ms/step - loss: 0.2792 - accuracy: 0.6137\n",
      "Epoch 46/100\n",
      "25/25 [==============================] - 0s 2ms/step - loss: 0.2796 - accuracy: 0.6175\n",
      "Epoch 47/100\n",
      "25/25 [==============================] - 0s 2ms/step - loss: 0.2799 - accuracy: 0.6037\n",
      "Epoch 48/100\n",
      "25/25 [==============================] - 0s 2ms/step - loss: 0.2785 - accuracy: 0.6150\n",
      "Epoch 49/100\n",
      "25/25 [==============================] - 0s 2ms/step - loss: 0.2773 - accuracy: 0.6100\n",
      "Epoch 50/100\n",
      "25/25 [==============================] - 0s 2ms/step - loss: 0.2761 - accuracy: 0.6187\n",
      "Epoch 51/100\n",
      "25/25 [==============================] - 0s 2ms/step - loss: 0.2758 - accuracy: 0.6000\n",
      "Epoch 52/100\n",
      "25/25 [==============================] - 0s 2ms/step - loss: 0.2761 - accuracy: 0.6137\n",
      "Epoch 53/100\n",
      "25/25 [==============================] - 0s 2ms/step - loss: 0.2740 - accuracy: 0.6075\n",
      "Epoch 54/100\n",
      "25/25 [==============================] - 0s 2ms/step - loss: 0.2751 - accuracy: 0.6075\n",
      "Epoch 55/100\n",
      "25/25 [==============================] - 0s 2ms/step - loss: 0.2738 - accuracy: 0.6112\n",
      "Epoch 56/100\n",
      "25/25 [==============================] - 0s 2ms/step - loss: 0.2728 - accuracy: 0.6200\n",
      "Epoch 57/100\n",
      "25/25 [==============================] - 0s 2ms/step - loss: 0.2715 - accuracy: 0.6125\n",
      "Epoch 58/100\n",
      "25/25 [==============================] - 0s 2ms/step - loss: 0.2713 - accuracy: 0.6125\n",
      "Epoch 59/100\n",
      "25/25 [==============================] - 0s 2ms/step - loss: 0.2724 - accuracy: 0.6112\n",
      "Epoch 60/100\n",
      "25/25 [==============================] - 0s 2ms/step - loss: 0.2708 - accuracy: 0.6137\n",
      "Epoch 61/100\n",
      "25/25 [==============================] - 0s 2ms/step - loss: 0.2704 - accuracy: 0.6037\n",
      "Epoch 62/100\n",
      "25/25 [==============================] - 0s 2ms/step - loss: 0.2718 - accuracy: 0.6187\n",
      "Epoch 63/100\n",
      "25/25 [==============================] - 0s 2ms/step - loss: 0.2706 - accuracy: 0.5962\n",
      "Epoch 64/100\n",
      "25/25 [==============================] - 0s 2ms/step - loss: 0.2689 - accuracy: 0.6225\n",
      "Epoch 65/100\n",
      "25/25 [==============================] - 0s 2ms/step - loss: 0.2701 - accuracy: 0.6050\n",
      "Epoch 66/100\n",
      "25/25 [==============================] - 0s 2ms/step - loss: 0.2697 - accuracy: 0.6087\n",
      "Epoch 67/100\n",
      "25/25 [==============================] - 0s 2ms/step - loss: 0.2678 - accuracy: 0.6112\n",
      "Epoch 68/100\n",
      "25/25 [==============================] - 0s 2ms/step - loss: 0.2674 - accuracy: 0.6112\n",
      "Epoch 69/100\n",
      "25/25 [==============================] - 0s 2ms/step - loss: 0.2685 - accuracy: 0.6125\n",
      "Epoch 70/100\n",
      "25/25 [==============================] - 0s 2ms/step - loss: 0.2702 - accuracy: 0.6125\n",
      "Epoch 71/100\n",
      "25/25 [==============================] - 0s 2ms/step - loss: 0.2669 - accuracy: 0.5987\n",
      "Epoch 72/100\n",
      "25/25 [==============================] - 0s 2ms/step - loss: 0.2662 - accuracy: 0.6212\n",
      "Epoch 73/100\n",
      "25/25 [==============================] - 0s 2ms/step - loss: 0.2653 - accuracy: 0.6212\n",
      "Epoch 74/100\n",
      "25/25 [==============================] - 0s 2ms/step - loss: 0.2657 - accuracy: 0.5962\n",
      "Epoch 75/100\n",
      "25/25 [==============================] - 0s 2ms/step - loss: 0.2638 - accuracy: 0.6137\n",
      "Epoch 76/100\n",
      "25/25 [==============================] - 0s 2ms/step - loss: 0.2653 - accuracy: 0.6112\n",
      "Epoch 77/100\n",
      "25/25 [==============================] - 0s 2ms/step - loss: 0.2635 - accuracy: 0.6100\n",
      "Epoch 78/100\n",
      "25/25 [==============================] - 0s 2ms/step - loss: 0.2642 - accuracy: 0.6025\n",
      "Epoch 79/100\n",
      "25/25 [==============================] - 0s 2ms/step - loss: 0.2620 - accuracy: 0.6050\n",
      "Epoch 80/100\n",
      "25/25 [==============================] - 0s 2ms/step - loss: 0.2629 - accuracy: 0.5975\n",
      "Epoch 81/100\n",
      "25/25 [==============================] - 0s 2ms/step - loss: 0.2654 - accuracy: 0.6237\n",
      "Epoch 82/100\n",
      "25/25 [==============================] - 0s 2ms/step - loss: 0.2622 - accuracy: 0.6062\n",
      "Epoch 83/100\n",
      "25/25 [==============================] - 0s 2ms/step - loss: 0.2633 - accuracy: 0.6025\n",
      "Epoch 84/100\n",
      "25/25 [==============================] - 0s 2ms/step - loss: 0.2616 - accuracy: 0.6150\n",
      "Epoch 85/100\n",
      "25/25 [==============================] - 0s 2ms/step - loss: 0.2626 - accuracy: 0.6125\n",
      "Epoch 86/100\n",
      "25/25 [==============================] - 0s 2ms/step - loss: 0.2612 - accuracy: 0.6162\n",
      "Epoch 87/100\n",
      "25/25 [==============================] - 0s 2ms/step - loss: 0.2619 - accuracy: 0.5975\n",
      "Epoch 88/100\n",
      "25/25 [==============================] - 0s 2ms/step - loss: 0.2596 - accuracy: 0.6112\n",
      "Epoch 89/100\n",
      "25/25 [==============================] - 0s 2ms/step - loss: 0.2600 - accuracy: 0.6062\n",
      "Epoch 90/100\n",
      "25/25 [==============================] - 0s 2ms/step - loss: 0.2601 - accuracy: 0.5962\n",
      "Epoch 91/100\n",
      "25/25 [==============================] - 0s 2ms/step - loss: 0.2599 - accuracy: 0.6125\n",
      "Epoch 92/100\n",
      "25/25 [==============================] - 0s 2ms/step - loss: 0.2591 - accuracy: 0.6125\n",
      "Epoch 93/100\n",
      "25/25 [==============================] - 0s 2ms/step - loss: 0.2605 - accuracy: 0.6012\n",
      "Epoch 94/100\n",
      "25/25 [==============================] - 0s 2ms/step - loss: 0.2592 - accuracy: 0.6012\n",
      "Epoch 95/100\n",
      "25/25 [==============================] - 0s 2ms/step - loss: 0.2571 - accuracy: 0.6175\n",
      "Epoch 96/100\n",
      "25/25 [==============================] - 0s 2ms/step - loss: 0.2567 - accuracy: 0.6100\n",
      "Epoch 97/100\n",
      "25/25 [==============================] - 0s 2ms/step - loss: 0.2574 - accuracy: 0.6137\n",
      "Epoch 98/100\n",
      "25/25 [==============================] - 0s 2ms/step - loss: 0.2577 - accuracy: 0.5975\n",
      "Epoch 99/100\n",
      "25/25 [==============================] - 0s 2ms/step - loss: 0.2562 - accuracy: 0.6137\n",
      "Epoch 100/100\n",
      "25/25 [==============================] - 0s 2ms/step - loss: 0.2565 - accuracy: 0.6150\n"
     ]
    }
   ],
   "source": [
    "# Train the final model\n",
    "final_optimizer = default_optimizer\n",
    "final_kernel_init = default_kernel_init\n",
    "final_epoch = default_epoch\n",
    "final_batch = default_batch\n",
    "layer1_nodes = 40\n",
    "n_inputs, n_outputs = X_train_val.shape[1], y_train_val.shape[1]\n",
    "print('The final modeling parameters are: optimizer=%s, kernel=%s, epochs=%d, batch_size=%d' % (final_optimizer, final_kernel_init, final_epoch, final_batch))\n",
    "final_model = create_nn_model(n_inputs, n_outputs, layer1_nodes, final_optimizer, final_kernel_init)\n",
    "final_hist = final_model.fit(X_train_val, y_train_val, epochs=final_epoch, batch_size=final_batch, verbose=1)"
   ]
  },
  {
   "cell_type": "code",
   "execution_count": 26,
   "metadata": {},
   "outputs": [
    {
     "name": "stdout",
     "output_type": "stream",
     "text": [
      "Model: \"sequential_30\"\n",
      "_________________________________________________________________\n",
      "Layer (type)                 Output Shape              Param #   \n",
      "=================================================================\n",
      "dense_60 (Dense)             (None, 40)                440       \n",
      "_________________________________________________________________\n",
      "dense_61 (Dense)             (None, 3)                 123       \n",
      "=================================================================\n",
      "Total params: 563\n",
      "Trainable params: 563\n",
      "Non-trainable params: 0\n",
      "_________________________________________________________________\n",
      "None\n"
     ]
    }
   ],
   "source": [
    "# Display a summary of the final model\n",
    "print(final_model.summary())"
   ]
  },
  {
   "cell_type": "code",
   "execution_count": 27,
   "metadata": {},
   "outputs": [
    {
     "name": "stdout",
     "output_type": "stream",
     "text": [
      "7/7 [==============================] - 0s 2ms/step - loss: 0.3741 - accuracy: 0.6750\n"
     ]
    },
    {
     "data": {
      "text/plain": [
       "[0.3741074800491333, 0.675000011920929]"
      ]
     },
     "execution_count": 27,
     "metadata": {},
     "output_type": "execute_result"
    }
   ],
   "source": [
    "# Check the performance of the model using the test dataset\n",
    "final_model.evaluate(X_test, y_test)"
   ]
  },
  {
   "cell_type": "code",
   "execution_count": 28,
   "metadata": {
    "colab": {},
    "colab_type": "code",
    "id": "65hRNsmU89PC"
   },
   "outputs": [],
   "source": [
    "if (notifyStatus): status_notify('(TensorFlow Multi-Label) Phase 5 - Finalize Model and Make Predictions completed on ' + datetime.now().strftime('%a %B %d, %Y %I:%M:%S %p'))"
   ]
  },
  {
   "cell_type": "code",
   "execution_count": 29,
   "metadata": {
    "colab": {
     "base_uri": "https://localhost:8080/",
     "height": 34
    },
    "colab_type": "code",
    "id": "PY2cPs4689PE",
    "outputId": "a393d120-9ad6-49fc-d439-fca37873eabe"
   },
   "outputs": [
    {
     "name": "stdout",
     "output_type": "stream",
     "text": [
      "Total time for the script: 0:01:53.199012\n"
     ]
    }
   ],
   "source": [
    "print ('Total time for the script:',(datetime.now() - startTimeScript))"
   ]
  }
 ],
 "metadata": {
  "accelerator": "GPU",
  "colab": {
   "collapsed_sections": [],
   "machine_shape": "hm",
   "name": "py_tensorflow_multilabel_planet_understanding_amazon_take1.ipynb",
   "provenance": [],
   "toc_visible": true
  },
  "kernelspec": {
   "display_name": "Python 3",
   "language": "python",
   "name": "python3"
  },
  "language_info": {
   "codemirror_mode": {
    "name": "ipython",
    "version": 3
   },
   "file_extension": ".py",
   "mimetype": "text/x-python",
   "name": "python",
   "nbconvert_exporter": "python",
   "pygments_lexer": "ipython3",
   "version": "3.7.9"
  }
 },
 "nbformat": 4,
 "nbformat_minor": 4
}
