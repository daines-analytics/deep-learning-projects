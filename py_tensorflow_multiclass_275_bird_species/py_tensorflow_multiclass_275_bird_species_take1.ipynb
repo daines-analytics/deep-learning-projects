{
  "nbformat": 4,
  "nbformat_minor": 0,
  "metadata": {
    "kernelspec": {
      "display_name": "Python 3",
      "language": "python",
      "name": "python3"
    },
    "language_info": {
      "codemirror_mode": {
        "name": "ipython",
        "version": 3
      },
      "file_extension": ".py",
      "mimetype": "text/x-python",
      "name": "python",
      "nbconvert_exporter": "python",
      "pygments_lexer": "ipython3",
      "version": "3.7.9"
    },
    "colab": {
      "name": "py_tensorflow_multiclass_275_bird_species_take1.ipynb",
      "provenance": [],
      "collapsed_sections": []
    },
    "accelerator": "GPU"
  },
  "cells": [
    {
      "cell_type": "markdown",
      "metadata": {
        "id": "wm7TgCNRzYpJ"
      },
      "source": [
        "# Multi-Class Image Classification Deep Learning Model for Kaggle 275 Bird Species Using TensorFlow Take 1\n",
        "### David Lowe\n",
        "### June 23, 2021\n",
        "\n",
        "Template Credit: Adapted from a template made available by Dr. Jason Brownlee of Machine Learning Mastery. [https://machinelearningmastery.com/]\n",
        "\n",
        "SUMMARY: This project aims to construct a predictive model using a TensorFlow convolutional neural network (CNN) and document the end-to-end steps using a template. The Kaggle 275 Bird Species dataset is a multi-class classification situation where we attempt to predict one of several (for this dataset 275) possible outcomes.\n",
        "\n",
        "INTRODUCTION: This dataset contains 275 bird species with 39364 training images, 1375 test images(5 per species), and 1375 validation images(5 per species. All images have a resolution of 224 X 224 X 3 color images in the jpg format. Each dataset includes 275 subdirectories, one for each bird species.\n",
        "\n",
        "In this Take1 iteration, we will construct a simple three-layer CNN model to predict the specie for the image.\n",
        "\n",
        "ANALYSIS: The performance of the baseline model achieved an accuracy score of 68.87% after 50 epochs using the validation dataset. The same model processed the test dataset with an accuracy score of 69.24%.\n",
        "\n",
        "CONCLUSION: In this iteration, the TensorFlow CNN model appeared to be suitable for modeling this dataset. We should consider experimenting with TensorFlow for further modeling.\n",
        "\n",
        "Dataset Used: Kaggle 275 Bird Species dataset\n",
        "\n",
        "Dataset ML Model: Multi-class image classification with numerical attributes\n",
        "\n",
        "Dataset Reference: https://www.kaggle.com/gpiosenka/100-bird-species\n",
        "\n",
        "One potential source of performance benchmarks: https://www.kaggle.com/gpiosenka/100-bird-species\n",
        "\n",
        "A deep-learning image classification project generally can be broken down into five major tasks:\n",
        "\n",
        "1. Prepare Environment\n",
        "2. Load and Prepare Images\n",
        "3. Define and Train Models\n",
        "4. Evaluate and Optimize Models\n",
        "5. Finalize Model and Make Predictions"
      ]
    },
    {
      "cell_type": "markdown",
      "metadata": {
        "id": "yjz77tzczYpL"
      },
      "source": [
        "# Task 1 - Prepare Environment"
      ]
    },
    {
      "cell_type": "code",
      "metadata": {
        "id": "yymMW8D4zYpM"
      },
      "source": [
        "# Install the packages to support accessing environment variable and SQL databases\n",
        "# !pip install python-dotenv PyMySQL boto3"
      ],
      "execution_count": 1,
      "outputs": []
    },
    {
      "cell_type": "code",
      "metadata": {
        "id": "WTBLbPj6zYpP",
        "colab": {
          "base_uri": "https://localhost:8080/"
        },
        "outputId": "d9fbde56-61ce-4aa8-f89f-e626cdc3ba2d"
      },
      "source": [
        "# Retrieve GPU configuration information from Colab\n",
        "gpu_info = !nvidia-smi\n",
        "gpu_info = '\\n'.join(gpu_info)\n",
        "if gpu_info.find('failed') >= 0:\n",
        "    print('Select the Runtime → \"Change runtime type\" menu to enable a GPU accelerator, ')\n",
        "    print('and then re-execute this cell.')\n",
        "else:\n",
        "    print(gpu_info)"
      ],
      "execution_count": 2,
      "outputs": [
        {
          "output_type": "stream",
          "text": [
            "Mon Jun 21 13:33:48 2021       \n",
            "+-----------------------------------------------------------------------------+\n",
            "| NVIDIA-SMI 465.27       Driver Version: 460.32.03    CUDA Version: 11.2     |\n",
            "|-------------------------------+----------------------+----------------------+\n",
            "| GPU  Name        Persistence-M| Bus-Id        Disp.A | Volatile Uncorr. ECC |\n",
            "| Fan  Temp  Perf  Pwr:Usage/Cap|         Memory-Usage | GPU-Util  Compute M. |\n",
            "|                               |                      |               MIG M. |\n",
            "|===============================+======================+======================|\n",
            "|   0  Tesla P100-PCIE...  Off  | 00000000:00:04.0 Off |                    0 |\n",
            "| N/A   36C    P0    26W / 250W |      0MiB / 16280MiB |      0%      Default |\n",
            "|                               |                      |                  N/A |\n",
            "+-------------------------------+----------------------+----------------------+\n",
            "                                                                               \n",
            "+-----------------------------------------------------------------------------+\n",
            "| Processes:                                                                  |\n",
            "|  GPU   GI   CI        PID   Type   Process name                  GPU Memory |\n",
            "|        ID   ID                                                   Usage      |\n",
            "|=============================================================================|\n",
            "|  No running processes found                                                 |\n",
            "+-----------------------------------------------------------------------------+\n"
          ],
          "name": "stdout"
        }
      ]
    },
    {
      "cell_type": "code",
      "metadata": {
        "id": "NPBJM3QLzYpR",
        "colab": {
          "base_uri": "https://localhost:8080/"
        },
        "outputId": "a7bd0f5d-fcc5-42c2-f82f-64bf456940db"
      },
      "source": [
        "# Retrieve memory configuration information from Colab\n",
        "from psutil import virtual_memory\n",
        "ram_gb = virtual_memory().total / 1e9\n",
        "print('Your runtime has {:.1f} gigabytes of available RAM\\n'.format(ram_gb))\n",
        "\n",
        "if ram_gb < 20:\n",
        "    print('To enable a high-RAM runtime, select the Runtime → \"Change runtime type\"')\n",
        "    print('menu, and then select High-RAM in the Runtime shape dropdown. Then, ')\n",
        "    print('re-execute this cell.')\n",
        "else:\n",
        "    print('You are using a high-RAM runtime!')"
      ],
      "execution_count": 3,
      "outputs": [
        {
          "output_type": "stream",
          "text": [
            "Your runtime has 13.6 gigabytes of available RAM\n",
            "\n",
            "To enable a high-RAM runtime, select the Runtime → \"Change runtime type\"\n",
            "menu, and then select High-RAM in the Runtime shape dropdown. Then, \n",
            "re-execute this cell.\n"
          ],
          "name": "stdout"
        }
      ]
    },
    {
      "cell_type": "code",
      "metadata": {
        "id": "Rt62MLGBzYpV",
        "colab": {
          "base_uri": "https://localhost:8080/"
        },
        "outputId": "6d4826b2-eee1-4b77-cf78-2b1d790f0ef6"
      },
      "source": [
        "# Retrieve CPU information from the system\n",
        "ncpu = !nproc\n",
        "print(\"The number of available CPUs is:\", ncpu[0])"
      ],
      "execution_count": 4,
      "outputs": [
        {
          "output_type": "stream",
          "text": [
            "The number of available CPUs is: 2\n"
          ],
          "name": "stdout"
        }
      ]
    },
    {
      "cell_type": "markdown",
      "metadata": {
        "id": "JU6CoUSHzYpX"
      },
      "source": [
        "## 1.a) Load libraries and modules"
      ]
    },
    {
      "cell_type": "code",
      "metadata": {
        "id": "5vLXzBGlzYpX"
      },
      "source": [
        "# Set the random seed number for reproducible results\n",
        "RNG_SEED = 888"
      ],
      "execution_count": 5,
      "outputs": []
    },
    {
      "cell_type": "code",
      "metadata": {
        "id": "7OPrZkvnzYpZ"
      },
      "source": [
        "# Load libraries and packages\n",
        "import random\n",
        "import numpy as np\n",
        "import pandas as pd\n",
        "import matplotlib.pyplot as plt\n",
        "import matplotlib.image as mpimg\n",
        "import os\n",
        "import sys\n",
        "from datetime import datetime\n",
        "import zipfile\n",
        "import h5py\n",
        "# import boto3\n",
        "# from dotenv import load_dotenv\n",
        "from sklearn import preprocessing\n",
        "from sklearn.model_selection import train_test_split\n",
        "from sklearn.metrics import accuracy_score\n",
        "from sklearn.metrics import confusion_matrix\n",
        "from sklearn.metrics import classification_report\n",
        "import tensorflow as tf\n",
        "from tensorflow import keras\n",
        "from tensorflow.keras.preprocessing.image import ImageDataGenerator\n",
        "from tensorflow.keras.callbacks import ReduceLROnPlateau"
      ],
      "execution_count": 6,
      "outputs": []
    },
    {
      "cell_type": "markdown",
      "metadata": {
        "id": "j_DlsgItzYpb"
      },
      "source": [
        "## 1.b) Set up the controlling parameters and functions"
      ]
    },
    {
      "cell_type": "code",
      "metadata": {
        "id": "YidrXfyszYpc",
        "colab": {
          "base_uri": "https://localhost:8080/"
        },
        "outputId": "658fa7b6-9930-40c9-81c7-e528e875c04d"
      },
      "source": [
        "# Begin the timer for the script processing\n",
        "start_time_script = datetime.now()\n",
        "\n",
        "# Set up the number of CPU cores available for multi-thread processing\n",
        "N_JOBS = 1\n",
        "\n",
        "# Set up the flag to stop sending progress emails (setting to True will send status emails!)\n",
        "NOTIFY_STATUS = False\n",
        "\n",
        "# Set the percentage sizes for splitting the dataset\n",
        "# VAL_SET_RATIO = 0.3\n",
        "# TEST_SET_RATIO = 0.5\n",
        "\n",
        "# Set various default modeling parameters\n",
        "DEFAULT_LOSS = 'categorical_crossentropy'\n",
        "DEFAULT_METRICS = ['accuracy']\n",
        "DEFAULT_OPTIMIZER = tf.keras.optimizers.Adam(learning_rate=0.00005)\n",
        "DEFAULT_INITIALIZER = tf.keras.initializers.RandomNormal(seed=RNG_SEED)\n",
        "CLASSIFIER_ACTIVATION = 'softmax'\n",
        "MAX_EPOCHS = 50\n",
        "BATCH_SIZE = 32\n",
        "RAW_IMAGE_SIZE = (224, 224)\n",
        "TARGET_IMAGE_SIZE = (224, 224)\n",
        "INPUT_IMAGE_SHAPE = (TARGET_IMAGE_SIZE[0], TARGET_IMAGE_SIZE[1], 3)\n",
        "\n",
        "NUM_CLASSES = 275\n",
        "# CLASS_LABELS = []\n",
        "# CLASS_NAMES = []\n",
        "\n",
        "# Define the labels to use for graphing the data\n",
        "train_metric = \"accuracy\"\n",
        "validation_metric = \"val_accuracy\"\n",
        "train_loss = \"loss\"\n",
        "validation_loss = \"val_loss\"\n",
        "\n",
        "# Define the directory locations and file names\n",
        "STAGING_DIR = 'staging/'\n",
        "TRAIN_DIR = 'staging/train/'\n",
        "VALID_DIR = 'staging/valid/'\n",
        "TEST_DIR = 'staging/test/'\n",
        "# TRAIN_DATASET = ''\n",
        "# VALID_DATASET = ''\n",
        "# TEST_DATASET = ''\n",
        "# TRAIN_LABELS = ''\n",
        "# VALID_LABELS = ''\n",
        "# TEST_LABELS = ''\n",
        "# OUTPUT_DIR = 'staging/'\n",
        "# SAMPLE_SUBMISSION_CSV = 'sample_submission.csv'\n",
        "# FINAL_SUBMISSION_CSV = 'submission.csv'\n",
        "\n",
        "# Check the number of GPUs accessible through TensorFlow\n",
        "print('Num GPUs Available:', len(tf.config.list_physical_devices('GPU')))\n",
        "\n",
        "# Print out the TensorFlow version for confirmation\n",
        "print('TensorFlow version:', tf.__version__)"
      ],
      "execution_count": 7,
      "outputs": [
        {
          "output_type": "stream",
          "text": [
            "Num GPUs Available: 1\n",
            "TensorFlow version: 2.5.0\n"
          ],
          "name": "stdout"
        }
      ]
    },
    {
      "cell_type": "code",
      "metadata": {
        "id": "W-a57IMqzYph"
      },
      "source": [
        "# Set up the email notification function\n",
        "def status_notify(msg_text):\n",
        "    access_key = os.environ.get('SNS_ACCESS_KEY')\n",
        "    secret_key = os.environ.get('SNS_SECRET_KEY')\n",
        "    aws_region = os.environ.get('SNS_AWS_REGION')\n",
        "    topic_arn = os.environ.get('SNS_TOPIC_ARN')\n",
        "    if (access_key is None) or (secret_key is None) or (aws_region is None):\n",
        "        sys.exit(\"Incomplete notification setup info. Script Processing Aborted!!!\")\n",
        "    sns = boto3.client('sns', aws_access_key_id=access_key, aws_secret_access_key=secret_key, region_name=aws_region)\n",
        "    response = sns.publish(TopicArn=topic_arn, Message=msg_text)\n",
        "    if response['ResponseMetadata']['HTTPStatusCode'] != 200 :\n",
        "        print('Status notification not OK with HTTP status code:', response['ResponseMetadata']['HTTPStatusCode'])"
      ],
      "execution_count": 8,
      "outputs": []
    },
    {
      "cell_type": "code",
      "metadata": {
        "id": "gCnz7I5wzYpi"
      },
      "source": [
        "if NOTIFY_STATUS: status_notify('(TensorFlow Multi-Class) Task 1 - Prepare Environment has begun on ' + datetime.now().strftime('%A %B %d, %Y %I:%M:%S %p'))"
      ],
      "execution_count": 9,
      "outputs": []
    },
    {
      "cell_type": "code",
      "metadata": {
        "id": "-b-SwoTszYpk"
      },
      "source": [
        "# Reset the random number generators\n",
        "def reset_random(x=RNG_SEED):\n",
        "    random.seed(x)\n",
        "    np.random.seed(x)\n",
        "    tf.random.set_seed(x)"
      ],
      "execution_count": 10,
      "outputs": []
    },
    {
      "cell_type": "code",
      "metadata": {
        "jupyter": {
          "outputs_hidden": false
        },
        "pycharm": {
          "name": "#%%\n"
        },
        "id": "TkZYm2ZmzYpl"
      },
      "source": [
        "if NOTIFY_STATUS: status_notify('(TensorFlow Multi-Class) Task 1 - Prepare Environment completed on ' + datetime.now().strftime('%A %B %d, %Y %I:%M:%S %p'))"
      ],
      "execution_count": 11,
      "outputs": []
    },
    {
      "cell_type": "markdown",
      "metadata": {
        "pycharm": {
          "name": "#%% md\n"
        },
        "id": "CMKAG-YIzYpn"
      },
      "source": [
        "# Task 2 - Load and Prepare Images"
      ]
    },
    {
      "cell_type": "code",
      "metadata": {
        "jupyter": {
          "outputs_hidden": false
        },
        "pycharm": {
          "name": "#%%\n"
        },
        "id": "xHtS66j4zYpo"
      },
      "source": [
        "if NOTIFY_STATUS: status_notify('(TensorFlow Multi-Class) Task 2 - Load and Prepare Images has begun on ' + datetime.now().strftime('%A %B %d, %Y %I:%M:%S %p'))"
      ],
      "execution_count": 12,
      "outputs": []
    },
    {
      "cell_type": "code",
      "metadata": {
        "id": "iI1RPsfzzYpr",
        "colab": {
          "base_uri": "https://localhost:8080/"
        },
        "outputId": "2f5af4a3-b773-46b1-f517-5bf8f55e0f92"
      },
      "source": [
        "!rm -rf staging/\n",
        "!mkdir staging/\n",
        "!rm archive.zip\n",
        "!wget https://dainesanalytics.com/datasets/kaggle-275-bird-species/archive.zip"
      ],
      "execution_count": 13,
      "outputs": [
        {
          "output_type": "stream",
          "text": [
            "rm: cannot remove 'archive.zip': No such file or directory\n",
            "--2021-06-21 13:33:51--  https://dainesanalytics.com/datasets/kaggle-275-bird-species/archive.zip\n",
            "Resolving dainesanalytics.com (dainesanalytics.com)... 13.226.50.65, 13.226.50.69, 13.226.50.123, ...\n",
            "Connecting to dainesanalytics.com (dainesanalytics.com)|13.226.50.65|:443... connected.\n",
            "HTTP request sent, awaiting response... 200 OK\n",
            "Length: 932563464 (889M) [application/zip]\n",
            "Saving to: ‘archive.zip’\n",
            "\n",
            "archive.zip         100%[===================>] 889.36M  31.4MB/s    in 29s     \n",
            "\n",
            "2021-06-21 13:34:21 (30.9 MB/s) - ‘archive.zip’ saved [932563464/932563464]\n",
            "\n"
          ],
          "name": "stdout"
        }
      ]
    },
    {
      "cell_type": "code",
      "metadata": {
        "id": "oFS8xhMSZn-m"
      },
      "source": [
        "dataset_zip = 'archive.zip'\n",
        "zip_ref = zipfile.ZipFile(dataset_zip, 'r')\n",
        "zip_ref.extractall(STAGING_DIR)\n",
        "zip_ref.close()"
      ],
      "execution_count": 14,
      "outputs": []
    },
    {
      "cell_type": "code",
      "metadata": {
        "colab": {
          "base_uri": "https://localhost:8080/"
        },
        "id": "oTDVdDpybkPn",
        "outputId": "5d99a4cc-bc69-4e28-f10d-227b55c55356"
      },
      "source": [
        "datagen_kwargs = dict(rescale=1./255)\n",
        "training_datagen = ImageDataGenerator(**datagen_kwargs)\n",
        "validation_datagen = ImageDataGenerator(**datagen_kwargs)\n",
        "dataflow_kwargs = dict(class_mode=\"categorical\")\n",
        "\n",
        "do_data_augmentation = True\n",
        "if do_data_augmentation:\n",
        "    training_datagen = ImageDataGenerator(rotation_range=90,\n",
        "                                          horizontal_flip=True,\n",
        "                                          vertical_flip=True,\n",
        "                                          **datagen_kwargs)\n",
        "\n",
        "print('Loading and pre-processing the training images...')\n",
        "training_generator = training_datagen.flow_from_directory(directory=TRAIN_DIR,\n",
        "                                                          target_size=TARGET_IMAGE_SIZE,\n",
        "                                                          shuffle=True,\n",
        "                                                          seed=RNG_SEED,\n",
        "                                                          **dataflow_kwargs)\n",
        "print('Number of image batches per epoch of modeling:', len(training_generator))\n",
        "\n",
        "print('Loading and pre-processing the validation images...')\n",
        "validation_generator = validation_datagen.flow_from_directory(directory=VALID_DIR,\n",
        "                                                              target_size=TARGET_IMAGE_SIZE,\n",
        "                                                              shuffle=False,\n",
        "                                                              **dataflow_kwargs)\n",
        "print('Number of image batches per epoch of modeling:', len(validation_generator))"
      ],
      "execution_count": 15,
      "outputs": [
        {
          "output_type": "stream",
          "text": [
            "Loading and pre-processing the training images...\n",
            "Found 39364 images belonging to 275 classes.\n",
            "Number of image batches per epoch of modeling: 1231\n",
            "Loading and pre-processing the validation images...\n",
            "Found 1375 images belonging to 275 classes.\n",
            "Number of image batches per epoch of modeling: 43\n"
          ],
          "name": "stdout"
        }
      ]
    },
    {
      "cell_type": "code",
      "metadata": {
        "id": "_C7U2LGuzYp7"
      },
      "source": [
        "if NOTIFY_STATUS: status_notify('(TensorFlow Multi-Class) Task 2 - Load and Prepare Images completed on ' + datetime.now().strftime('%A %B %d, %Y %I:%M:%S %p'))"
      ],
      "execution_count": 16,
      "outputs": []
    },
    {
      "cell_type": "markdown",
      "metadata": {
        "id": "Q1zN_4yTzYp8"
      },
      "source": [
        "# Task 3 - Define and Train Models"
      ]
    },
    {
      "cell_type": "code",
      "metadata": {
        "id": "Do8vW0SIzYp9"
      },
      "source": [
        "if NOTIFY_STATUS: status_notify('(TensorFlow Multi-Class) Task 3 - Define and Train Models has begun on ' + datetime.now().strftime('%A %B %d, %Y %I:%M:%S %p'))"
      ],
      "execution_count": 17,
      "outputs": []
    },
    {
      "cell_type": "code",
      "metadata": {
        "id": "TxzTYyrwzYp-"
      },
      "source": [
        "# Define the function for plotting training results for comparison\n",
        "def plot_metrics(history):\n",
        "    fig, axs = plt.subplots(1, 2, figsize=(24, 15))\n",
        "    metrics =  [train_loss, train_metric]\n",
        "    for n, metric in enumerate(metrics):\n",
        "        name = metric.replace(\"_\",\" \").capitalize()\n",
        "        plt.subplot(2,2,n+1)\n",
        "        plt.plot(history.epoch, history.history[metric], color='blue', label='Train')\n",
        "        plt.plot(history.epoch, history.history['val_'+metric], color='red', linestyle=\"--\", label='Val')\n",
        "        plt.xlabel('Epoch')\n",
        "        plt.ylabel(name)\n",
        "        if metric == train_loss:\n",
        "            plt.ylim([0, plt.ylim()[1]])\n",
        "        else:\n",
        "            plt.ylim([0.1, 1.1])\n",
        "        plt.legend()"
      ],
      "execution_count": 18,
      "outputs": []
    },
    {
      "cell_type": "code",
      "metadata": {
        "id": "M2nXRu9mzYqA"
      },
      "source": [
        "# Define the baseline model for benchmarking\n",
        "def create_nn_model(conv1_filters=128, conv2_filters=256, conv3_filters=512, conv1_dropout=0.25, conv2_dropout=0.25, conv3_dropout=0.25,\n",
        "                    input_param=INPUT_IMAGE_SHAPE, output_param=NUM_CLASSES, init_param=DEFAULT_INITIALIZER, classifier_activation=CLASSIFIER_ACTIVATION,\n",
        "                    loss_param=DEFAULT_LOSS, opt_param=DEFAULT_OPTIMIZER, metrics_param=DEFAULT_METRICS):\n",
        "    nn_model = keras.Sequential([\n",
        "        # This is the first convolution\n",
        "        keras.layers.Conv2D(conv1_filters, (3,3), activation='relu', kernel_initializer=init_param, input_shape=input_param),\n",
        "        keras.layers.Conv2D(conv1_filters, (3,3), activation='relu', kernel_initializer=init_param),\n",
        "        keras.layers.MaxPooling2D((2,2)),\n",
        "        keras.layers.Dropout(conv1_dropout),\n",
        "        # This is the second convolution\n",
        "        keras.layers.Conv2D(conv2_filters, (3,3), activation='relu', kernel_initializer=init_param),\n",
        "        keras.layers.Conv2D(conv2_filters, (3,3), activation='relu', kernel_initializer=init_param),\n",
        "        keras.layers.MaxPooling2D((2,2)),\n",
        "        keras.layers.Dropout(conv2_dropout),\n",
        "        # This is the third convolution\n",
        "        keras.layers.Conv2D(conv3_filters, (3,3), activation='relu', kernel_initializer=init_param),\n",
        "        keras.layers.Conv2D(conv3_filters, (3,3), activation='relu', kernel_initializer=init_param),\n",
        "        keras.layers.MaxPooling2D((2,2)),\n",
        "        keras.layers.Dropout(conv3_dropout),\n",
        "        # Flatten the results to feed into a DNN\n",
        "        keras.layers.Flatten(),\n",
        "        keras.layers.Dense(1024, activation='relu', kernel_initializer=init_param),\n",
        "        keras.layers.Dense(output_param, activation=classifier_activation)\n",
        "    ])\n",
        "    nn_model.compile(loss=loss_param, optimizer=opt_param, metrics=metrics_param)\n",
        "    return nn_model"
      ],
      "execution_count": 19,
      "outputs": []
    },
    {
      "cell_type": "code",
      "metadata": {
        "id": "OcVElo2TzYqC",
        "colab": {
          "base_uri": "https://localhost:8080/"
        },
        "outputId": "03d863d1-b448-4625-c267-cb2c898aa56c"
      },
      "source": [
        "# Initialize the neural network model and get the training results for plotting graph\n",
        "start_time_module = datetime.now()\n",
        "# learning_rate_reduction = ReduceLROnPlateau(monitor='val_accuracy', patience = 3, verbose=1, factor=0.5, min_lr=0.000001)\n",
        "reset_random()\n",
        "nn_model_0 = create_nn_model()\n",
        "nn_model_history = nn_model_0.fit(training_generator,\n",
        "                                  epochs=MAX_EPOCHS,\n",
        "                                  validation_data=validation_generator,\n",
        "                                #   callbacks=[learning_rate_reduction],\n",
        "                                  verbose=1)\n",
        "print('Total time for model fitting:', (datetime.now() - start_time_module))"
      ],
      "execution_count": 20,
      "outputs": [
        {
          "output_type": "stream",
          "text": [
            "Epoch 1/50\n",
            "1231/1231 [==============================] - 553s 431ms/step - loss: 7.0450 - accuracy: 0.0040 - val_loss: 5.6144 - val_accuracy: 0.0051\n",
            "Epoch 2/50\n",
            "1231/1231 [==============================] - 523s 425ms/step - loss: 5.5903 - accuracy: 0.0076 - val_loss: 5.4835 - val_accuracy: 0.0153\n",
            "Epoch 3/50\n",
            "1231/1231 [==============================] - 522s 424ms/step - loss: 5.3853 - accuracy: 0.0202 - val_loss: 5.1316 - val_accuracy: 0.0473\n",
            "Epoch 4/50\n",
            "1231/1231 [==============================] - 523s 425ms/step - loss: 4.9416 - accuracy: 0.0486 - val_loss: 4.5589 - val_accuracy: 0.0698\n",
            "Epoch 5/50\n",
            "1231/1231 [==============================] - 522s 424ms/step - loss: 4.4150 - accuracy: 0.0943 - val_loss: 4.0175 - val_accuracy: 0.1353\n",
            "Epoch 6/50\n",
            "1231/1231 [==============================] - 523s 424ms/step - loss: 3.9918 - accuracy: 0.1474 - val_loss: 3.7755 - val_accuracy: 0.1680\n",
            "Epoch 7/50\n",
            "1231/1231 [==============================] - 523s 425ms/step - loss: 3.6710 - accuracy: 0.1959 - val_loss: 3.3723 - val_accuracy: 0.2407\n",
            "Epoch 8/50\n",
            "1231/1231 [==============================] - 523s 425ms/step - loss: 3.4164 - accuracy: 0.2392 - val_loss: 3.1886 - val_accuracy: 0.2800\n",
            "Epoch 9/50\n",
            "1231/1231 [==============================] - 522s 424ms/step - loss: 3.1669 - accuracy: 0.2827 - val_loss: 2.9814 - val_accuracy: 0.3200\n",
            "Epoch 10/50\n",
            "1231/1231 [==============================] - 524s 426ms/step - loss: 2.9585 - accuracy: 0.3193 - val_loss: 2.9555 - val_accuracy: 0.3273\n",
            "Epoch 11/50\n",
            "1231/1231 [==============================] - 524s 426ms/step - loss: 2.7662 - accuracy: 0.3561 - val_loss: 2.8405 - val_accuracy: 0.3564\n",
            "Epoch 12/50\n",
            "1231/1231 [==============================] - 525s 427ms/step - loss: 2.5892 - accuracy: 0.3925 - val_loss: 2.5196 - val_accuracy: 0.4058\n",
            "Epoch 13/50\n",
            "1231/1231 [==============================] - 525s 426ms/step - loss: 2.4353 - accuracy: 0.4237 - val_loss: 2.3717 - val_accuracy: 0.4436\n",
            "Epoch 14/50\n",
            "1231/1231 [==============================] - 526s 427ms/step - loss: 2.2917 - accuracy: 0.4533 - val_loss: 2.4103 - val_accuracy: 0.4284\n",
            "Epoch 15/50\n",
            "1231/1231 [==============================] - 525s 427ms/step - loss: 2.1615 - accuracy: 0.4786 - val_loss: 2.4526 - val_accuracy: 0.4284\n",
            "Epoch 16/50\n",
            "1231/1231 [==============================] - 523s 424ms/step - loss: 2.0386 - accuracy: 0.5051 - val_loss: 2.3040 - val_accuracy: 0.4596\n",
            "Epoch 17/50\n",
            "1231/1231 [==============================] - 521s 423ms/step - loss: 1.9316 - accuracy: 0.5303 - val_loss: 1.9389 - val_accuracy: 0.5338\n",
            "Epoch 18/50\n",
            "1231/1231 [==============================] - 521s 423ms/step - loss: 1.8215 - accuracy: 0.5523 - val_loss: 2.0948 - val_accuracy: 0.5091\n",
            "Epoch 19/50\n",
            "1231/1231 [==============================] - 521s 423ms/step - loss: 1.7329 - accuracy: 0.5696 - val_loss: 1.9997 - val_accuracy: 0.5295\n",
            "Epoch 20/50\n",
            "1231/1231 [==============================] - 522s 424ms/step - loss: 1.6424 - accuracy: 0.5906 - val_loss: 1.8721 - val_accuracy: 0.5564\n",
            "Epoch 21/50\n",
            "1231/1231 [==============================] - 523s 425ms/step - loss: 1.5579 - accuracy: 0.6095 - val_loss: 1.8612 - val_accuracy: 0.5571\n",
            "Epoch 22/50\n",
            "1231/1231 [==============================] - 522s 424ms/step - loss: 1.4739 - accuracy: 0.6271 - val_loss: 1.8473 - val_accuracy: 0.5789\n",
            "Epoch 23/50\n",
            "1231/1231 [==============================] - 522s 424ms/step - loss: 1.3979 - accuracy: 0.6423 - val_loss: 1.7625 - val_accuracy: 0.5942\n",
            "Epoch 24/50\n",
            "1231/1231 [==============================] - 523s 424ms/step - loss: 1.3309 - accuracy: 0.6616 - val_loss: 1.6889 - val_accuracy: 0.6124\n",
            "Epoch 25/50\n",
            "1231/1231 [==============================] - 522s 424ms/step - loss: 1.2595 - accuracy: 0.6744 - val_loss: 1.7921 - val_accuracy: 0.5956\n",
            "Epoch 26/50\n",
            "1231/1231 [==============================] - 522s 424ms/step - loss: 1.1961 - accuracy: 0.6906 - val_loss: 1.6376 - val_accuracy: 0.6247\n",
            "Epoch 27/50\n",
            "1231/1231 [==============================] - 522s 424ms/step - loss: 1.1352 - accuracy: 0.7039 - val_loss: 1.7503 - val_accuracy: 0.6116\n",
            "Epoch 28/50\n",
            "1231/1231 [==============================] - 522s 424ms/step - loss: 1.0770 - accuracy: 0.7162 - val_loss: 1.4206 - val_accuracy: 0.6538\n",
            "Epoch 29/50\n",
            "1231/1231 [==============================] - 525s 426ms/step - loss: 1.0291 - accuracy: 0.7249 - val_loss: 1.6612 - val_accuracy: 0.6182\n",
            "Epoch 30/50\n",
            "1231/1231 [==============================] - 525s 426ms/step - loss: 0.9705 - accuracy: 0.7399 - val_loss: 1.5653 - val_accuracy: 0.6422\n",
            "Epoch 31/50\n",
            "1231/1231 [==============================] - 524s 426ms/step - loss: 0.9221 - accuracy: 0.7523 - val_loss: 1.6027 - val_accuracy: 0.6371\n",
            "Epoch 32/50\n",
            "1231/1231 [==============================] - 529s 429ms/step - loss: 0.8652 - accuracy: 0.7648 - val_loss: 1.7712 - val_accuracy: 0.6240\n",
            "Epoch 33/50\n",
            "1231/1231 [==============================] - 527s 428ms/step - loss: 0.8216 - accuracy: 0.7755 - val_loss: 1.5979 - val_accuracy: 0.6429\n",
            "Epoch 34/50\n",
            "1231/1231 [==============================] - 525s 426ms/step - loss: 0.7775 - accuracy: 0.7870 - val_loss: 1.6314 - val_accuracy: 0.6458\n",
            "Epoch 35/50\n",
            "1231/1231 [==============================] - 523s 424ms/step - loss: 0.7277 - accuracy: 0.7969 - val_loss: 1.7018 - val_accuracy: 0.6356\n",
            "Epoch 36/50\n",
            "1231/1231 [==============================] - 521s 423ms/step - loss: 0.6870 - accuracy: 0.8085 - val_loss: 1.4517 - val_accuracy: 0.6691\n",
            "Epoch 37/50\n",
            "1231/1231 [==============================] - 522s 424ms/step - loss: 0.6598 - accuracy: 0.8126 - val_loss: 1.6684 - val_accuracy: 0.6560\n",
            "Epoch 38/50\n",
            "1231/1231 [==============================] - 522s 424ms/step - loss: 0.6073 - accuracy: 0.8290 - val_loss: 1.5773 - val_accuracy: 0.6720\n",
            "Epoch 39/50\n",
            "1231/1231 [==============================] - 522s 423ms/step - loss: 0.5799 - accuracy: 0.8336 - val_loss: 1.6121 - val_accuracy: 0.6611\n",
            "Epoch 40/50\n",
            "1231/1231 [==============================] - 522s 424ms/step - loss: 0.5446 - accuracy: 0.8445 - val_loss: 1.6155 - val_accuracy: 0.6742\n",
            "Epoch 41/50\n",
            "1231/1231 [==============================] - 521s 423ms/step - loss: 0.5183 - accuracy: 0.8514 - val_loss: 1.6385 - val_accuracy: 0.6713\n",
            "Epoch 42/50\n",
            "1231/1231 [==============================] - 524s 425ms/step - loss: 0.4794 - accuracy: 0.8594 - val_loss: 1.6012 - val_accuracy: 0.6829\n",
            "Epoch 43/50\n",
            "1231/1231 [==============================] - 522s 424ms/step - loss: 0.4604 - accuracy: 0.8652 - val_loss: 1.6950 - val_accuracy: 0.6778\n",
            "Epoch 44/50\n",
            "1231/1231 [==============================] - 523s 425ms/step - loss: 0.4322 - accuracy: 0.8706 - val_loss: 1.5520 - val_accuracy: 0.6873\n",
            "Epoch 45/50\n",
            "1231/1231 [==============================] - 522s 424ms/step - loss: 0.4104 - accuracy: 0.8785 - val_loss: 1.6377 - val_accuracy: 0.6858\n",
            "Epoch 46/50\n",
            "1231/1231 [==============================] - 523s 424ms/step - loss: 0.3787 - accuracy: 0.8855 - val_loss: 1.8116 - val_accuracy: 0.6596\n",
            "Epoch 47/50\n",
            "1231/1231 [==============================] - 522s 424ms/step - loss: 0.3581 - accuracy: 0.8928 - val_loss: 1.9111 - val_accuracy: 0.6516\n",
            "Epoch 48/50\n",
            "1231/1231 [==============================] - 522s 424ms/step - loss: 0.3439 - accuracy: 0.8983 - val_loss: 1.8256 - val_accuracy: 0.6735\n",
            "Epoch 49/50\n",
            "1231/1231 [==============================] - 522s 424ms/step - loss: 0.3287 - accuracy: 0.9002 - val_loss: 1.9785 - val_accuracy: 0.6713\n",
            "Epoch 50/50\n",
            "1231/1231 [==============================] - 522s 424ms/step - loss: 0.3063 - accuracy: 0.9057 - val_loss: 1.8097 - val_accuracy: 0.6887\n",
            "Total time for model fitting: 7:16:19.543417\n"
          ],
          "name": "stdout"
        }
      ]
    },
    {
      "cell_type": "code",
      "metadata": {
        "id": "B3TrVKk4zYqE",
        "colab": {
          "base_uri": "https://localhost:8080/"
        },
        "outputId": "0181d42a-c640-4c71-a5d0-edcc1855efbb"
      },
      "source": [
        "nn_model_0.summary()"
      ],
      "execution_count": 21,
      "outputs": [
        {
          "output_type": "stream",
          "text": [
            "Model: \"sequential\"\n",
            "_________________________________________________________________\n",
            "Layer (type)                 Output Shape              Param #   \n",
            "=================================================================\n",
            "conv2d (Conv2D)              (None, 222, 222, 128)     3584      \n",
            "_________________________________________________________________\n",
            "conv2d_1 (Conv2D)            (None, 220, 220, 128)     147584    \n",
            "_________________________________________________________________\n",
            "max_pooling2d (MaxPooling2D) (None, 110, 110, 128)     0         \n",
            "_________________________________________________________________\n",
            "dropout (Dropout)            (None, 110, 110, 128)     0         \n",
            "_________________________________________________________________\n",
            "conv2d_2 (Conv2D)            (None, 108, 108, 256)     295168    \n",
            "_________________________________________________________________\n",
            "conv2d_3 (Conv2D)            (None, 106, 106, 256)     590080    \n",
            "_________________________________________________________________\n",
            "max_pooling2d_1 (MaxPooling2 (None, 53, 53, 256)       0         \n",
            "_________________________________________________________________\n",
            "dropout_1 (Dropout)          (None, 53, 53, 256)       0         \n",
            "_________________________________________________________________\n",
            "conv2d_4 (Conv2D)            (None, 51, 51, 512)       1180160   \n",
            "_________________________________________________________________\n",
            "conv2d_5 (Conv2D)            (None, 49, 49, 512)       2359808   \n",
            "_________________________________________________________________\n",
            "max_pooling2d_2 (MaxPooling2 (None, 24, 24, 512)       0         \n",
            "_________________________________________________________________\n",
            "dropout_2 (Dropout)          (None, 24, 24, 512)       0         \n",
            "_________________________________________________________________\n",
            "flatten (Flatten)            (None, 294912)            0         \n",
            "_________________________________________________________________\n",
            "dense (Dense)                (None, 1024)              301990912 \n",
            "_________________________________________________________________\n",
            "dense_1 (Dense)              (None, 275)               281875    \n",
            "=================================================================\n",
            "Total params: 306,849,171\n",
            "Trainable params: 306,849,171\n",
            "Non-trainable params: 0\n",
            "_________________________________________________________________\n"
          ],
          "name": "stdout"
        }
      ]
    },
    {
      "cell_type": "code",
      "metadata": {
        "id": "xPh-jQdtzYqF",
        "colab": {
          "base_uri": "https://localhost:8080/",
          "height": 433
        },
        "outputId": "1b817044-7329-4b1f-b615-176316903e53"
      },
      "source": [
        "plot_metrics(nn_model_history)"
      ],
      "execution_count": 22,
      "outputs": [
        {
          "output_type": "display_data",
          "data": {
            "image/png": "[encoded data removed]",
            "text/plain": [
              "<Figure size 1728x1080 with 2 Axes>"
            ]
          },
          "metadata": {
            "tags": [],
            "needs_background": "light"
          }
        }
      ]
    },
    {
      "cell_type": "code",
      "metadata": {
        "jupyter": {
          "outputs_hidden": false
        },
        "pycharm": {
          "name": "#%%\n"
        },
        "id": "QGtVTxNYzYqG"
      },
      "source": [
        "if NOTIFY_STATUS: status_notify('(TensorFlow Multi-Class) Task 3 - Define and Train Models completed on ' + datetime.now().strftime('%A %B %d, %Y %I:%M:%S %p'))"
      ],
      "execution_count": 23,
      "outputs": []
    },
    {
      "cell_type": "markdown",
      "metadata": {
        "id": "bWEbAyjvzYqI"
      },
      "source": [
        "# Task 4 - Evaluate and Optimize Models"
      ]
    },
    {
      "cell_type": "code",
      "metadata": {
        "jupyter": {
          "outputs_hidden": false
        },
        "pycharm": {
          "name": "#%%\n"
        },
        "id": "_8DuSNAtzYqI"
      },
      "source": [
        "if NOTIFY_STATUS: status_notify('(TensorFlow Multi-Class) Task 4 - Evaluate and Optimize Models has begun on ' + datetime.now().strftime('%A %B %d, %Y %I:%M:%S %p'))"
      ],
      "execution_count": 24,
      "outputs": []
    },
    {
      "cell_type": "code",
      "metadata": {
        "id": "79R9HvH-zYqK"
      },
      "source": [
        "# Not applicable for this iteration of modeling"
      ],
      "execution_count": 25,
      "outputs": []
    },
    {
      "cell_type": "code",
      "metadata": {
        "id": "fF1O3KjHzYqO"
      },
      "source": [
        "if NOTIFY_STATUS: status_notify('(TensorFlow Multi-Class) Task 4 - Evaluate and Optimize Models completed on ' + datetime.now().strftime('%A %B %d, %Y %I:%M:%S %p'))"
      ],
      "execution_count": 26,
      "outputs": []
    },
    {
      "cell_type": "markdown",
      "metadata": {
        "id": "MJJTdK-hzYqP"
      },
      "source": [
        "# Task 5 - Finalize Model and Make Predictions"
      ]
    },
    {
      "cell_type": "code",
      "metadata": {
        "id": "PzeqrJJTzYqP"
      },
      "source": [
        "if NOTIFY_STATUS: status_notify('(TensorFlow Multi-Class) Task 5 - Finalize Model and Make Predictions has begun on ' + datetime.now().strftime('%A %B %d, %Y %I:%M:%S %p'))"
      ],
      "execution_count": 27,
      "outputs": []
    },
    {
      "cell_type": "code",
      "metadata": {
        "id": "PZqto6MSfQf0",
        "colab": {
          "base_uri": "https://localhost:8080/"
        },
        "outputId": "4227cd36-e442-4ba2-fe78-cd14e7866c8d"
      },
      "source": [
        "final_model = nn_model_0\n",
        "final_model.summary()"
      ],
      "execution_count": 28,
      "outputs": [
        {
          "output_type": "stream",
          "text": [
            "Model: \"sequential\"\n",
            "_________________________________________________________________\n",
            "Layer (type)                 Output Shape              Param #   \n",
            "=================================================================\n",
            "conv2d (Conv2D)              (None, 222, 222, 128)     3584      \n",
            "_________________________________________________________________\n",
            "conv2d_1 (Conv2D)            (None, 220, 220, 128)     147584    \n",
            "_________________________________________________________________\n",
            "max_pooling2d (MaxPooling2D) (None, 110, 110, 128)     0         \n",
            "_________________________________________________________________\n",
            "dropout (Dropout)            (None, 110, 110, 128)     0         \n",
            "_________________________________________________________________\n",
            "conv2d_2 (Conv2D)            (None, 108, 108, 256)     295168    \n",
            "_________________________________________________________________\n",
            "conv2d_3 (Conv2D)            (None, 106, 106, 256)     590080    \n",
            "_________________________________________________________________\n",
            "max_pooling2d_1 (MaxPooling2 (None, 53, 53, 256)       0         \n",
            "_________________________________________________________________\n",
            "dropout_1 (Dropout)          (None, 53, 53, 256)       0         \n",
            "_________________________________________________________________\n",
            "conv2d_4 (Conv2D)            (None, 51, 51, 512)       1180160   \n",
            "_________________________________________________________________\n",
            "conv2d_5 (Conv2D)            (None, 49, 49, 512)       2359808   \n",
            "_________________________________________________________________\n",
            "max_pooling2d_2 (MaxPooling2 (None, 24, 24, 512)       0         \n",
            "_________________________________________________________________\n",
            "dropout_2 (Dropout)          (None, 24, 24, 512)       0         \n",
            "_________________________________________________________________\n",
            "flatten (Flatten)            (None, 294912)            0         \n",
            "_________________________________________________________________\n",
            "dense (Dense)                (None, 1024)              301990912 \n",
            "_________________________________________________________________\n",
            "dense_1 (Dense)              (None, 275)               281875    \n",
            "=================================================================\n",
            "Total params: 306,849,171\n",
            "Trainable params: 306,849,171\n",
            "Non-trainable params: 0\n",
            "_________________________________________________________________\n"
          ],
          "name": "stdout"
        }
      ]
    },
    {
      "cell_type": "code",
      "metadata": {
        "id": "SEHPWfiAzYqR",
        "colab": {
          "base_uri": "https://localhost:8080/"
        },
        "outputId": "0e69093f-2255-4780-8af6-a3019ac26baf"
      },
      "source": [
        "print('Loading and pre-processing the testing images...')\n",
        "testing_datagen = ImageDataGenerator(**datagen_kwargs)\n",
        "testing_generator = testing_datagen.flow_from_directory(directory=TEST_DIR,\n",
        "                                                        target_size=TARGET_IMAGE_SIZE,\n",
        "                                                        shuffle=False,\n",
        "                                                        **dataflow_kwargs)\n",
        "print('Number of image batches per epoch of modeling:', len(testing_generator))"
      ],
      "execution_count": 29,
      "outputs": [
        {
          "output_type": "stream",
          "text": [
            "Loading and pre-processing the testing images...\n",
            "Found 1375 images belonging to 275 classes.\n",
            "Number of image batches per epoch of modeling: 43\n"
          ],
          "name": "stdout"
        }
      ]
    },
    {
      "cell_type": "code",
      "metadata": {
        "colab": {
          "base_uri": "https://localhost:8080/"
        },
        "id": "NwIwtk3sP6r-",
        "outputId": "d1e2acc2-651d-4eba-b2ed-bfa4805aa9b9"
      },
      "source": [
        "final_model.evaluate(testing_generator, verbose=1)"
      ],
      "execution_count": 30,
      "outputs": [
        {
          "output_type": "stream",
          "text": [
            "43/43 [==============================] - 5s 108ms/step - loss: 1.6464 - accuracy: 0.6924\n"
          ],
          "name": "stdout"
        },
        {
          "output_type": "execute_result",
          "data": {
            "text/plain": [
              "[1.6464226245880127, 0.6923636198043823]"
            ]
          },
          "metadata": {
            "tags": []
          },
          "execution_count": 30
        }
      ]
    },
    {
      "cell_type": "code",
      "metadata": {
        "id": "COGCI66wzYqX"
      },
      "source": [
        "if NOTIFY_STATUS: status_notify('(TensorFlow Multi-Class) Task 5 - Finalize Model and Make Predictions completed on ' + datetime.now().strftime('%A %B %d, %Y %I:%M:%S %p'))"
      ],
      "execution_count": 31,
      "outputs": []
    },
    {
      "cell_type": "code",
      "metadata": {
        "id": "OeNtc6N2zYqZ",
        "colab": {
          "base_uri": "https://localhost:8080/"
        },
        "outputId": "a07e4a09-4f3d-40df-aa05-23b566329f4b"
      },
      "source": [
        "print ('Total time for the script:',(datetime.now() - start_time_script))"
      ],
      "execution_count": 32,
      "outputs": [
        {
          "output_type": "stream",
          "text": [
            "Total time for the script: 7:45:24.327219\n"
          ],
          "name": "stdout"
        }
      ]
    }
  ]
}