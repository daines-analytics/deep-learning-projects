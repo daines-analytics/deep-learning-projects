{
  "nbformat": 4,
  "nbformat_minor": 0,
  "metadata": {
    "kernelspec": {
      "display_name": "Python 3",
      "language": "python",
      "name": "python3"
    },
    "language_info": {
      "codemirror_mode": {
        "name": "ipython",
        "version": 3
      },
      "file_extension": ".py",
      "mimetype": "text/x-python",
      "name": "python",
      "nbconvert_exporter": "python",
      "pygments_lexer": "ipython3",
      "version": "3.7.9"
    },
    "colab": {
      "name": "py_tensorflow_multiclass_275_bird_species_take4.ipynb",
      "provenance": [],
      "collapsed_sections": []
    },
    "accelerator": "GPU"
  },
  "cells": [
    {
      "cell_type": "markdown",
      "metadata": {
        "id": "wm7TgCNRzYpJ"
      },
      "source": [
        "# Multi-Class Image Classification Deep Learning Model for Kaggle 275 Bird Species Using TensorFlow Take 4\n",
        "### David Lowe\n",
        "### June 28, 2021\n",
        "\n",
        "Template Credit: Adapted from a template made available by Dr. Jason Brownlee of Machine Learning Mastery. [https://machinelearningmastery.com/]\n",
        "\n",
        "SUMMARY: This project aims to construct a predictive model using a TensorFlow convolutional neural network (CNN) and document the end-to-end steps using a template. The Kaggle 275 Bird Species dataset is a multi-class classification situation where we attempt to predict one of several (for this dataset 275) possible outcomes.\n",
        "\n",
        "INTRODUCTION: This dataset contains 275 bird species with 39364 training images, 1375 test images(5 per species), and 1375 validation images(5 per species. All images have a resolution of 224 X 224 X 3 color images in the jpg format. Each dataset includes 275 subdirectories, one for each bird species.\n",
        "\n",
        "From iteration Take1, we constructed a simple three-layer CNN model to predict the species for the image.\n",
        "\n",
        "From iteration Take2, we constructed a CNN model based on the InceptionV3 architecture to predict the species for the image.\n",
        "\n",
        "From iteration Take3, we constructed a CNN model based on the VGG19 architecture to predict the species for the image.\n",
        "\n",
        "In this Take4 iteration, we will construct a CNN model based on the ResNet152V2 architecture to predict the species for the image.\n",
        "\n",
        "ANALYSIS: From iteration Take1, the simple three-layer CNN model's performance achieved an accuracy score of 68.87% after 50 epochs using the validation dataset. The same model processed the test dataset with an accuracy score of 69.24%.\n",
        "\n",
        "From iteration Take2, the InceptionV3 model's performance achieved an accuracy score of 96.51% after 20 epochs using the validation dataset. The same model processed the test dataset with an accuracy score of 97.53%.\n",
        "\n",
        "From iteration Take3, the VGG19 model's performance achieved an accuracy score of 91.27% after 20 epochs using the validation dataset. The same model processed the test dataset with an accuracy score of 94.84%.\n",
        "\n",
        "In this Take4 iteration, the ResNet152V2 model's performance achieved an accuracy score of 97.96% after 20 epochs using the validation dataset. The same model processed the test dataset with an accuracy score of 97.60%.\n",
        "\n",
        "CONCLUSION: In this iteration, the ResNet152V2-based CNN model appeared to be suitable for modeling this dataset. We should consider experimenting with TensorFlow for further modeling.\n",
        "\n",
        "Dataset Used: Kaggle 275 Bird Species dataset\n",
        "\n",
        "Dataset ML Model: Multi-class image classification with numerical attributes\n",
        "\n",
        "Dataset Reference: https://www.kaggle.com/gpiosenka/100-bird-species\n",
        "\n",
        "One potential source of performance benchmarks: https://www.kaggle.com/gpiosenka/100-bird-species\n",
        "\n",
        "A deep-learning image classification project generally can be broken down into five major tasks:\n",
        "\n",
        "1. Prepare Environment\n",
        "2. Load and Prepare Images\n",
        "3. Define and Train Models\n",
        "4. Evaluate and Optimize Models\n",
        "5. Finalize Model and Make Predictions"
      ]
    },
    {
      "cell_type": "markdown",
      "metadata": {
        "id": "yjz77tzczYpL"
      },
      "source": [
        "# Task 1 - Prepare Environment"
      ]
    },
    {
      "cell_type": "code",
      "metadata": {
        "id": "yymMW8D4zYpM"
      },
      "source": [
        "# Install the packages to support accessing environment variable and SQL databases\n",
        "# !pip install python-dotenv PyMySQL boto3"
      ],
      "execution_count": 1,
      "outputs": []
    },
    {
      "cell_type": "code",
      "metadata": {
        "id": "WTBLbPj6zYpP",
        "colab": {
          "base_uri": "https://localhost:8080/"
        },
        "outputId": "48c570b4-31f2-4640-b15f-f18e086b2ad9"
      },
      "source": [
        "# Retrieve GPU configuration information from Colab\n",
        "gpu_info = !nvidia-smi\n",
        "gpu_info = '\\n'.join(gpu_info)\n",
        "if gpu_info.find('failed') >= 0:\n",
        "    print('Select the Runtime → \"Change runtime type\" menu to enable a GPU accelerator, ')\n",
        "    print('and then re-execute this cell.')\n",
        "else:\n",
        "    print(gpu_info)"
      ],
      "execution_count": 2,
      "outputs": [
        {
          "output_type": "stream",
          "text": [
            "Wed Jun 23 13:33:24 2021       \n",
            "+-----------------------------------------------------------------------------+\n",
            "| NVIDIA-SMI 465.27       Driver Version: 460.32.03    CUDA Version: 11.2     |\n",
            "|-------------------------------+----------------------+----------------------+\n",
            "| GPU  Name        Persistence-M| Bus-Id        Disp.A | Volatile Uncorr. ECC |\n",
            "| Fan  Temp  Perf  Pwr:Usage/Cap|         Memory-Usage | GPU-Util  Compute M. |\n",
            "|                               |                      |               MIG M. |\n",
            "|===============================+======================+======================|\n",
            "|   0  Tesla P100-PCIE...  Off  | 00000000:00:04.0 Off |                    0 |\n",
            "| N/A   36C    P0    26W / 250W |      0MiB / 16280MiB |      0%      Default |\n",
            "|                               |                      |                  N/A |\n",
            "+-------------------------------+----------------------+----------------------+\n",
            "                                                                               \n",
            "+-----------------------------------------------------------------------------+\n",
            "| Processes:                                                                  |\n",
            "|  GPU   GI   CI        PID   Type   Process name                  GPU Memory |\n",
            "|        ID   ID                                                   Usage      |\n",
            "|=============================================================================|\n",
            "|  No running processes found                                                 |\n",
            "+-----------------------------------------------------------------------------+\n"
          ],
          "name": "stdout"
        }
      ]
    },
    {
      "cell_type": "code",
      "metadata": {
        "id": "NPBJM3QLzYpR",
        "colab": {
          "base_uri": "https://localhost:8080/"
        },
        "outputId": "4ba5aa54-8b78-4c32-bb86-4181ce0b4cd7"
      },
      "source": [
        "# Retrieve memory configuration information from Colab\n",
        "from psutil import virtual_memory\n",
        "ram_gb = virtual_memory().total / 1e9\n",
        "print('Your runtime has {:.1f} gigabytes of available RAM\\n'.format(ram_gb))\n",
        "\n",
        "if ram_gb < 20:\n",
        "    print('To enable a high-RAM runtime, select the Runtime → \"Change runtime type\"')\n",
        "    print('menu, and then select High-RAM in the Runtime shape dropdown. Then, ')\n",
        "    print('re-execute this cell.')\n",
        "else:\n",
        "    print('You are using a high-RAM runtime!')"
      ],
      "execution_count": 3,
      "outputs": [
        {
          "output_type": "stream",
          "text": [
            "Your runtime has 13.6 gigabytes of available RAM\n",
            "\n",
            "To enable a high-RAM runtime, select the Runtime → \"Change runtime type\"\n",
            "menu, and then select High-RAM in the Runtime shape dropdown. Then, \n",
            "re-execute this cell.\n"
          ],
          "name": "stdout"
        }
      ]
    },
    {
      "cell_type": "code",
      "metadata": {
        "id": "Rt62MLGBzYpV",
        "colab": {
          "base_uri": "https://localhost:8080/"
        },
        "outputId": "69d0ae2b-d0be-42ec-dbc3-d4744ca0090a"
      },
      "source": [
        "# Retrieve CPU information from the system\n",
        "ncpu = !nproc\n",
        "print(\"The number of available CPUs is:\", ncpu[0])"
      ],
      "execution_count": 4,
      "outputs": [
        {
          "output_type": "stream",
          "text": [
            "The number of available CPUs is: 2\n"
          ],
          "name": "stdout"
        }
      ]
    },
    {
      "cell_type": "markdown",
      "metadata": {
        "id": "JU6CoUSHzYpX"
      },
      "source": [
        "## 1.a) Load libraries and modules"
      ]
    },
    {
      "cell_type": "code",
      "metadata": {
        "id": "5vLXzBGlzYpX"
      },
      "source": [
        "# Set the random seed number for reproducible results\n",
        "RNG_SEED = 888"
      ],
      "execution_count": 5,
      "outputs": []
    },
    {
      "cell_type": "code",
      "metadata": {
        "id": "7OPrZkvnzYpZ"
      },
      "source": [
        "# Load libraries and packages\n",
        "import random\n",
        "import numpy as np\n",
        "import pandas as pd\n",
        "import matplotlib.pyplot as plt\n",
        "import matplotlib.image as mpimg\n",
        "import os\n",
        "import sys\n",
        "from datetime import datetime\n",
        "import zipfile\n",
        "import h5py\n",
        "# import boto3\n",
        "# from dotenv import load_dotenv\n",
        "from sklearn import preprocessing\n",
        "from sklearn.model_selection import train_test_split\n",
        "from sklearn.metrics import accuracy_score\n",
        "from sklearn.metrics import confusion_matrix\n",
        "from sklearn.metrics import classification_report\n",
        "import tensorflow as tf\n",
        "from tensorflow import keras\n",
        "from tensorflow.keras.preprocessing.image import ImageDataGenerator\n",
        "from tensorflow.keras.callbacks import ReduceLROnPlateau"
      ],
      "execution_count": 6,
      "outputs": []
    },
    {
      "cell_type": "markdown",
      "metadata": {
        "id": "j_DlsgItzYpb"
      },
      "source": [
        "## 1.b) Set up the controlling parameters and functions"
      ]
    },
    {
      "cell_type": "code",
      "metadata": {
        "id": "YidrXfyszYpc",
        "colab": {
          "base_uri": "https://localhost:8080/"
        },
        "outputId": "9262d15b-a441-46e6-f4bf-c2ccdf4bd386"
      },
      "source": [
        "# Begin the timer for the script processing\n",
        "start_time_script = datetime.now()\n",
        "\n",
        "# Set up the number of CPU cores available for multi-thread processing\n",
        "N_JOBS = 1\n",
        "\n",
        "# Set up the flag to stop sending progress emails (setting to True will send status emails!)\n",
        "NOTIFY_STATUS = False\n",
        "\n",
        "# Set the percentage sizes for splitting the dataset\n",
        "# VAL_SET_RATIO = 0.3\n",
        "# TEST_SET_RATIO = 0.5\n",
        "\n",
        "# Set various default modeling parameters\n",
        "DEFAULT_LOSS = 'categorical_crossentropy'\n",
        "DEFAULT_METRICS = ['accuracy']\n",
        "DEFAULT_OPTIMIZER = tf.keras.optimizers.Adam(learning_rate=0.00001)\n",
        "DEFAULT_INITIALIZER = tf.keras.initializers.RandomNormal(seed=RNG_SEED)\n",
        "CLASSIFIER_ACTIVATION = 'softmax'\n",
        "MAX_EPOCHS = 20\n",
        "BATCH_SIZE = 32\n",
        "RAW_IMAGE_SIZE = (224, 224)\n",
        "TARGET_IMAGE_SIZE = (224, 224)\n",
        "INPUT_IMAGE_SHAPE = (TARGET_IMAGE_SIZE[0], TARGET_IMAGE_SIZE[1], 3)\n",
        "\n",
        "NUM_CLASSES = 275\n",
        "# CLASS_LABELS = []\n",
        "# CLASS_NAMES = []\n",
        "\n",
        "# Define the labels to use for graphing the data\n",
        "train_metric = \"accuracy\"\n",
        "validation_metric = \"val_accuracy\"\n",
        "train_loss = \"loss\"\n",
        "validation_loss = \"val_loss\"\n",
        "\n",
        "# Define the directory locations and file names\n",
        "STAGING_DIR = 'staging/'\n",
        "TRAIN_DIR = 'staging/train/'\n",
        "VALID_DIR = 'staging/valid/'\n",
        "TEST_DIR = 'staging/test/'\n",
        "# TRAIN_DATASET = ''\n",
        "# VALID_DATASET = ''\n",
        "# TEST_DATASET = ''\n",
        "# TRAIN_LABELS = ''\n",
        "# VALID_LABELS = ''\n",
        "# TEST_LABELS = ''\n",
        "# OUTPUT_DIR = 'staging/'\n",
        "# SAMPLE_SUBMISSION_CSV = 'sample_submission.csv'\n",
        "# FINAL_SUBMISSION_CSV = 'submission.csv'\n",
        "\n",
        "# Check the number of GPUs accessible through TensorFlow\n",
        "print('Num GPUs Available:', len(tf.config.list_physical_devices('GPU')))\n",
        "\n",
        "# Print out the TensorFlow version for confirmation\n",
        "print('TensorFlow version:', tf.__version__)"
      ],
      "execution_count": 7,
      "outputs": [
        {
          "output_type": "stream",
          "text": [
            "Num GPUs Available: 1\n",
            "TensorFlow version: 2.5.0\n"
          ],
          "name": "stdout"
        }
      ]
    },
    {
      "cell_type": "code",
      "metadata": {
        "id": "W-a57IMqzYph"
      },
      "source": [
        "# Set up the email notification function\n",
        "def status_notify(msg_text):\n",
        "    access_key = os.environ.get('SNS_ACCESS_KEY')\n",
        "    secret_key = os.environ.get('SNS_SECRET_KEY')\n",
        "    aws_region = os.environ.get('SNS_AWS_REGION')\n",
        "    topic_arn = os.environ.get('SNS_TOPIC_ARN')\n",
        "    if (access_key is None) or (secret_key is None) or (aws_region is None):\n",
        "        sys.exit(\"Incomplete notification setup info. Script Processing Aborted!!!\")\n",
        "    sns = boto3.client('sns', aws_access_key_id=access_key, aws_secret_access_key=secret_key, region_name=aws_region)\n",
        "    response = sns.publish(TopicArn=topic_arn, Message=msg_text)\n",
        "    if response['ResponseMetadata']['HTTPStatusCode'] != 200 :\n",
        "        print('Status notification not OK with HTTP status code:', response['ResponseMetadata']['HTTPStatusCode'])"
      ],
      "execution_count": 8,
      "outputs": []
    },
    {
      "cell_type": "code",
      "metadata": {
        "id": "gCnz7I5wzYpi"
      },
      "source": [
        "if NOTIFY_STATUS: status_notify('(TensorFlow Multi-Class) Task 1 - Prepare Environment has begun on ' + datetime.now().strftime('%A %B %d, %Y %I:%M:%S %p'))"
      ],
      "execution_count": 9,
      "outputs": []
    },
    {
      "cell_type": "code",
      "metadata": {
        "id": "-b-SwoTszYpk"
      },
      "source": [
        "# Reset the random number generators\n",
        "def reset_random(x=RNG_SEED):\n",
        "    random.seed(x)\n",
        "    np.random.seed(x)\n",
        "    tf.random.set_seed(x)"
      ],
      "execution_count": 10,
      "outputs": []
    },
    {
      "cell_type": "code",
      "metadata": {
        "jupyter": {
          "outputs_hidden": false
        },
        "pycharm": {
          "name": "#%%\n"
        },
        "id": "TkZYm2ZmzYpl"
      },
      "source": [
        "if NOTIFY_STATUS: status_notify('(TensorFlow Multi-Class) Task 1 - Prepare Environment completed on ' + datetime.now().strftime('%A %B %d, %Y %I:%M:%S %p'))"
      ],
      "execution_count": 11,
      "outputs": []
    },
    {
      "cell_type": "markdown",
      "metadata": {
        "pycharm": {
          "name": "#%% md\n"
        },
        "id": "CMKAG-YIzYpn"
      },
      "source": [
        "# Task 2 - Load and Prepare Images"
      ]
    },
    {
      "cell_type": "code",
      "metadata": {
        "jupyter": {
          "outputs_hidden": false
        },
        "pycharm": {
          "name": "#%%\n"
        },
        "id": "xHtS66j4zYpo"
      },
      "source": [
        "if NOTIFY_STATUS: status_notify('(TensorFlow Multi-Class) Task 2 - Load and Prepare Images has begun on ' + datetime.now().strftime('%A %B %d, %Y %I:%M:%S %p'))"
      ],
      "execution_count": 12,
      "outputs": []
    },
    {
      "cell_type": "code",
      "metadata": {
        "id": "iI1RPsfzzYpr",
        "colab": {
          "base_uri": "https://localhost:8080/"
        },
        "outputId": "209fc4da-2755-483c-8fb4-a82040a84f03"
      },
      "source": [
        "!rm -rf staging/\n",
        "!mkdir staging/\n",
        "!rm archive.zip\n",
        "!wget https://dainesanalytics.com/datasets/kaggle-275-bird-species/archive.zip"
      ],
      "execution_count": 13,
      "outputs": [
        {
          "output_type": "stream",
          "text": [
            "rm: cannot remove 'archive.zip': No such file or directory\n",
            "--2021-06-23 13:33:27--  https://dainesanalytics.com/datasets/kaggle-275-bird-species/archive.zip\n",
            "Resolving dainesanalytics.com (dainesanalytics.com)... 13.224.7.9, 13.224.7.94, 13.224.7.13, ...\n",
            "Connecting to dainesanalytics.com (dainesanalytics.com)|13.224.7.9|:443... connected.\n",
            "HTTP request sent, awaiting response... 200 OK\n",
            "Length: 932563464 (889M) [application/zip]\n",
            "Saving to: ‘archive.zip’\n",
            "\n",
            "archive.zip         100%[===================>] 889.36M  47.0MB/s    in 19s     \n",
            "\n",
            "2021-06-23 13:33:47 (45.7 MB/s) - ‘archive.zip’ saved [932563464/932563464]\n",
            "\n"
          ],
          "name": "stdout"
        }
      ]
    },
    {
      "cell_type": "code",
      "metadata": {
        "id": "oFS8xhMSZn-m"
      },
      "source": [
        "dataset_zip = 'archive.zip'\n",
        "zip_ref = zipfile.ZipFile(dataset_zip, 'r')\n",
        "zip_ref.extractall(STAGING_DIR)\n",
        "zip_ref.close()"
      ],
      "execution_count": 14,
      "outputs": []
    },
    {
      "cell_type": "code",
      "metadata": {
        "colab": {
          "base_uri": "https://localhost:8080/"
        },
        "id": "oTDVdDpybkPn",
        "outputId": "9f93fd49-e7e6-4fff-bc89-ff87d88e1ccb"
      },
      "source": [
        "datagen_kwargs = dict(rescale=1./255)\n",
        "training_datagen = ImageDataGenerator(**datagen_kwargs)\n",
        "validation_datagen = ImageDataGenerator(**datagen_kwargs)\n",
        "dataflow_kwargs = dict(class_mode=\"categorical\")\n",
        "\n",
        "do_data_augmentation = True\n",
        "if do_data_augmentation:\n",
        "    training_datagen = ImageDataGenerator(rotation_range=90,\n",
        "                                          horizontal_flip=True,\n",
        "                                          vertical_flip=True,\n",
        "                                          **datagen_kwargs)\n",
        "\n",
        "print('Loading and pre-processing the training images...')\n",
        "training_generator = training_datagen.flow_from_directory(directory=TRAIN_DIR,\n",
        "                                                          target_size=TARGET_IMAGE_SIZE,\n",
        "                                                          shuffle=True,\n",
        "                                                          seed=RNG_SEED,\n",
        "                                                          **dataflow_kwargs)\n",
        "print('Number of image batches per epoch of modeling:', len(training_generator))\n",
        "\n",
        "print('Loading and pre-processing the validation images...')\n",
        "validation_generator = validation_datagen.flow_from_directory(directory=VALID_DIR,\n",
        "                                                              target_size=TARGET_IMAGE_SIZE,\n",
        "                                                              shuffle=False,\n",
        "                                                              **dataflow_kwargs)\n",
        "print('Number of image batches per epoch of modeling:', len(validation_generator))"
      ],
      "execution_count": 15,
      "outputs": [
        {
          "output_type": "stream",
          "text": [
            "Loading and pre-processing the training images...\n",
            "Found 39364 images belonging to 275 classes.\n",
            "Number of image batches per epoch of modeling: 1231\n",
            "Loading and pre-processing the validation images...\n",
            "Found 1375 images belonging to 275 classes.\n",
            "Number of image batches per epoch of modeling: 43\n"
          ],
          "name": "stdout"
        }
      ]
    },
    {
      "cell_type": "code",
      "metadata": {
        "id": "_C7U2LGuzYp7"
      },
      "source": [
        "if NOTIFY_STATUS: status_notify('(TensorFlow Multi-Class) Task 2 - Load and Prepare Images completed on ' + datetime.now().strftime('%A %B %d, %Y %I:%M:%S %p'))"
      ],
      "execution_count": 16,
      "outputs": []
    },
    {
      "cell_type": "markdown",
      "metadata": {
        "id": "Q1zN_4yTzYp8"
      },
      "source": [
        "# Task 3 - Define and Train Models"
      ]
    },
    {
      "cell_type": "code",
      "metadata": {
        "id": "Do8vW0SIzYp9"
      },
      "source": [
        "if NOTIFY_STATUS: status_notify('(TensorFlow Multi-Class) Task 3 - Define and Train Models has begun on ' + datetime.now().strftime('%A %B %d, %Y %I:%M:%S %p'))"
      ],
      "execution_count": 17,
      "outputs": []
    },
    {
      "cell_type": "code",
      "metadata": {
        "id": "TxzTYyrwzYp-"
      },
      "source": [
        "# Define the function for plotting training results for comparison\n",
        "def plot_metrics(history):\n",
        "    fig, axs = plt.subplots(1, 2, figsize=(24, 15))\n",
        "    metrics =  [train_loss, train_metric]\n",
        "    for n, metric in enumerate(metrics):\n",
        "        name = metric.replace(\"_\",\" \").capitalize()\n",
        "        plt.subplot(2,2,n+1)\n",
        "        plt.plot(history.epoch, history.history[metric], color='blue', label='Train')\n",
        "        plt.plot(history.epoch, history.history['val_'+metric], color='red', linestyle=\"--\", label='Val')\n",
        "        plt.xlabel('Epoch')\n",
        "        plt.ylabel(name)\n",
        "        if metric == train_loss:\n",
        "            plt.ylim([0, plt.ylim()[1]])\n",
        "        else:\n",
        "            plt.ylim([0.5, 1.1])\n",
        "        plt.legend()"
      ],
      "execution_count": 18,
      "outputs": []
    },
    {
      "cell_type": "code",
      "metadata": {
        "id": "M2nXRu9mzYqA"
      },
      "source": [
        "# Define the baseline model for benchmarking\n",
        "def create_nn_model(input_param=INPUT_IMAGE_SHAPE, output_param=NUM_CLASSES, classifier_activation=CLASSIFIER_ACTIVATION,\n",
        "                    loss_param=DEFAULT_LOSS, opt_param=DEFAULT_OPTIMIZER, metrics_param=DEFAULT_METRICS):\n",
        "    base_model = keras.applications.resnet_v2.ResNet152V2(include_top=False, weights='imagenet', input_shape=input_param, pooling='avg')\n",
        "    nn_model = keras.models.Sequential()\n",
        "    nn_model.add(base_model)\n",
        "    nn_model.add(keras.layers.Flatten())\n",
        "    nn_model.add(keras.layers.Dense(output_param, activation=classifier_activation))\n",
        "    nn_model.compile(loss=loss_param, optimizer=opt_param, metrics=metrics_param)\n",
        "    return nn_model"
      ],
      "execution_count": 19,
      "outputs": []
    },
    {
      "cell_type": "code",
      "metadata": {
        "id": "OcVElo2TzYqC",
        "colab": {
          "base_uri": "https://localhost:8080/"
        },
        "outputId": "b33d28e2-c56d-4765-a299-155c66f11a47"
      },
      "source": [
        "# Initialize the neural network model and get the training results for plotting graph\n",
        "start_time_module = datetime.now()\n",
        "# learning_rate_reduction = ReduceLROnPlateau(monitor='val_accuracy', patience = 3, verbose=1, factor=0.5, min_lr=0.000001)\n",
        "reset_random()\n",
        "nn_model_0 = create_nn_model()\n",
        "nn_model_history = nn_model_0.fit(training_generator,\n",
        "                                  epochs=MAX_EPOCHS,\n",
        "                                  validation_data=validation_generator,\n",
        "                                #   callbacks=[learning_rate_reduction],\n",
        "                                  verbose=1)\n",
        "print('Total time for model fitting:', (datetime.now() - start_time_module))"
      ],
      "execution_count": 20,
      "outputs": [
        {
          "output_type": "stream",
          "text": [
            "Downloading data from https://storage.googleapis.com/tensorflow/keras-applications/resnet/resnet152v2_weights_tf_dim_ordering_tf_kernels_notop.h5\n",
            "234553344/234545216 [==============================] - 3s 0us/step\n",
            "Epoch 1/20\n",
            "1231/1231 [==============================] - 588s 454ms/step - loss: 4.6143 - accuracy: 0.1634 - val_loss: 2.3773 - val_accuracy: 0.5418\n",
            "Epoch 2/20\n",
            "1231/1231 [==============================] - 553s 449ms/step - loss: 2.0776 - accuracy: 0.6076 - val_loss: 0.9467 - val_accuracy: 0.8233\n",
            "Epoch 3/20\n",
            "1231/1231 [==============================] - 560s 455ms/step - loss: 1.1254 - accuracy: 0.7749 - val_loss: 0.4943 - val_accuracy: 0.9025\n",
            "Epoch 4/20\n",
            "1231/1231 [==============================] - 559s 454ms/step - loss: 0.7590 - accuracy: 0.8385 - val_loss: 0.3394 - val_accuracy: 0.9316\n",
            "Epoch 5/20\n",
            "1231/1231 [==============================] - 553s 449ms/step - loss: 0.5698 - accuracy: 0.8750 - val_loss: 0.2325 - val_accuracy: 0.9505\n",
            "Epoch 6/20\n",
            "1231/1231 [==============================] - 549s 446ms/step - loss: 0.4476 - accuracy: 0.8996 - val_loss: 0.1941 - val_accuracy: 0.9585\n",
            "Epoch 7/20\n",
            "1231/1231 [==============================] - 547s 445ms/step - loss: 0.3691 - accuracy: 0.9144 - val_loss: 0.1673 - val_accuracy: 0.9585\n",
            "Epoch 8/20\n",
            "1231/1231 [==============================] - 547s 444ms/step - loss: 0.3011 - accuracy: 0.9306 - val_loss: 0.1423 - val_accuracy: 0.9644\n",
            "Epoch 9/20\n",
            "1231/1231 [==============================] - 547s 444ms/step - loss: 0.2565 - accuracy: 0.9411 - val_loss: 0.1273 - val_accuracy: 0.9680\n",
            "Epoch 10/20\n",
            "1231/1231 [==============================] - 547s 444ms/step - loss: 0.2208 - accuracy: 0.9489 - val_loss: 0.1241 - val_accuracy: 0.9651\n",
            "Epoch 11/20\n",
            "1231/1231 [==============================] - 546s 444ms/step - loss: 0.1881 - accuracy: 0.9552 - val_loss: 0.1140 - val_accuracy: 0.9695\n",
            "Epoch 12/20\n",
            "1231/1231 [==============================] - 546s 444ms/step - loss: 0.1648 - accuracy: 0.9613 - val_loss: 0.0975 - val_accuracy: 0.9702\n",
            "Epoch 13/20\n",
            "1231/1231 [==============================] - 547s 444ms/step - loss: 0.1415 - accuracy: 0.9665 - val_loss: 0.0939 - val_accuracy: 0.9724\n",
            "Epoch 14/20\n",
            "1231/1231 [==============================] - 547s 444ms/step - loss: 0.1249 - accuracy: 0.9709 - val_loss: 0.0894 - val_accuracy: 0.9738\n",
            "Epoch 15/20\n",
            "1231/1231 [==============================] - 547s 444ms/step - loss: 0.1126 - accuracy: 0.9727 - val_loss: 0.0960 - val_accuracy: 0.9702\n",
            "Epoch 16/20\n",
            "1231/1231 [==============================] - 547s 444ms/step - loss: 0.0991 - accuracy: 0.9767 - val_loss: 0.0949 - val_accuracy: 0.9745\n",
            "Epoch 17/20\n",
            "1231/1231 [==============================] - 547s 444ms/step - loss: 0.0900 - accuracy: 0.9786 - val_loss: 0.0932 - val_accuracy: 0.9716\n",
            "Epoch 18/20\n",
            "1231/1231 [==============================] - 547s 444ms/step - loss: 0.0798 - accuracy: 0.9809 - val_loss: 0.0926 - val_accuracy: 0.9745\n",
            "Epoch 19/20\n",
            "1231/1231 [==============================] - 547s 444ms/step - loss: 0.0707 - accuracy: 0.9839 - val_loss: 0.0800 - val_accuracy: 0.9782\n",
            "Epoch 20/20\n",
            "1231/1231 [==============================] - 546s 444ms/step - loss: 0.0650 - accuracy: 0.9843 - val_loss: 0.0860 - val_accuracy: 0.9796\n",
            "Total time for model fitting: 3:04:00.612284\n"
          ],
          "name": "stdout"
        }
      ]
    },
    {
      "cell_type": "code",
      "metadata": {
        "id": "B3TrVKk4zYqE",
        "colab": {
          "base_uri": "https://localhost:8080/"
        },
        "outputId": "ae243374-774c-4443-c841-a89d4e847403"
      },
      "source": [
        "nn_model_0.summary()"
      ],
      "execution_count": 21,
      "outputs": [
        {
          "output_type": "stream",
          "text": [
            "Model: \"sequential\"\n",
            "_________________________________________________________________\n",
            "Layer (type)                 Output Shape              Param #   \n",
            "=================================================================\n",
            "resnet152v2 (Functional)     (None, 2048)              58331648  \n",
            "_________________________________________________________________\n",
            "flatten (Flatten)            (None, 2048)              0         \n",
            "_________________________________________________________________\n",
            "dense (Dense)                (None, 275)               563475    \n",
            "=================================================================\n",
            "Total params: 58,895,123\n",
            "Trainable params: 58,751,379\n",
            "Non-trainable params: 143,744\n",
            "_________________________________________________________________\n"
          ],
          "name": "stdout"
        }
      ]
    },
    {
      "cell_type": "code",
      "metadata": {
        "id": "xPh-jQdtzYqF",
        "colab": {
          "base_uri": "https://localhost:8080/",
          "height": 437
        },
        "outputId": "9bad0e62-0e9f-4d97-b0c7-e3a9fc71eee4"
      },
      "source": [
        "plot_metrics(nn_model_history)"
      ],
      "execution_count": 22,
      "outputs": [
        {
          "output_type": "display_data",
          "data": {
            "image/png": "[encoded data removed]",
            "text/plain": [
              "<Figure size 1728x1080 with 2 Axes>"
            ]
          },
          "metadata": {
            "tags": [],
            "needs_background": "light"
          }
        }
      ]
    },
    {
      "cell_type": "code",
      "metadata": {
        "jupyter": {
          "outputs_hidden": false
        },
        "pycharm": {
          "name": "#%%\n"
        },
        "id": "QGtVTxNYzYqG"
      },
      "source": [
        "if NOTIFY_STATUS: status_notify('(TensorFlow Multi-Class) Task 3 - Define and Train Models completed on ' + datetime.now().strftime('%A %B %d, %Y %I:%M:%S %p'))"
      ],
      "execution_count": 23,
      "outputs": []
    },
    {
      "cell_type": "markdown",
      "metadata": {
        "id": "bWEbAyjvzYqI"
      },
      "source": [
        "# Task 4 - Evaluate and Optimize Models"
      ]
    },
    {
      "cell_type": "code",
      "metadata": {
        "jupyter": {
          "outputs_hidden": false
        },
        "pycharm": {
          "name": "#%%\n"
        },
        "id": "_8DuSNAtzYqI"
      },
      "source": [
        "if NOTIFY_STATUS: status_notify('(TensorFlow Multi-Class) Task 4 - Evaluate and Optimize Models has begun on ' + datetime.now().strftime('%A %B %d, %Y %I:%M:%S %p'))"
      ],
      "execution_count": 24,
      "outputs": []
    },
    {
      "cell_type": "code",
      "metadata": {
        "id": "79R9HvH-zYqK"
      },
      "source": [
        "# Not applicable for this iteration of modeling"
      ],
      "execution_count": 25,
      "outputs": []
    },
    {
      "cell_type": "code",
      "metadata": {
        "id": "fF1O3KjHzYqO"
      },
      "source": [
        "if NOTIFY_STATUS: status_notify('(TensorFlow Multi-Class) Task 4 - Evaluate and Optimize Models completed on ' + datetime.now().strftime('%A %B %d, %Y %I:%M:%S %p'))"
      ],
      "execution_count": 26,
      "outputs": []
    },
    {
      "cell_type": "markdown",
      "metadata": {
        "id": "MJJTdK-hzYqP"
      },
      "source": [
        "# Task 5 - Finalize Model and Make Predictions"
      ]
    },
    {
      "cell_type": "code",
      "metadata": {
        "id": "PzeqrJJTzYqP"
      },
      "source": [
        "if NOTIFY_STATUS: status_notify('(TensorFlow Multi-Class) Task 5 - Finalize Model and Make Predictions has begun on ' + datetime.now().strftime('%A %B %d, %Y %I:%M:%S %p'))"
      ],
      "execution_count": 27,
      "outputs": []
    },
    {
      "cell_type": "code",
      "metadata": {
        "id": "PZqto6MSfQf0",
        "colab": {
          "base_uri": "https://localhost:8080/"
        },
        "outputId": "d1bdc440-c7a4-436b-cf6c-e20706c569d3"
      },
      "source": [
        "final_model = nn_model_0\n",
        "final_model.summary()"
      ],
      "execution_count": 28,
      "outputs": [
        {
          "output_type": "stream",
          "text": [
            "Model: \"sequential\"\n",
            "_________________________________________________________________\n",
            "Layer (type)                 Output Shape              Param #   \n",
            "=================================================================\n",
            "resnet152v2 (Functional)     (None, 2048)              58331648  \n",
            "_________________________________________________________________\n",
            "flatten (Flatten)            (None, 2048)              0         \n",
            "_________________________________________________________________\n",
            "dense (Dense)                (None, 275)               563475    \n",
            "=================================================================\n",
            "Total params: 58,895,123\n",
            "Trainable params: 58,751,379\n",
            "Non-trainable params: 143,744\n",
            "_________________________________________________________________\n"
          ],
          "name": "stdout"
        }
      ]
    },
    {
      "cell_type": "code",
      "metadata": {
        "id": "SEHPWfiAzYqR",
        "colab": {
          "base_uri": "https://localhost:8080/"
        },
        "outputId": "c9252d5e-af82-4960-f3cb-e5804e53e131"
      },
      "source": [
        "print('Loading and pre-processing the testing images...')\n",
        "testing_datagen = ImageDataGenerator(**datagen_kwargs)\n",
        "testing_generator = testing_datagen.flow_from_directory(directory=TEST_DIR,\n",
        "                                                        target_size=TARGET_IMAGE_SIZE,\n",
        "                                                        shuffle=False,\n",
        "                                                        **dataflow_kwargs)\n",
        "print('Number of image batches per epoch of modeling:', len(testing_generator))"
      ],
      "execution_count": 29,
      "outputs": [
        {
          "output_type": "stream",
          "text": [
            "Loading and pre-processing the testing images...\n",
            "Found 1375 images belonging to 275 classes.\n",
            "Number of image batches per epoch of modeling: 43\n"
          ],
          "name": "stdout"
        }
      ]
    },
    {
      "cell_type": "code",
      "metadata": {
        "colab": {
          "base_uri": "https://localhost:8080/"
        },
        "id": "NwIwtk3sP6r-",
        "outputId": "c583c68b-7fce-47eb-ea12-f825fe0c51b5"
      },
      "source": [
        "final_model.evaluate(testing_generator, verbose=1)"
      ],
      "execution_count": 30,
      "outputs": [
        {
          "output_type": "stream",
          "text": [
            "43/43 [==============================] - 6s 134ms/step - loss: 0.0801 - accuracy: 0.9760\n"
          ],
          "name": "stdout"
        },
        {
          "output_type": "execute_result",
          "data": {
            "text/plain": [
              "[0.0800972729921341, 0.9760000109672546]"
            ]
          },
          "metadata": {
            "tags": []
          },
          "execution_count": 30
        }
      ]
    },
    {
      "cell_type": "code",
      "metadata": {
        "id": "COGCI66wzYqX"
      },
      "source": [
        "if NOTIFY_STATUS: status_notify('(TensorFlow Multi-Class) Task 5 - Finalize Model and Make Predictions completed on ' + datetime.now().strftime('%A %B %d, %Y %I:%M:%S %p'))"
      ],
      "execution_count": 31,
      "outputs": []
    },
    {
      "cell_type": "code",
      "metadata": {
        "id": "OeNtc6N2zYqZ",
        "colab": {
          "base_uri": "https://localhost:8080/"
        },
        "outputId": "97f2b389-14e3-4640-d560-272f91c9f3b5"
      },
      "source": [
        "print ('Total time for the script:',(datetime.now() - start_time_script))"
      ],
      "execution_count": 32,
      "outputs": [
        {
          "output_type": "stream",
          "text": [
            "Total time for the script: 3:18:55.744410\n"
          ],
          "name": "stdout"
        }
      ]
    }
  ]
}